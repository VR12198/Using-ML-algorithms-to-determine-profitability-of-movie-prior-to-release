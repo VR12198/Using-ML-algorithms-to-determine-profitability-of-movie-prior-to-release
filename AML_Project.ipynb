{
 "cells": [
  {
   "cell_type": "markdown",
   "metadata": {
    "id": "5S4A4uF8Iwie"
   },
   "source": [
    "# AML GROUP 12 PROJECT:\n",
    "by -> Dharun Gautham J (21123006) and Varun Raizada (21105125)\n",
    "\n",
    "\n",
    "Objective: To determine the profitabilty of a movie prior to it's release. To do this we will be using  classification techniques. We will calculate  if a movie will earn profit (return >1) or loss (return<1)."
   ]
  },
  {
   "cell_type": "markdown",
   "metadata": {
    "id": "FO05VOdj8tUJ"
   },
   "source": [
    "# Movie Data Set\n",
    "\n",
    "This dataset is derived from Kaggle \"The Movies Dataset\".We'll be working with \"movies_metadata\", the metadata for over 45,000 movies listed in the Full MovieLens Dataset. The dataset consists of movies released on or before July 2017. Data points include budget, revenue, release dates, languages, production companies, countries, IMDB vote counts and vote averages, etc.\n",
    "\n",
    "Through data information, we can see that the original dataset has 45466 entries, and 24 total columns. Most of columns are object value which cannot be directly feed into neural networks. So we need to process them and change into numeric variables."
   ]
  },
  {
   "cell_type": "markdown",
   "metadata": {
    "id": "azdv2kxg8tUY"
   },
   "source": [
    "# Overview\n",
    "\n",
    "* a) Data Preparation\n",
    "\n",
    "* b) Exploratory Data Analysis\n",
    "\n",
    "* c) Data Engineering\n",
    "\n",
    "* d) Classification modeling\n",
    "\n",
    "* e) Results\n",
    "\n",
    "* f) Conclusion"
   ]
  },
  {
   "cell_type": "markdown",
   "metadata": {
    "id": "bWhuQudM8tUh"
   },
   "source": [
    "# Data Gathering and Description\n",
    "\n",
    "In this part, we'll set up the environment, import modules, read the data, and explore our data. Through the data processing, we'll change data types to fit models, handle missing values, and detect any outliers. After that, we'll wrangle the data, split data into X and y, and do some scalling preparing for modeling."
   ]
  },
  {
   "cell_type": "markdown",
   "metadata": {
    "id": "iQDwQKIC8tUp"
   },
   "source": [
    "Below are columns of the datasaet:\n",
    "\n",
    "* adult - Belongs to adult movies or not\n",
    "* belongs_to_collection - Belong to movie collections or not\n",
    "* budget - The budget of a movie. Some movies don't have this, it appears as 0\n",
    "* genres - Main genre of the movie\n",
    "* homepage - The website where can see the movie\n",
    "* id - Identifier column\n",
    "* imdb_id - Movies id on IMDB\n",
    "* original_language - Original language of film\n",
    "* original_title - Original title of film\n",
    "* overview - Movie content overview\n",
    "* popularity - shows weather it is popular\n",
    "* poster_path - jpg. path of the movie poster\n",
    "* production_companies - The production company\n",
    "* production_countries - Country of origin\n",
    "* release_date - Release date (YYYY-MM-DD)\n",
    "* revenue - The revenue of a movie. Some movies don't have this, it appears as 0\n",
    "* runtime - Duration of the movie\n",
    "* spoken_languages - Languages spoken throughout the film\n",
    "* status - Release or others\n",
    "* tagline - Movie tagline to advertise\n",
    "* title - English title\n",
    "* video - True of False\n",
    "* vote_average - TMDB vote average\n",
    "* vote_count - TMDB vote count"
   ]
  },
  {
   "cell_type": "code",
   "execution_count": 1,
   "metadata": {
    "id": "fJMDyMms8tUv"
   },
   "outputs": [],
   "source": [
    "# for reading data\n",
    "import pandas as pd\n",
    "import numpy as np\n",
    "import seaborn as sns\n",
    "import matplotlib.pyplot as plt \n",
    "%matplotlib inline\n",
    "from scipy import stats\n",
    "from sklearn.preprocessing import MinMaxScaler\n",
    "\n",
    "# For data splitting\n",
    "from sklearn.model_selection import train_test_split\n",
    "\n",
    "# for modeling\n",
    "from sklearn.linear_model import LogisticRegression # LR\n",
    "from keras import models # ANN\n",
    "from keras import layers\n",
    "from keras.models import Sequential\n",
    "from keras.callbacks import EarlyStopping\n",
    "from keras.layers import Dense\n",
    "from sklearn import svm # SVM\n",
    "from sklearn.tree import DecisionTreeClassifier # DTR\n",
    "from sklearn.neighbors import KNeighborsClassifier # KNN\n",
    "from sklearn.model_selection import GridSearchCV\n",
    "\n",
    "# classification error metrics\n",
    "from sklearn.metrics import accuracy_score\n",
    "from sklearn.metrics import confusion_matrix\n",
    "from sklearn.metrics import classification_report\n",
    "\n",
    "import warnings\n",
    "warnings.filterwarnings('ignore')"
   ]
  },
  {
   "cell_type": "code",
   "execution_count": 2,
   "metadata": {
    "id": "2lOZ8ZPL8tU2"
   },
   "outputs": [],
   "source": [
    "df = pd.read_csv(\"movies_metadata.csv\")"
   ]
  },
  {
   "cell_type": "markdown",
   "metadata": {
    "id": "7Jdlmiuw8tU5"
   },
   "source": [
    "# Head, Shape, Column names, data types, missing values, Outliers"
   ]
  },
  {
   "cell_type": "code",
   "execution_count": 3,
   "metadata": {
    "colab": {
     "base_uri": "https://localhost:8080/"
    },
    "id": "XDDwoHB38tU6",
    "outputId": "ccacc1b0-cab6-4956-b06f-95036902aad9"
   },
   "outputs": [
    {
     "name": "stdout",
     "output_type": "stream",
     "text": [
      "<class 'pandas.core.frame.DataFrame'>\n",
      "RangeIndex: 45466 entries, 0 to 45465\n",
      "Data columns (total 24 columns):\n",
      " #   Column                 Non-Null Count  Dtype  \n",
      "---  ------                 --------------  -----  \n",
      " 0   adult                  45466 non-null  object \n",
      " 1   belongs_to_collection  4494 non-null   object \n",
      " 2   budget                 45466 non-null  object \n",
      " 3   genres                 45466 non-null  object \n",
      " 4   homepage               7782 non-null   object \n",
      " 5   id                     45466 non-null  object \n",
      " 6   imdb_id                45449 non-null  object \n",
      " 7   original_language      45455 non-null  object \n",
      " 8   original_title         45466 non-null  object \n",
      " 9   overview               44512 non-null  object \n",
      " 10  popularity             45461 non-null  object \n",
      " 11  poster_path            45080 non-null  object \n",
      " 12  production_companies   45463 non-null  object \n",
      " 13  production_countries   45463 non-null  object \n",
      " 14  release_date           45379 non-null  object \n",
      " 15  revenue                45460 non-null  float64\n",
      " 16  runtime                45203 non-null  float64\n",
      " 17  spoken_languages       45460 non-null  object \n",
      " 18  status                 45379 non-null  object \n",
      " 19  tagline                20412 non-null  object \n",
      " 20  title                  45460 non-null  object \n",
      " 21  video                  45460 non-null  object \n",
      " 22  vote_average           45460 non-null  float64\n",
      " 23  vote_count             45460 non-null  float64\n",
      "dtypes: float64(4), object(20)\n",
      "memory usage: 8.3+ MB\n"
     ]
    }
   ],
   "source": [
    "#Summary of original dataset\n",
    "df.info()"
   ]
  },
  {
   "cell_type": "code",
   "execution_count": 4,
   "metadata": {
    "colab": {
     "base_uri": "https://localhost:8080/"
    },
    "id": "j_WA34dr8tU-",
    "outputId": "590fa7db-d99c-4173-ed59-5440c9f6756f"
   },
   "outputs": [
    {
     "data": {
      "text/plain": [
       "(45466, 24)"
      ]
     },
     "execution_count": 4,
     "metadata": {},
     "output_type": "execute_result"
    }
   ],
   "source": [
    "#Shape of original dataset\n",
    "df.shape"
   ]
  },
  {
   "cell_type": "markdown",
   "metadata": {
    "id": "a-bU4EwL8tVG"
   },
   "source": [
    "There are a total of 45,466 movies with 24 features. Most of the features have very few NaN values (apart from homepage and tagline). We will attempt at cleaning this dataset to a form suitable for analysis in the next section."
   ]
  },
  {
   "cell_type": "code",
   "execution_count": 5,
   "metadata": {
    "colab": {
     "base_uri": "https://localhost:8080/",
     "height": 750
    },
    "id": "MRth1s8l8tVI",
    "outputId": "ff85fd49-085f-4f3d-b296-1069a5524e0f"
   },
   "outputs": [
    {
     "data": {
      "text/html": [
       "\n",
       "  <div id=\"df-8b49c5ac-87b9-43bb-856a-e7eabea7f2d6\">\n",
       "    <div class=\"colab-df-container\">\n",
       "      <div>\n",
       "<style scoped>\n",
       "    .dataframe tbody tr th:only-of-type {\n",
       "        vertical-align: middle;\n",
       "    }\n",
       "\n",
       "    .dataframe tbody tr th {\n",
       "        vertical-align: top;\n",
       "    }\n",
       "\n",
       "    .dataframe thead th {\n",
       "        text-align: right;\n",
       "    }\n",
       "</style>\n",
       "<table border=\"1\" class=\"dataframe\">\n",
       "  <thead>\n",
       "    <tr style=\"text-align: right;\">\n",
       "      <th></th>\n",
       "      <th>adult</th>\n",
       "      <th>belongs_to_collection</th>\n",
       "      <th>budget</th>\n",
       "      <th>genres</th>\n",
       "      <th>homepage</th>\n",
       "      <th>id</th>\n",
       "      <th>imdb_id</th>\n",
       "      <th>original_language</th>\n",
       "      <th>original_title</th>\n",
       "      <th>overview</th>\n",
       "      <th>...</th>\n",
       "      <th>release_date</th>\n",
       "      <th>revenue</th>\n",
       "      <th>runtime</th>\n",
       "      <th>spoken_languages</th>\n",
       "      <th>status</th>\n",
       "      <th>tagline</th>\n",
       "      <th>title</th>\n",
       "      <th>video</th>\n",
       "      <th>vote_average</th>\n",
       "      <th>vote_count</th>\n",
       "    </tr>\n",
       "  </thead>\n",
       "  <tbody>\n",
       "    <tr>\n",
       "      <th>0</th>\n",
       "      <td>False</td>\n",
       "      <td>{'id': 10194, 'name': 'Toy Story Collection', ...</td>\n",
       "      <td>30000000</td>\n",
       "      <td>[{'id': 16, 'name': 'Animation'}, {'id': 35, '...</td>\n",
       "      <td>http://toystory.disney.com/toy-story</td>\n",
       "      <td>862</td>\n",
       "      <td>tt0114709</td>\n",
       "      <td>en</td>\n",
       "      <td>Toy Story</td>\n",
       "      <td>Led by Woody, Andy's toys live happily in his ...</td>\n",
       "      <td>...</td>\n",
       "      <td>1995-10-30</td>\n",
       "      <td>373554033.0</td>\n",
       "      <td>81.0</td>\n",
       "      <td>[{'iso_639_1': 'en', 'name': 'English'}]</td>\n",
       "      <td>Released</td>\n",
       "      <td>NaN</td>\n",
       "      <td>Toy Story</td>\n",
       "      <td>False</td>\n",
       "      <td>7.7</td>\n",
       "      <td>5415.0</td>\n",
       "    </tr>\n",
       "    <tr>\n",
       "      <th>1</th>\n",
       "      <td>False</td>\n",
       "      <td>NaN</td>\n",
       "      <td>65000000</td>\n",
       "      <td>[{'id': 12, 'name': 'Adventure'}, {'id': 14, '...</td>\n",
       "      <td>NaN</td>\n",
       "      <td>8844</td>\n",
       "      <td>tt0113497</td>\n",
       "      <td>en</td>\n",
       "      <td>Jumanji</td>\n",
       "      <td>When siblings Judy and Peter discover an encha...</td>\n",
       "      <td>...</td>\n",
       "      <td>1995-12-15</td>\n",
       "      <td>262797249.0</td>\n",
       "      <td>104.0</td>\n",
       "      <td>[{'iso_639_1': 'en', 'name': 'English'}, {'iso...</td>\n",
       "      <td>Released</td>\n",
       "      <td>Roll the dice and unleash the excitement!</td>\n",
       "      <td>Jumanji</td>\n",
       "      <td>False</td>\n",
       "      <td>6.9</td>\n",
       "      <td>2413.0</td>\n",
       "    </tr>\n",
       "    <tr>\n",
       "      <th>2</th>\n",
       "      <td>False</td>\n",
       "      <td>{'id': 119050, 'name': 'Grumpy Old Men Collect...</td>\n",
       "      <td>0</td>\n",
       "      <td>[{'id': 10749, 'name': 'Romance'}, {'id': 35, ...</td>\n",
       "      <td>NaN</td>\n",
       "      <td>15602</td>\n",
       "      <td>tt0113228</td>\n",
       "      <td>en</td>\n",
       "      <td>Grumpier Old Men</td>\n",
       "      <td>A family wedding reignites the ancient feud be...</td>\n",
       "      <td>...</td>\n",
       "      <td>1995-12-22</td>\n",
       "      <td>0.0</td>\n",
       "      <td>101.0</td>\n",
       "      <td>[{'iso_639_1': 'en', 'name': 'English'}]</td>\n",
       "      <td>Released</td>\n",
       "      <td>Still Yelling. Still Fighting. Still Ready for...</td>\n",
       "      <td>Grumpier Old Men</td>\n",
       "      <td>False</td>\n",
       "      <td>6.5</td>\n",
       "      <td>92.0</td>\n",
       "    </tr>\n",
       "    <tr>\n",
       "      <th>3</th>\n",
       "      <td>False</td>\n",
       "      <td>NaN</td>\n",
       "      <td>16000000</td>\n",
       "      <td>[{'id': 35, 'name': 'Comedy'}, {'id': 18, 'nam...</td>\n",
       "      <td>NaN</td>\n",
       "      <td>31357</td>\n",
       "      <td>tt0114885</td>\n",
       "      <td>en</td>\n",
       "      <td>Waiting to Exhale</td>\n",
       "      <td>Cheated on, mistreated and stepped on, the wom...</td>\n",
       "      <td>...</td>\n",
       "      <td>1995-12-22</td>\n",
       "      <td>81452156.0</td>\n",
       "      <td>127.0</td>\n",
       "      <td>[{'iso_639_1': 'en', 'name': 'English'}]</td>\n",
       "      <td>Released</td>\n",
       "      <td>Friends are the people who let you be yourself...</td>\n",
       "      <td>Waiting to Exhale</td>\n",
       "      <td>False</td>\n",
       "      <td>6.1</td>\n",
       "      <td>34.0</td>\n",
       "    </tr>\n",
       "    <tr>\n",
       "      <th>4</th>\n",
       "      <td>False</td>\n",
       "      <td>{'id': 96871, 'name': 'Father of the Bride Col...</td>\n",
       "      <td>0</td>\n",
       "      <td>[{'id': 35, 'name': 'Comedy'}]</td>\n",
       "      <td>NaN</td>\n",
       "      <td>11862</td>\n",
       "      <td>tt0113041</td>\n",
       "      <td>en</td>\n",
       "      <td>Father of the Bride Part II</td>\n",
       "      <td>Just when George Banks has recovered from his ...</td>\n",
       "      <td>...</td>\n",
       "      <td>1995-02-10</td>\n",
       "      <td>76578911.0</td>\n",
       "      <td>106.0</td>\n",
       "      <td>[{'iso_639_1': 'en', 'name': 'English'}]</td>\n",
       "      <td>Released</td>\n",
       "      <td>Just When His World Is Back To Normal... He's ...</td>\n",
       "      <td>Father of the Bride Part II</td>\n",
       "      <td>False</td>\n",
       "      <td>5.7</td>\n",
       "      <td>173.0</td>\n",
       "    </tr>\n",
       "  </tbody>\n",
       "</table>\n",
       "<p>5 rows × 24 columns</p>\n",
       "</div>\n",
       "      <button class=\"colab-df-convert\" onclick=\"convertToInteractive('df-8b49c5ac-87b9-43bb-856a-e7eabea7f2d6')\"\n",
       "              title=\"Convert this dataframe to an interactive table.\"\n",
       "              style=\"display:none;\">\n",
       "        \n",
       "  <svg xmlns=\"http://www.w3.org/2000/svg\" height=\"24px\"viewBox=\"0 0 24 24\"\n",
       "       width=\"24px\">\n",
       "    <path d=\"M0 0h24v24H0V0z\" fill=\"none\"/>\n",
       "    <path d=\"M18.56 5.44l.94 2.06.94-2.06 2.06-.94-2.06-.94-.94-2.06-.94 2.06-2.06.94zm-11 1L8.5 8.5l.94-2.06 2.06-.94-2.06-.94L8.5 2.5l-.94 2.06-2.06.94zm10 10l.94 2.06.94-2.06 2.06-.94-2.06-.94-.94-2.06-.94 2.06-2.06.94z\"/><path d=\"M17.41 7.96l-1.37-1.37c-.4-.4-.92-.59-1.43-.59-.52 0-1.04.2-1.43.59L10.3 9.45l-7.72 7.72c-.78.78-.78 2.05 0 2.83L4 21.41c.39.39.9.59 1.41.59.51 0 1.02-.2 1.41-.59l7.78-7.78 2.81-2.81c.8-.78.8-2.07 0-2.86zM5.41 20L4 18.59l7.72-7.72 1.47 1.35L5.41 20z\"/>\n",
       "  </svg>\n",
       "      </button>\n",
       "      \n",
       "  <style>\n",
       "    .colab-df-container {\n",
       "      display:flex;\n",
       "      flex-wrap:wrap;\n",
       "      gap: 12px;\n",
       "    }\n",
       "\n",
       "    .colab-df-convert {\n",
       "      background-color: #E8F0FE;\n",
       "      border: none;\n",
       "      border-radius: 50%;\n",
       "      cursor: pointer;\n",
       "      display: none;\n",
       "      fill: #1967D2;\n",
       "      height: 32px;\n",
       "      padding: 0 0 0 0;\n",
       "      width: 32px;\n",
       "    }\n",
       "\n",
       "    .colab-df-convert:hover {\n",
       "      background-color: #E2EBFA;\n",
       "      box-shadow: 0px 1px 2px rgba(60, 64, 67, 0.3), 0px 1px 3px 1px rgba(60, 64, 67, 0.15);\n",
       "      fill: #174EA6;\n",
       "    }\n",
       "\n",
       "    [theme=dark] .colab-df-convert {\n",
       "      background-color: #3B4455;\n",
       "      fill: #D2E3FC;\n",
       "    }\n",
       "\n",
       "    [theme=dark] .colab-df-convert:hover {\n",
       "      background-color: #434B5C;\n",
       "      box-shadow: 0px 1px 3px 1px rgba(0, 0, 0, 0.15);\n",
       "      filter: drop-shadow(0px 1px 2px rgba(0, 0, 0, 0.3));\n",
       "      fill: #FFFFFF;\n",
       "    }\n",
       "  </style>\n",
       "\n",
       "      <script>\n",
       "        const buttonEl =\n",
       "          document.querySelector('#df-8b49c5ac-87b9-43bb-856a-e7eabea7f2d6 button.colab-df-convert');\n",
       "        buttonEl.style.display =\n",
       "          google.colab.kernel.accessAllowed ? 'block' : 'none';\n",
       "\n",
       "        async function convertToInteractive(key) {\n",
       "          const element = document.querySelector('#df-8b49c5ac-87b9-43bb-856a-e7eabea7f2d6');\n",
       "          const dataTable =\n",
       "            await google.colab.kernel.invokeFunction('convertToInteractive',\n",
       "                                                     [key], {});\n",
       "          if (!dataTable) return;\n",
       "\n",
       "          const docLinkHtml = 'Like what you see? Visit the ' +\n",
       "            '<a target=\"_blank\" href=https://colab.research.google.com/notebooks/data_table.ipynb>data table notebook</a>'\n",
       "            + ' to learn more about interactive tables.';\n",
       "          element.innerHTML = '';\n",
       "          dataTable['output_type'] = 'display_data';\n",
       "          await google.colab.output.renderOutput(dataTable, element);\n",
       "          const docLink = document.createElement('div');\n",
       "          docLink.innerHTML = docLinkHtml;\n",
       "          element.appendChild(docLink);\n",
       "        }\n",
       "      </script>\n",
       "    </div>\n",
       "  </div>\n",
       "  "
      ],
      "text/plain": [
       "   adult                              belongs_to_collection    budget  \\\n",
       "0  False  {'id': 10194, 'name': 'Toy Story Collection', ...  30000000   \n",
       "1  False                                                NaN  65000000   \n",
       "2  False  {'id': 119050, 'name': 'Grumpy Old Men Collect...         0   \n",
       "3  False                                                NaN  16000000   \n",
       "4  False  {'id': 96871, 'name': 'Father of the Bride Col...         0   \n",
       "\n",
       "                                              genres  \\\n",
       "0  [{'id': 16, 'name': 'Animation'}, {'id': 35, '...   \n",
       "1  [{'id': 12, 'name': 'Adventure'}, {'id': 14, '...   \n",
       "2  [{'id': 10749, 'name': 'Romance'}, {'id': 35, ...   \n",
       "3  [{'id': 35, 'name': 'Comedy'}, {'id': 18, 'nam...   \n",
       "4                     [{'id': 35, 'name': 'Comedy'}]   \n",
       "\n",
       "                               homepage     id    imdb_id original_language  \\\n",
       "0  http://toystory.disney.com/toy-story    862  tt0114709                en   \n",
       "1                                   NaN   8844  tt0113497                en   \n",
       "2                                   NaN  15602  tt0113228                en   \n",
       "3                                   NaN  31357  tt0114885                en   \n",
       "4                                   NaN  11862  tt0113041                en   \n",
       "\n",
       "                original_title  \\\n",
       "0                    Toy Story   \n",
       "1                      Jumanji   \n",
       "2             Grumpier Old Men   \n",
       "3            Waiting to Exhale   \n",
       "4  Father of the Bride Part II   \n",
       "\n",
       "                                            overview  ... release_date  \\\n",
       "0  Led by Woody, Andy's toys live happily in his ...  ...   1995-10-30   \n",
       "1  When siblings Judy and Peter discover an encha...  ...   1995-12-15   \n",
       "2  A family wedding reignites the ancient feud be...  ...   1995-12-22   \n",
       "3  Cheated on, mistreated and stepped on, the wom...  ...   1995-12-22   \n",
       "4  Just when George Banks has recovered from his ...  ...   1995-02-10   \n",
       "\n",
       "       revenue runtime                                   spoken_languages  \\\n",
       "0  373554033.0    81.0           [{'iso_639_1': 'en', 'name': 'English'}]   \n",
       "1  262797249.0   104.0  [{'iso_639_1': 'en', 'name': 'English'}, {'iso...   \n",
       "2          0.0   101.0           [{'iso_639_1': 'en', 'name': 'English'}]   \n",
       "3   81452156.0   127.0           [{'iso_639_1': 'en', 'name': 'English'}]   \n",
       "4   76578911.0   106.0           [{'iso_639_1': 'en', 'name': 'English'}]   \n",
       "\n",
       "     status                                            tagline  \\\n",
       "0  Released                                                NaN   \n",
       "1  Released          Roll the dice and unleash the excitement!   \n",
       "2  Released  Still Yelling. Still Fighting. Still Ready for...   \n",
       "3  Released  Friends are the people who let you be yourself...   \n",
       "4  Released  Just When His World Is Back To Normal... He's ...   \n",
       "\n",
       "                         title  video vote_average vote_count  \n",
       "0                    Toy Story  False          7.7     5415.0  \n",
       "1                      Jumanji  False          6.9     2413.0  \n",
       "2             Grumpier Old Men  False          6.5       92.0  \n",
       "3            Waiting to Exhale  False          6.1       34.0  \n",
       "4  Father of the Bride Part II  False          5.7      173.0  \n",
       "\n",
       "[5 rows x 24 columns]"
      ]
     },
     "execution_count": 5,
     "metadata": {},
     "output_type": "execute_result"
    }
   ],
   "source": [
    "#Let's look into first few rows of the dataset to check the content of each column\n",
    "df.head()"
   ]
  },
  {
   "cell_type": "code",
   "execution_count": 6,
   "metadata": {
    "colab": {
     "base_uri": "https://localhost:8080/",
     "height": 296
    },
    "id": "KxxY4pklqH-k",
    "outputId": "348ab1c6-ee1b-49c6-a7f4-cd9eeb5bd69f"
   },
   "outputs": [
    {
     "data": {
      "text/plain": [
       "Text(0.5, 0, 'Voter Rating')"
      ]
     },
     "execution_count": 6,
     "metadata": {},
     "output_type": "execute_result"
    },
    {
     "data": {
      "image/png": "[encoded data removed]",
      "text/plain": [
       "<Figure size 432x288 with 1 Axes>"
      ]
     },
     "metadata": {
      "needs_background": "light"
     },
     "output_type": "display_data"
    }
   ],
   "source": [
    "# voter_rating vs frequency plot\n",
    "\n",
    "df['vote_average'].plot.hist()\n",
    "plt.xlabel('Voter Rating')"
   ]
  },
  {
   "cell_type": "code",
   "execution_count": 7,
   "metadata": {
    "colab": {
     "base_uri": "https://localhost:8080/",
     "height": 296
    },
    "id": "ki7nzmE-qN0q",
    "outputId": "9a62ab14-adf4-4803-aef5-621e37f2062d"
   },
   "outputs": [
    {
     "data": {
      "text/plain": [
       "Text(0, 0.5, 'No. of Voters')"
      ]
     },
     "execution_count": 7,
     "metadata": {},
     "output_type": "execute_result"
    },
    {
     "data": {
      "image/png": "[encoded data removed]",
      "text/plain": [
       "<Figure size 432x288 with 1 Axes>"
      ]
     },
     "metadata": {
      "needs_background": "light"
     },
     "output_type": "display_data"
    }
   ],
   "source": [
    "# Voter Rating vs No. of Voters plot\n",
    "\n",
    "df.plot.scatter(\"vote_average\", \"vote_count\")\n",
    "plt.xlabel('Voter Rating')\n",
    "plt.ylabel('No. of Voters')"
   ]
  },
  {
   "cell_type": "code",
   "execution_count": 8,
   "metadata": {
    "colab": {
     "base_uri": "https://localhost:8080/",
     "height": 290
    },
    "id": "jk-XOn1gqRAO",
    "outputId": "e7b315ed-2faf-4c2f-976f-9caaf0b46b80"
   },
   "outputs": [
    {
     "data": {
      "image/png": "[encoded data removed]",
      "text/plain": [
       "<Figure size 432x288 with 1 Axes>"
      ]
     },
     "metadata": {
      "needs_background": "light"
     },
     "output_type": "display_data"
    }
   ],
   "source": [
    "#Budget and Revenue scatter plot\n",
    "\n",
    "df.plot.scatter(\"budget\", \"revenue\")\n",
    "plt.xlabel('Budget')\n",
    "plt.ylabel('Revenue')\n",
    "plt.show()"
   ]
  },
  {
   "cell_type": "markdown",
   "metadata": {
    "id": "DwRq1qkn8tVO"
   },
   "source": [
    "# Data Engineering"
   ]
  },
  {
   "cell_type": "code",
   "execution_count": 9,
   "metadata": {
    "colab": {
     "base_uri": "https://localhost:8080/"
    },
    "id": "XDYo3wZS8tVU",
    "outputId": "af8d80af-cc2c-4ed7-fb0e-6bb1991255fd"
   },
   "outputs": [
    {
     "name": "stdout",
     "output_type": "stream",
     "text": [
      "<class 'pandas.core.frame.DataFrame'>\n",
      "RangeIndex: 45466 entries, 0 to 45465\n",
      "Data columns (total 7 columns):\n",
      " #   Column        Non-Null Count  Dtype  \n",
      "---  ------        --------------  -----  \n",
      " 0   adult         45466 non-null  object \n",
      " 1   budget        45466 non-null  object \n",
      " 2   genres        45466 non-null  object \n",
      " 3   popularity    45461 non-null  object \n",
      " 4   revenue       45460 non-null  float64\n",
      " 5   vote_average  45460 non-null  float64\n",
      " 6   vote_count    45460 non-null  float64\n",
      "dtypes: float64(3), object(4)\n",
      "memory usage: 2.4+ MB\n"
     ]
    }
   ],
   "source": [
    "# As we will be concentrating on numerical columns let's delete the text columns, which we do not need for solving the business problem\n",
    "df.drop(['id','belongs_to_collection', 'homepage', 'imdb_id', 'original_language', 'original_title', 'overview', 'poster_path', 'production_companies', 'production_countries', 'runtime', 'release_date', 'spoken_languages', 'status', 'tagline', 'title', 'video'], axis=1, inplace=True)\n",
    "df.info()"
   ]
  },
  {
   "cell_type": "code",
   "execution_count": 10,
   "metadata": {
    "colab": {
     "base_uri": "https://localhost:8080/"
    },
    "id": "wXhCZwNt8tVX",
    "outputId": "aac7ee54-c486-498c-aaea-188666c66687"
   },
   "outputs": [
    {
     "data": {
      "text/plain": [
       "(38052, 7)"
      ]
     },
     "execution_count": 10,
     "metadata": {},
     "output_type": "execute_result"
    }
   ],
   "source": [
    "df[df['revenue'] == 0].shape"
   ]
  },
  {
   "cell_type": "markdown",
   "metadata": {
    "id": "NMMsO-gc8tVZ"
   },
   "source": [
    "We see that the majority of the movies have a recorded revenue of 0. This indicates that we do not have information about the total revenue for these movies. Although this forms the majority of the movies available to us, we will use revenue for classification purpose  from the remaining 7000 movies."
   ]
  },
  {
   "cell_type": "code",
   "execution_count": 11,
   "metadata": {
    "id": "wEvun6Ti8tVa"
   },
   "outputs": [],
   "source": [
    "df['revenue'] = df['revenue'].replace(0, np.nan)"
   ]
  },
  {
   "cell_type": "markdown",
   "metadata": {
    "id": "AD9YFs7C8tVc"
   },
   "source": [
    "The budget feature has some unclean values that makes Pandas assign it as a generic object. We proceed to convert this into a numeric variable and replace all the non-numeric values with NaN. Finally, as with budget, we will convert all the values of 0 with NaN to indicate the absence of information regarding budget."
   ]
  },
  {
   "cell_type": "code",
   "execution_count": 12,
   "metadata": {
    "colab": {
     "base_uri": "https://localhost:8080/"
    },
    "id": "3CY3FMc28tVe",
    "outputId": "e699868f-a5ec-49d8-f6d9-d229ac915aeb"
   },
   "outputs": [
    {
     "data": {
      "text/plain": [
       "(36576, 7)"
      ]
     },
     "execution_count": 12,
     "metadata": {},
     "output_type": "execute_result"
    }
   ],
   "source": [
    "df['budget'] = pd.to_numeric(df['budget'], errors='coerce')\n",
    "df['budget'] = df['budget'].replace(0, np.nan)\n",
    "df[df['budget'].isnull()].shape"
   ]
  },
  {
   "cell_type": "markdown",
   "metadata": {
    "id": "GXewoF3V8tVg"
   },
   "source": [
    "We will create a return feature that will help us capture a more accurate picture of the financial success of a movie. Presently, our data will not be able to judge if a 200 million dollar budget movie that earned 100 million dollar did better than a 50,000 dollars budget movie taking in 200,000 dollars. This feature will be able to capture that information.\n",
    "\n",
    "A return value > 1 would indicate profit whereas a return value < 1 would indicate a loss."
   ]
  },
  {
   "cell_type": "code",
   "execution_count": 13,
   "metadata": {
    "colab": {
     "base_uri": "https://localhost:8080/"
    },
    "id": "QaHAeC0r8tVh",
    "outputId": "2bbeb91f-da97-42ed-9e98-5b4537900a04"
   },
   "outputs": [
    {
     "data": {
      "text/plain": [
       "(40085, 8)"
      ]
     },
     "execution_count": 13,
     "metadata": {},
     "output_type": "execute_result"
    }
   ],
   "source": [
    "df['return'] = df['revenue'] / df['budget']\n",
    "df[df['return'].isnull()].shape"
   ]
  },
  {
   "cell_type": "code",
   "execution_count": 14,
   "metadata": {
    "colab": {
     "base_uri": "https://localhost:8080/"
    },
    "id": "Kgr8tRBo8tVk",
    "outputId": "8dd5b8bd-2fa3-42de-8c34-ef61798de04d"
   },
   "outputs": [
    {
     "data": {
      "text/plain": [
       "False                                                                                                                             45454\n",
       "True                                                                                                                                  9\n",
       " - Written by Ørnås                                                                                                                   1\n",
       " Rune Balot goes to a casino connected to the October corporation to try to wrap up her case once and for all.                        1\n",
       " Avalanche Sharks tells the story of a bikini contest that turns into a horrifying affair when it is hit by a shark avalanche.        1\n",
       "Name: adult, dtype: int64"
      ]
     },
     "execution_count": 14,
     "metadata": {},
     "output_type": "execute_result"
    }
   ],
   "source": [
    "df['adult'].value_counts()"
   ]
  },
  {
   "cell_type": "markdown",
   "metadata": {
    "id": "EksUNx3N8tVm"
   },
   "source": [
    "There are only 9 adult movies in this dataset. The adult feature therefore is not of much use to us and can be safely dropped."
   ]
  },
  {
   "cell_type": "code",
   "execution_count": 15,
   "metadata": {
    "id": "iYavTiiU8tVo"
   },
   "outputs": [],
   "source": [
    "df = df.drop('adult', axis=1)"
   ]
  },
  {
   "cell_type": "markdown",
   "metadata": {
    "id": "27EdDlsh8tVq"
   },
   "source": [
    "Exploring Popularity, Vote Average and Vote Count"
   ]
  },
  {
   "cell_type": "code",
   "execution_count": 16,
   "metadata": {
    "id": "ll9AVITx8tVr"
   },
   "outputs": [],
   "source": [
    "def clean_numeric(x):\n",
    "    try:\n",
    "        return float(x)\n",
    "    except:\n",
    "        return np.nan"
   ]
  },
  {
   "cell_type": "code",
   "execution_count": 17,
   "metadata": {
    "id": "PrWVuofB8tVt"
   },
   "outputs": [],
   "source": [
    "df['popularity'] = df['popularity'].apply(clean_numeric).astype('float')\n",
    "df[\"vote_count\"] = df[\"vote_count\"].apply(clean_numeric).astype('float')\n",
    "df['vote_average'] = df['vote_average'].apply(clean_numeric).astype('float')"
   ]
  },
  {
   "cell_type": "code",
   "execution_count": 18,
   "metadata": {
    "colab": {
     "base_uri": "https://localhost:8080/"
    },
    "id": "a7QMrPxE8tVu",
    "outputId": "de89d062-ab6c-4f1e-80c7-9c77ced17f70"
   },
   "outputs": [
    {
     "data": {
      "text/plain": [
       "count    45460.000000\n",
       "mean         2.921478\n",
       "std          6.005414\n",
       "min          0.000000\n",
       "25%          0.385948\n",
       "50%          1.127685\n",
       "75%          3.678902\n",
       "max        547.488298\n",
       "Name: popularity, dtype: float64"
      ]
     },
     "execution_count": 18,
     "metadata": {},
     "output_type": "execute_result"
    }
   ],
   "source": [
    "#Summary statistics of each feature\n",
    "df['popularity'].describe()"
   ]
  },
  {
   "cell_type": "code",
   "execution_count": 19,
   "metadata": {
    "colab": {
     "base_uri": "https://localhost:8080/",
     "height": 279
    },
    "id": "XUrVpi1e8tVv",
    "outputId": "2daf6e86-373b-4cd4-923a-78724e2333e6"
   },
   "outputs": [
    {
     "data": {
      "image/png": "[encoded data removed]",
      "text/plain": [
       "<Figure size 432x288 with 1 Axes>"
      ]
     },
     "metadata": {
      "needs_background": "light"
     },
     "output_type": "display_data"
    }
   ],
   "source": [
    "sns.distplot(df['popularity'].fillna(df['popularity'].median()))\n",
    "plt.show()"
   ]
  },
  {
   "cell_type": "code",
   "execution_count": 20,
   "metadata": {
    "_cell_guid": "b1076dfc-b9ad-4769-8c92-a6c4dae69d19",
    "_uuid": "8f2839f25d086af736a60e9eeb907d3b93b6e0e5",
    "colab": {
     "base_uri": "https://localhost:8080/",
     "height": 282
    },
    "id": "xI6F_vAD8tVw",
    "outputId": "dbae4960-db69-43f2-f77e-1334cb2b02d2"
   },
   "outputs": [
    {
     "data": {
      "text/plain": [
       "<matplotlib.axes._subplots.AxesSubplot at 0x7fe05df59810>"
      ]
     },
     "execution_count": 20,
     "metadata": {},
     "output_type": "execute_result"
    },
    {
     "data": {
      "image/png": "[encoded data removed]",
      "text/plain": [
       "<Figure size 432x288 with 1 Axes>"
      ]
     },
     "metadata": {
      "needs_background": "light"
     },
     "output_type": "display_data"
    }
   ],
   "source": [
    "df['popularity'].plot(logy=True, kind='hist')"
   ]
  },
  {
   "cell_type": "markdown",
   "metadata": {
    "id": "mGXiBlwj8tVy"
   },
   "source": [
    "The Popularity score seems to be an extremely skewed quantity with a mean of only 2.9 but maximum values reaching as high as 547, which is almost 1800% greater than the mean. However, as can be seen from the distribution plot, almost all movies have a popularity score less than 10 (the 75th percentile is at 3.678902)."
   ]
  },
  {
   "cell_type": "code",
   "execution_count": 21,
   "metadata": {
    "colab": {
     "base_uri": "https://localhost:8080/"
    },
    "id": "2wu_oy2g8tVz",
    "outputId": "e67da990-73b6-4045-dfbc-26ef9cb80927"
   },
   "outputs": [
    {
     "data": {
      "text/plain": [
       "count    45460.000000\n",
       "mean       109.897338\n",
       "std        491.310374\n",
       "min          0.000000\n",
       "25%          3.000000\n",
       "50%         10.000000\n",
       "75%         34.000000\n",
       "max      14075.000000\n",
       "Name: vote_count, dtype: float64"
      ]
     },
     "execution_count": 21,
     "metadata": {},
     "output_type": "execute_result"
    }
   ],
   "source": [
    "df['vote_count'].describe()"
   ]
  },
  {
   "cell_type": "markdown",
   "metadata": {
    "id": "lX7eALGp8tV0"
   },
   "source": [
    "As with popularity scores, the distribution of vote counts is extremely skewed with the median vote count standing at a paltry 10 votes. The most votes a single movie has got stands at 14,07"
   ]
  },
  {
   "cell_type": "code",
   "execution_count": 22,
   "metadata": {
    "colab": {
     "base_uri": "https://localhost:8080/"
    },
    "id": "vBtfQXPb8tV1",
    "outputId": "07dbd377-dee5-487e-f96c-6d4e795d45cf"
   },
   "outputs": [
    {
     "data": {
      "text/plain": [
       "count    42462.000000\n",
       "mean         6.014877\n",
       "std          1.256208\n",
       "min          0.500000\n",
       "25%          5.300000\n",
       "50%          6.100000\n",
       "75%          6.900000\n",
       "max         10.000000\n",
       "Name: vote_average, dtype: float64"
      ]
     },
     "execution_count": 22,
     "metadata": {},
     "output_type": "execute_result"
    }
   ],
   "source": [
    "df['vote_average'] = df['vote_average'].replace(0, np.nan)\n",
    "df['vote_average'].describe()"
   ]
  },
  {
   "cell_type": "code",
   "execution_count": 23,
   "metadata": {
    "_cell_guid": "79c7e3d0-c299-4dcb-8224-4455121ee9b0",
    "_uuid": "d629ff2d2480ee46fbb7e2d37f6b5fab8052498a",
    "colab": {
     "base_uri": "https://localhost:8080/",
     "height": 298
    },
    "id": "z9yAPcPY8tV3",
    "outputId": "454945d0-9b4e-4b3f-c6d4-9fa2d0314de3"
   },
   "outputs": [
    {
     "data": {
      "text/plain": [
       "<matplotlib.axes._subplots.AxesSubplot at 0x7fe0595d4890>"
      ]
     },
     "execution_count": 23,
     "metadata": {},
     "output_type": "execute_result"
    },
    {
     "data": {
      "image/png": "[encoded data removed]",
      "text/plain": [
       "<Figure size 432x288 with 1 Axes>"
      ]
     },
     "metadata": {
      "needs_background": "light"
     },
     "output_type": "display_data"
    }
   ],
   "source": [
    "sns.distplot(df['vote_average'].fillna(df['vote_average'].median()))"
   ]
  },
  {
   "cell_type": "markdown",
   "metadata": {
    "id": "Y9aprZ7k8tV4"
   },
   "source": [
    "It appears that Users in this dataset are extremely strict in their ratings. The mean rating is only a 5.6 on a scale of 10. Half the movies have a rating of less than or equal to 6"
   ]
  },
  {
   "cell_type": "markdown",
   "metadata": {
    "id": "VJFd0iht8tV9"
   },
   "source": [
    "Let's explore budget and revenue a bit more!"
   ]
  },
  {
   "cell_type": "code",
   "execution_count": 24,
   "metadata": {
    "colab": {
     "base_uri": "https://localhost:8080/"
    },
    "id": "fhO1oPL88tV-",
    "outputId": "f5004385-9d15-48e6-84e3-e5b28ac7b65d"
   },
   "outputs": [
    {
     "data": {
      "text/plain": [
       "count    8.890000e+03\n",
       "mean     2.160428e+07\n",
       "std      3.431063e+07\n",
       "min      1.000000e+00\n",
       "25%      2.000000e+06\n",
       "50%      8.000000e+06\n",
       "75%      2.500000e+07\n",
       "max      3.800000e+08\n",
       "Name: budget, dtype: float64"
      ]
     },
     "execution_count": 24,
     "metadata": {},
     "output_type": "execute_result"
    }
   ],
   "source": [
    "df['budget'].describe()"
   ]
  },
  {
   "cell_type": "markdown",
   "metadata": {
    "id": "eIcOiz-Y8tV_"
   },
   "source": [
    "The mean budget of a film is 21.6 million dollars whereas the median budget is far smaller at 8 million dollars. This strongly suggests the mean being influenced by outliers."
   ]
  },
  {
   "cell_type": "code",
   "execution_count": 25,
   "metadata": {
    "colab": {
     "base_uri": "https://localhost:8080/",
     "height": 307
    },
    "id": "5LXhVBjH8tWA",
    "outputId": "02c7a9f3-ead2-4c78-ed33-7116bf32f0d6"
   },
   "outputs": [
    {
     "data": {
      "text/plain": [
       "<matplotlib.axes._subplots.AxesSubplot at 0x7fe059490a10>"
      ]
     },
     "execution_count": 25,
     "metadata": {},
     "output_type": "execute_result"
    },
    {
     "data": {
      "image/png": "[encoded data removed]",
      "text/plain": [
       "<Figure size 432x288 with 1 Axes>"
      ]
     },
     "metadata": {
      "needs_background": "light"
     },
     "output_type": "display_data"
    }
   ],
   "source": [
    "sns.distplot(df[df['budget'].notnull()]['budget'])"
   ]
  },
  {
   "cell_type": "code",
   "execution_count": 26,
   "metadata": {
    "colab": {
     "base_uri": "https://localhost:8080/",
     "height": 298
    },
    "id": "HKfmvs1i8tWE",
    "outputId": "2482227c-eed5-4db2-e75d-37a8964784cb"
   },
   "outputs": [
    {
     "data": {
      "text/plain": [
       "<matplotlib.axes._subplots.AxesSubplot at 0x7fe059499610>"
      ]
     },
     "execution_count": 26,
     "metadata": {},
     "output_type": "execute_result"
    },
    {
     "data": {
      "image/png": "[encoded data removed]",
      "text/plain": [
       "<Figure size 432x288 with 1 Axes>"
      ]
     },
     "metadata": {
      "needs_background": "light"
     },
     "output_type": "display_data"
    }
   ],
   "source": [
    "df['budget'].plot(logy=True, kind='hist')"
   ]
  },
  {
   "cell_type": "markdown",
   "metadata": {
    "id": "MukXbPd28tWG"
   },
   "source": [
    "The distribution of movie budgets shows an exponential decay. More than 75% of the movies have a budget smaller than 25 million dollars."
   ]
  },
  {
   "cell_type": "code",
   "execution_count": 27,
   "metadata": {
    "colab": {
     "base_uri": "https://localhost:8080/"
    },
    "id": "HMOxC9368tWH",
    "outputId": "28e9672b-2996-4a47-e3bf-542114032622"
   },
   "outputs": [
    {
     "data": {
      "text/plain": [
       "count    7.408000e+03\n",
       "mean     6.878739e+07\n",
       "std      1.464203e+08\n",
       "min      1.000000e+00\n",
       "25%      2.400000e+06\n",
       "50%      1.682272e+07\n",
       "75%      6.722707e+07\n",
       "max      2.787965e+09\n",
       "Name: revenue, dtype: float64"
      ]
     },
     "execution_count": 27,
     "metadata": {},
     "output_type": "execute_result"
    }
   ],
   "source": [
    "df['revenue'].describe()"
   ]
  },
  {
   "cell_type": "markdown",
   "metadata": {
    "id": "5kBaxwug8tWK"
   },
   "source": [
    "The mean gross of a movie is 68.7 million dollars whereas the median gross is much lower at 16.8 million dollars, suggesting the skewed nature of revenue. The lowest revenue generated by a movie is just 1 dollar whereas the highest grossing movie of all time is astonishing 2.78 billion dollars."
   ]
  },
  {
   "cell_type": "code",
   "execution_count": 28,
   "metadata": {
    "colab": {
     "base_uri": "https://localhost:8080/",
     "height": 307
    },
    "id": "g6a45R8g8tWL",
    "outputId": "88e750e9-ee50-4c12-97ff-f7c8282b4ae0"
   },
   "outputs": [
    {
     "data": {
      "text/plain": [
       "<matplotlib.axes._subplots.AxesSubplot at 0x7fe05e7f8910>"
      ]
     },
     "execution_count": 28,
     "metadata": {},
     "output_type": "execute_result"
    },
    {
     "data": {
      "image/png": "[encoded data removed]",
      "text/plain": [
       "<Figure size 432x288 with 1 Axes>"
      ]
     },
     "metadata": {
      "needs_background": "light"
     },
     "output_type": "display_data"
    }
   ],
   "source": [
    "sns.distplot(df[df['revenue'].notnull()]['revenue'])"
   ]
  },
  {
   "cell_type": "markdown",
   "metadata": {
    "id": "r7RF-U3u8tWM"
   },
   "source": [
    "The distribution of revenue undergoes exponential decay just like budget."
   ]
  },
  {
   "cell_type": "code",
   "execution_count": 29,
   "metadata": {
    "colab": {
     "base_uri": "https://localhost:8080/"
    },
    "id": "71RWWdCz8tWO",
    "outputId": "57d7f33d-0f11-4bcd-d279-1de181b82fc1"
   },
   "outputs": [
    {
     "data": {
      "text/plain": [
       "budget          36576\n",
       "genres              0\n",
       "popularity          6\n",
       "revenue         38058\n",
       "vote_average     3004\n",
       "vote_count          6\n",
       "return          40085\n",
       "dtype: int64"
      ]
     },
     "execution_count": 29,
     "metadata": {},
     "output_type": "execute_result"
    }
   ],
   "source": [
    "#Let's check the number of missing values in the dataset\n",
    "df.isnull().sum()"
   ]
  },
  {
   "cell_type": "markdown",
   "metadata": {
    "id": "WqPSEzjQ8tWQ"
   },
   "source": [
    "As mentioned earlier our original dataset has lot of missing values but our analysis can still be done with the small set of rows as well. We will be further exploring these in our outlier detection section."
   ]
  },
  {
   "cell_type": "code",
   "execution_count": 30,
   "metadata": {
    "colab": {
     "base_uri": "https://localhost:8080/"
    },
    "id": "1B34ms8M8tWT",
    "outputId": "77b6be0b-9e5a-49da-8d11-27df6615cefd"
   },
   "outputs": [
    {
     "data": {
      "text/plain": [
       "budget          0\n",
       "genres          0\n",
       "popularity      0\n",
       "revenue         0\n",
       "vote_average    0\n",
       "vote_count      0\n",
       "return          0\n",
       "dtype: int64"
      ]
     },
     "execution_count": 30,
     "metadata": {},
     "output_type": "execute_result"
    }
   ],
   "source": [
    "#Dropping rows with missing values\n",
    "df.dropna(inplace=True)\n",
    "#Check the number of missing values to ensure we have none\n",
    "df.isnull().sum()"
   ]
  },
  {
   "cell_type": "markdown",
   "metadata": {
    "id": "7qLzPtKi8tWV"
   },
   "source": [
    "We will perform the following feature engineering tasks:\n",
    "\n",
    "1. Round up popularity values to 2 decimal values and we will be converting those into integer datatypes.\n",
    "2. We will be creating dummy variables for column: genres"
   ]
  },
  {
   "cell_type": "code",
   "execution_count": 31,
   "metadata": {
    "colab": {
     "base_uri": "https://localhost:8080/"
    },
    "id": "8L76PIHK8tWY",
    "outputId": "c8bbcdf7-eeea-4298-8f36-0df229515211"
   },
   "outputs": [
    {
     "name": "stdout",
     "output_type": "stream",
     "text": [
      "<class 'pandas.core.frame.DataFrame'>\n",
      "Int64Index: 5374 entries, 0 to 45422\n",
      "Data columns (total 7 columns):\n",
      " #   Column        Non-Null Count  Dtype  \n",
      "---  ------        --------------  -----  \n",
      " 0   budget        5374 non-null   float64\n",
      " 1   genres        5374 non-null   object \n",
      " 2   popularity    5374 non-null   float64\n",
      " 3   revenue       5374 non-null   float64\n",
      " 4   vote_average  5374 non-null   float64\n",
      " 5   vote_count    5374 non-null   float64\n",
      " 6   return        5374 non-null   float64\n",
      "dtypes: float64(6), object(1)\n",
      "memory usage: 335.9+ KB\n"
     ]
    },
    {
     "data": {
      "text/plain": [
       "(5374, 7)"
      ]
     },
     "execution_count": 31,
     "metadata": {},
     "output_type": "execute_result"
    }
   ],
   "source": [
    "df[\"popularity\"] = np.round(pd.to_numeric(df.popularity, errors='coerce'),2)\n",
    "df.info()\n",
    "df.shape"
   ]
  },
  {
   "cell_type": "code",
   "execution_count": 32,
   "metadata": {
    "id": "8x4W7TRC8tWZ"
   },
   "outputs": [],
   "source": [
    "#converting 'genre' column into panda series and extract the type of the genre only from the column\n",
    "s = pd.Series(df['genres'], dtype= str)\n",
    "s1=s.str.split(pat=\"'\",expand=True)\n",
    "df['genre_ed']=s1[5]"
   ]
  },
  {
   "cell_type": "code",
   "execution_count": 33,
   "metadata": {
    "colab": {
     "base_uri": "https://localhost:8080/"
    },
    "id": "htAiTNjG8tWc",
    "outputId": "9fa7a541-b6a4-4fb7-9d06-a0c1dd549412"
   },
   "outputs": [
    {
     "data": {
      "text/plain": [
       "Drama              1313\n",
       "Comedy             1067\n",
       "Action              960\n",
       "Adventure           416\n",
       "Horror              325\n",
       "Crime               267\n",
       "Thriller            199\n",
       "Animation           146\n",
       "Fantasy             140\n",
       "Romance             121\n",
       "Science Fiction     104\n",
       "Mystery              67\n",
       "Family               55\n",
       "Documentary          47\n",
       "War                  38\n",
       "Music                34\n",
       "Western              31\n",
       "History              29\n",
       "Foreign               4\n",
       "TV Movie              1\n",
       "Name: genre_ed, dtype: int64"
      ]
     },
     "execution_count": 33,
     "metadata": {},
     "output_type": "execute_result"
    }
   ],
   "source": [
    "#count of each genre in the dataset\n",
    "df['genre_ed'].value_counts()"
   ]
  },
  {
   "cell_type": "markdown",
   "metadata": {
    "id": "I27BxIoz8tWf"
   },
   "source": [
    "The dataset has most rows for Drama and Comedy. We will concentrate only gneres which has more than 100 rows"
   ]
  },
  {
   "cell_type": "code",
   "execution_count": 34,
   "metadata": {
    "id": "g_7tUg108tWg"
   },
   "outputs": [],
   "source": [
    "#Remove rows for genres with count less than 100\n",
    "df=df[~df['genre_ed'].isin(['Mystery', 'Family', 'Documentary', 'War', 'Music', 'Western', 'History', 'Foreign', 'TV Movie'])]"
   ]
  },
  {
   "cell_type": "code",
   "execution_count": 35,
   "metadata": {
    "colab": {
     "base_uri": "https://localhost:8080/",
     "height": 704
    },
    "id": "ar2pez4D8tWl",
    "outputId": "b4172e5a-3c41-4f8c-d64e-73bd14133c8c"
   },
   "outputs": [
    {
     "name": "stdout",
     "output_type": "stream",
     "text": [
      "<class 'pandas.core.frame.DataFrame'>\n",
      "Int64Index: 5068 entries, 0 to 45422\n",
      "Data columns (total 17 columns):\n",
      " #   Column                    Non-Null Count  Dtype  \n",
      "---  ------                    --------------  -----  \n",
      " 0   budget                    5068 non-null   float64\n",
      " 1   popularity                5068 non-null   float64\n",
      " 2   revenue                   5068 non-null   float64\n",
      " 3   vote_average              5068 non-null   float64\n",
      " 4   vote_count                5068 non-null   float64\n",
      " 5   return                    5068 non-null   float64\n",
      " 6   genre_ed_Action           5068 non-null   uint8  \n",
      " 7   genre_ed_Adventure        5068 non-null   uint8  \n",
      " 8   genre_ed_Animation        5068 non-null   uint8  \n",
      " 9   genre_ed_Comedy           5068 non-null   uint8  \n",
      " 10  genre_ed_Crime            5068 non-null   uint8  \n",
      " 11  genre_ed_Drama            5068 non-null   uint8  \n",
      " 12  genre_ed_Fantasy          5068 non-null   uint8  \n",
      " 13  genre_ed_Horror           5068 non-null   uint8  \n",
      " 14  genre_ed_Romance          5068 non-null   uint8  \n",
      " 15  genre_ed_Science Fiction  5068 non-null   uint8  \n",
      " 16  genre_ed_Thriller         5068 non-null   uint8  \n",
      "dtypes: float64(6), uint8(11)\n",
      "memory usage: 331.6 KB\n"
     ]
    },
    {
     "data": {
      "text/html": [
       "\n",
       "  <div id=\"df-eed232cd-e1a5-4224-b958-2c62e17ba722\">\n",
       "    <div class=\"colab-df-container\">\n",
       "      <div>\n",
       "<style scoped>\n",
       "    .dataframe tbody tr th:only-of-type {\n",
       "        vertical-align: middle;\n",
       "    }\n",
       "\n",
       "    .dataframe tbody tr th {\n",
       "        vertical-align: top;\n",
       "    }\n",
       "\n",
       "    .dataframe thead th {\n",
       "        text-align: right;\n",
       "    }\n",
       "</style>\n",
       "<table border=\"1\" class=\"dataframe\">\n",
       "  <thead>\n",
       "    <tr style=\"text-align: right;\">\n",
       "      <th></th>\n",
       "      <th>budget</th>\n",
       "      <th>popularity</th>\n",
       "      <th>revenue</th>\n",
       "      <th>vote_average</th>\n",
       "      <th>vote_count</th>\n",
       "      <th>return</th>\n",
       "      <th>genre_ed_Action</th>\n",
       "      <th>genre_ed_Adventure</th>\n",
       "      <th>genre_ed_Animation</th>\n",
       "      <th>genre_ed_Comedy</th>\n",
       "      <th>genre_ed_Crime</th>\n",
       "      <th>genre_ed_Drama</th>\n",
       "      <th>genre_ed_Fantasy</th>\n",
       "      <th>genre_ed_Horror</th>\n",
       "      <th>genre_ed_Romance</th>\n",
       "      <th>genre_ed_Science Fiction</th>\n",
       "      <th>genre_ed_Thriller</th>\n",
       "    </tr>\n",
       "  </thead>\n",
       "  <tbody>\n",
       "    <tr>\n",
       "      <th>0</th>\n",
       "      <td>30000000.0</td>\n",
       "      <td>21.95</td>\n",
       "      <td>373554033.0</td>\n",
       "      <td>7.7</td>\n",
       "      <td>5415.0</td>\n",
       "      <td>12.451801</td>\n",
       "      <td>0</td>\n",
       "      <td>0</td>\n",
       "      <td>1</td>\n",
       "      <td>0</td>\n",
       "      <td>0</td>\n",
       "      <td>0</td>\n",
       "      <td>0</td>\n",
       "      <td>0</td>\n",
       "      <td>0</td>\n",
       "      <td>0</td>\n",
       "      <td>0</td>\n",
       "    </tr>\n",
       "    <tr>\n",
       "      <th>1</th>\n",
       "      <td>65000000.0</td>\n",
       "      <td>17.02</td>\n",
       "      <td>262797249.0</td>\n",
       "      <td>6.9</td>\n",
       "      <td>2413.0</td>\n",
       "      <td>4.043035</td>\n",
       "      <td>0</td>\n",
       "      <td>1</td>\n",
       "      <td>0</td>\n",
       "      <td>0</td>\n",
       "      <td>0</td>\n",
       "      <td>0</td>\n",
       "      <td>0</td>\n",
       "      <td>0</td>\n",
       "      <td>0</td>\n",
       "      <td>0</td>\n",
       "      <td>0</td>\n",
       "    </tr>\n",
       "    <tr>\n",
       "      <th>3</th>\n",
       "      <td>16000000.0</td>\n",
       "      <td>3.86</td>\n",
       "      <td>81452156.0</td>\n",
       "      <td>6.1</td>\n",
       "      <td>34.0</td>\n",
       "      <td>5.090760</td>\n",
       "      <td>0</td>\n",
       "      <td>0</td>\n",
       "      <td>0</td>\n",
       "      <td>1</td>\n",
       "      <td>0</td>\n",
       "      <td>0</td>\n",
       "      <td>0</td>\n",
       "      <td>0</td>\n",
       "      <td>0</td>\n",
       "      <td>0</td>\n",
       "      <td>0</td>\n",
       "    </tr>\n",
       "    <tr>\n",
       "      <th>5</th>\n",
       "      <td>60000000.0</td>\n",
       "      <td>17.92</td>\n",
       "      <td>187436818.0</td>\n",
       "      <td>7.7</td>\n",
       "      <td>1886.0</td>\n",
       "      <td>3.123947</td>\n",
       "      <td>1</td>\n",
       "      <td>0</td>\n",
       "      <td>0</td>\n",
       "      <td>0</td>\n",
       "      <td>0</td>\n",
       "      <td>0</td>\n",
       "      <td>0</td>\n",
       "      <td>0</td>\n",
       "      <td>0</td>\n",
       "      <td>0</td>\n",
       "      <td>0</td>\n",
       "    </tr>\n",
       "    <tr>\n",
       "      <th>8</th>\n",
       "      <td>35000000.0</td>\n",
       "      <td>5.23</td>\n",
       "      <td>64350171.0</td>\n",
       "      <td>5.5</td>\n",
       "      <td>174.0</td>\n",
       "      <td>1.838576</td>\n",
       "      <td>1</td>\n",
       "      <td>0</td>\n",
       "      <td>0</td>\n",
       "      <td>0</td>\n",
       "      <td>0</td>\n",
       "      <td>0</td>\n",
       "      <td>0</td>\n",
       "      <td>0</td>\n",
       "      <td>0</td>\n",
       "      <td>0</td>\n",
       "      <td>0</td>\n",
       "    </tr>\n",
       "  </tbody>\n",
       "</table>\n",
       "</div>\n",
       "      <button class=\"colab-df-convert\" onclick=\"convertToInteractive('df-eed232cd-e1a5-4224-b958-2c62e17ba722')\"\n",
       "              title=\"Convert this dataframe to an interactive table.\"\n",
       "              style=\"display:none;\">\n",
       "        \n",
       "  <svg xmlns=\"http://www.w3.org/2000/svg\" height=\"24px\"viewBox=\"0 0 24 24\"\n",
       "       width=\"24px\">\n",
       "    <path d=\"M0 0h24v24H0V0z\" fill=\"none\"/>\n",
       "    <path d=\"M18.56 5.44l.94 2.06.94-2.06 2.06-.94-2.06-.94-.94-2.06-.94 2.06-2.06.94zm-11 1L8.5 8.5l.94-2.06 2.06-.94-2.06-.94L8.5 2.5l-.94 2.06-2.06.94zm10 10l.94 2.06.94-2.06 2.06-.94-2.06-.94-.94-2.06-.94 2.06-2.06.94z\"/><path d=\"M17.41 7.96l-1.37-1.37c-.4-.4-.92-.59-1.43-.59-.52 0-1.04.2-1.43.59L10.3 9.45l-7.72 7.72c-.78.78-.78 2.05 0 2.83L4 21.41c.39.39.9.59 1.41.59.51 0 1.02-.2 1.41-.59l7.78-7.78 2.81-2.81c.8-.78.8-2.07 0-2.86zM5.41 20L4 18.59l7.72-7.72 1.47 1.35L5.41 20z\"/>\n",
       "  </svg>\n",
       "      </button>\n",
       "      \n",
       "  <style>\n",
       "    .colab-df-container {\n",
       "      display:flex;\n",
       "      flex-wrap:wrap;\n",
       "      gap: 12px;\n",
       "    }\n",
       "\n",
       "    .colab-df-convert {\n",
       "      background-color: #E8F0FE;\n",
       "      border: none;\n",
       "      border-radius: 50%;\n",
       "      cursor: pointer;\n",
       "      display: none;\n",
       "      fill: #1967D2;\n",
       "      height: 32px;\n",
       "      padding: 0 0 0 0;\n",
       "      width: 32px;\n",
       "    }\n",
       "\n",
       "    .colab-df-convert:hover {\n",
       "      background-color: #E2EBFA;\n",
       "      box-shadow: 0px 1px 2px rgba(60, 64, 67, 0.3), 0px 1px 3px 1px rgba(60, 64, 67, 0.15);\n",
       "      fill: #174EA6;\n",
       "    }\n",
       "\n",
       "    [theme=dark] .colab-df-convert {\n",
       "      background-color: #3B4455;\n",
       "      fill: #D2E3FC;\n",
       "    }\n",
       "\n",
       "    [theme=dark] .colab-df-convert:hover {\n",
       "      background-color: #434B5C;\n",
       "      box-shadow: 0px 1px 3px 1px rgba(0, 0, 0, 0.15);\n",
       "      filter: drop-shadow(0px 1px 2px rgba(0, 0, 0, 0.3));\n",
       "      fill: #FFFFFF;\n",
       "    }\n",
       "  </style>\n",
       "\n",
       "      <script>\n",
       "        const buttonEl =\n",
       "          document.querySelector('#df-eed232cd-e1a5-4224-b958-2c62e17ba722 button.colab-df-convert');\n",
       "        buttonEl.style.display =\n",
       "          google.colab.kernel.accessAllowed ? 'block' : 'none';\n",
       "\n",
       "        async function convertToInteractive(key) {\n",
       "          const element = document.querySelector('#df-eed232cd-e1a5-4224-b958-2c62e17ba722');\n",
       "          const dataTable =\n",
       "            await google.colab.kernel.invokeFunction('convertToInteractive',\n",
       "                                                     [key], {});\n",
       "          if (!dataTable) return;\n",
       "\n",
       "          const docLinkHtml = 'Like what you see? Visit the ' +\n",
       "            '<a target=\"_blank\" href=https://colab.research.google.com/notebooks/data_table.ipynb>data table notebook</a>'\n",
       "            + ' to learn more about interactive tables.';\n",
       "          element.innerHTML = '';\n",
       "          dataTable['output_type'] = 'display_data';\n",
       "          await google.colab.output.renderOutput(dataTable, element);\n",
       "          const docLink = document.createElement('div');\n",
       "          docLink.innerHTML = docLinkHtml;\n",
       "          element.appendChild(docLink);\n",
       "        }\n",
       "      </script>\n",
       "    </div>\n",
       "  </div>\n",
       "  "
      ],
      "text/plain": [
       "       budget  popularity      revenue  vote_average  vote_count     return  \\\n",
       "0  30000000.0       21.95  373554033.0           7.7      5415.0  12.451801   \n",
       "1  65000000.0       17.02  262797249.0           6.9      2413.0   4.043035   \n",
       "3  16000000.0        3.86   81452156.0           6.1        34.0   5.090760   \n",
       "5  60000000.0       17.92  187436818.0           7.7      1886.0   3.123947   \n",
       "8  35000000.0        5.23   64350171.0           5.5       174.0   1.838576   \n",
       "\n",
       "   genre_ed_Action  genre_ed_Adventure  genre_ed_Animation  genre_ed_Comedy  \\\n",
       "0                0                   0                   1                0   \n",
       "1                0                   1                   0                0   \n",
       "3                0                   0                   0                1   \n",
       "5                1                   0                   0                0   \n",
       "8                1                   0                   0                0   \n",
       "\n",
       "   genre_ed_Crime  genre_ed_Drama  genre_ed_Fantasy  genre_ed_Horror  \\\n",
       "0               0               0                 0                0   \n",
       "1               0               0                 0                0   \n",
       "3               0               0                 0                0   \n",
       "5               0               0                 0                0   \n",
       "8               0               0                 0                0   \n",
       "\n",
       "   genre_ed_Romance  genre_ed_Science Fiction  genre_ed_Thriller  \n",
       "0                 0                         0                  0  \n",
       "1                 0                         0                  0  \n",
       "3                 0                         0                  0  \n",
       "5                 0                         0                  0  \n",
       "8                 0                         0                  0  "
      ]
     },
     "execution_count": 35,
     "metadata": {},
     "output_type": "execute_result"
    }
   ],
   "source": [
    "#Drop original column from dataset\n",
    "df.drop(['genres'], axis=1, inplace=True)\n",
    "#get dummy columns for genre\n",
    "df= pd.get_dummies(df, columns=[\"genre_ed\"])\n",
    "df.info()\n",
    "df.head()"
   ]
  },
  {
   "cell_type": "code",
   "execution_count": 36,
   "metadata": {
    "colab": {
     "base_uri": "https://localhost:8080/",
     "height": 382
    },
    "id": "p0knu8Jk8tWm",
    "outputId": "99f4e0ef-b93b-4b30-b23e-d3ba95e8c389"
   },
   "outputs": [
    {
     "data": {
      "text/html": [
       "\n",
       "  <div id=\"df-fa319ffc-bd22-4530-a08d-9a7445a6f21a\">\n",
       "    <div class=\"colab-df-container\">\n",
       "      <div>\n",
       "<style scoped>\n",
       "    .dataframe tbody tr th:only-of-type {\n",
       "        vertical-align: middle;\n",
       "    }\n",
       "\n",
       "    .dataframe tbody tr th {\n",
       "        vertical-align: top;\n",
       "    }\n",
       "\n",
       "    .dataframe thead th {\n",
       "        text-align: right;\n",
       "    }\n",
       "</style>\n",
       "<table border=\"1\" class=\"dataframe\">\n",
       "  <thead>\n",
       "    <tr style=\"text-align: right;\">\n",
       "      <th></th>\n",
       "      <th>budget</th>\n",
       "      <th>popularity</th>\n",
       "      <th>revenue</th>\n",
       "      <th>vote_average</th>\n",
       "      <th>vote_count</th>\n",
       "      <th>return</th>\n",
       "      <th>genre_ed_Action</th>\n",
       "      <th>genre_ed_Adventure</th>\n",
       "      <th>genre_ed_Animation</th>\n",
       "      <th>genre_ed_Comedy</th>\n",
       "      <th>genre_ed_Crime</th>\n",
       "      <th>genre_ed_Drama</th>\n",
       "      <th>genre_ed_Fantasy</th>\n",
       "      <th>genre_ed_Horror</th>\n",
       "      <th>genre_ed_Romance</th>\n",
       "      <th>genre_ed_Science Fiction</th>\n",
       "      <th>genre_ed_Thriller</th>\n",
       "    </tr>\n",
       "  </thead>\n",
       "  <tbody>\n",
       "    <tr>\n",
       "      <th>count</th>\n",
       "      <td>5.068000e+03</td>\n",
       "      <td>5068.000000</td>\n",
       "      <td>5.068000e+03</td>\n",
       "      <td>5068.000000</td>\n",
       "      <td>5068.000000</td>\n",
       "      <td>5.068000e+03</td>\n",
       "      <td>5068.000000</td>\n",
       "      <td>5068.000000</td>\n",
       "      <td>5068.000000</td>\n",
       "      <td>5068.000000</td>\n",
       "      <td>5068.000000</td>\n",
       "      <td>5068.000000</td>\n",
       "      <td>5068.000000</td>\n",
       "      <td>5068.000000</td>\n",
       "      <td>5068.000000</td>\n",
       "      <td>5068.000000</td>\n",
       "      <td>5068.000000</td>\n",
       "    </tr>\n",
       "    <tr>\n",
       "      <th>mean</th>\n",
       "      <td>3.139018e+07</td>\n",
       "      <td>9.683341</td>\n",
       "      <td>9.101329e+07</td>\n",
       "      <td>6.265331</td>\n",
       "      <td>743.364838</td>\n",
       "      <td>5.079909e+03</td>\n",
       "      <td>0.189424</td>\n",
       "      <td>0.082084</td>\n",
       "      <td>0.028808</td>\n",
       "      <td>0.210537</td>\n",
       "      <td>0.052684</td>\n",
       "      <td>0.259077</td>\n",
       "      <td>0.027624</td>\n",
       "      <td>0.064128</td>\n",
       "      <td>0.023875</td>\n",
       "      <td>0.020521</td>\n",
       "      <td>0.039266</td>\n",
       "    </tr>\n",
       "    <tr>\n",
       "      <th>std</th>\n",
       "      <td>4.033230e+07</td>\n",
       "      <td>11.134203</td>\n",
       "      <td>1.654210e+08</td>\n",
       "      <td>0.901434</td>\n",
       "      <td>1260.296003</td>\n",
       "      <td>2.155497e+05</td>\n",
       "      <td>0.391884</td>\n",
       "      <td>0.274519</td>\n",
       "      <td>0.167284</td>\n",
       "      <td>0.407730</td>\n",
       "      <td>0.223423</td>\n",
       "      <td>0.438171</td>\n",
       "      <td>0.163910</td>\n",
       "      <td>0.245005</td>\n",
       "      <td>0.152676</td>\n",
       "      <td>0.141788</td>\n",
       "      <td>0.194246</td>\n",
       "    </tr>\n",
       "    <tr>\n",
       "      <th>min</th>\n",
       "      <td>1.000000e+00</td>\n",
       "      <td>0.000000</td>\n",
       "      <td>1.000000e+00</td>\n",
       "      <td>1.000000</td>\n",
       "      <td>1.000000</td>\n",
       "      <td>5.217391e-07</td>\n",
       "      <td>0.000000</td>\n",
       "      <td>0.000000</td>\n",
       "      <td>0.000000</td>\n",
       "      <td>0.000000</td>\n",
       "      <td>0.000000</td>\n",
       "      <td>0.000000</td>\n",
       "      <td>0.000000</td>\n",
       "      <td>0.000000</td>\n",
       "      <td>0.000000</td>\n",
       "      <td>0.000000</td>\n",
       "      <td>0.000000</td>\n",
       "    </tr>\n",
       "    <tr>\n",
       "      <th>25%</th>\n",
       "      <td>5.793275e+06</td>\n",
       "      <td>5.530000</td>\n",
       "      <td>7.260166e+06</td>\n",
       "      <td>5.700000</td>\n",
       "      <td>81.000000</td>\n",
       "      <td>7.992701e-01</td>\n",
       "      <td>0.000000</td>\n",
       "      <td>0.000000</td>\n",
       "      <td>0.000000</td>\n",
       "      <td>0.000000</td>\n",
       "      <td>0.000000</td>\n",
       "      <td>0.000000</td>\n",
       "      <td>0.000000</td>\n",
       "      <td>0.000000</td>\n",
       "      <td>0.000000</td>\n",
       "      <td>0.000000</td>\n",
       "      <td>0.000000</td>\n",
       "    </tr>\n",
       "    <tr>\n",
       "      <th>50%</th>\n",
       "      <td>1.700000e+07</td>\n",
       "      <td>8.430000</td>\n",
       "      <td>3.055244e+07</td>\n",
       "      <td>6.300000</td>\n",
       "      <td>284.500000</td>\n",
       "      <td>2.066622e+00</td>\n",
       "      <td>0.000000</td>\n",
       "      <td>0.000000</td>\n",
       "      <td>0.000000</td>\n",
       "      <td>0.000000</td>\n",
       "      <td>0.000000</td>\n",
       "      <td>0.000000</td>\n",
       "      <td>0.000000</td>\n",
       "      <td>0.000000</td>\n",
       "      <td>0.000000</td>\n",
       "      <td>0.000000</td>\n",
       "      <td>0.000000</td>\n",
       "    </tr>\n",
       "    <tr>\n",
       "      <th>75%</th>\n",
       "      <td>4.000000e+07</td>\n",
       "      <td>11.752500</td>\n",
       "      <td>1.005295e+08</td>\n",
       "      <td>6.900000</td>\n",
       "      <td>824.000000</td>\n",
       "      <td>4.229621e+00</td>\n",
       "      <td>0.000000</td>\n",
       "      <td>0.000000</td>\n",
       "      <td>0.000000</td>\n",
       "      <td>0.000000</td>\n",
       "      <td>0.000000</td>\n",
       "      <td>1.000000</td>\n",
       "      <td>0.000000</td>\n",
       "      <td>0.000000</td>\n",
       "      <td>0.000000</td>\n",
       "      <td>0.000000</td>\n",
       "      <td>0.000000</td>\n",
       "    </tr>\n",
       "    <tr>\n",
       "      <th>max</th>\n",
       "      <td>3.800000e+08</td>\n",
       "      <td>294.340000</td>\n",
       "      <td>2.787965e+09</td>\n",
       "      <td>9.100000</td>\n",
       "      <td>14075.000000</td>\n",
       "      <td>1.239638e+07</td>\n",
       "      <td>1.000000</td>\n",
       "      <td>1.000000</td>\n",
       "      <td>1.000000</td>\n",
       "      <td>1.000000</td>\n",
       "      <td>1.000000</td>\n",
       "      <td>1.000000</td>\n",
       "      <td>1.000000</td>\n",
       "      <td>1.000000</td>\n",
       "      <td>1.000000</td>\n",
       "      <td>1.000000</td>\n",
       "      <td>1.000000</td>\n",
       "    </tr>\n",
       "  </tbody>\n",
       "</table>\n",
       "</div>\n",
       "      <button class=\"colab-df-convert\" onclick=\"convertToInteractive('df-fa319ffc-bd22-4530-a08d-9a7445a6f21a')\"\n",
       "              title=\"Convert this dataframe to an interactive table.\"\n",
       "              style=\"display:none;\">\n",
       "        \n",
       "  <svg xmlns=\"http://www.w3.org/2000/svg\" height=\"24px\"viewBox=\"0 0 24 24\"\n",
       "       width=\"24px\">\n",
       "    <path d=\"M0 0h24v24H0V0z\" fill=\"none\"/>\n",
       "    <path d=\"M18.56 5.44l.94 2.06.94-2.06 2.06-.94-2.06-.94-.94-2.06-.94 2.06-2.06.94zm-11 1L8.5 8.5l.94-2.06 2.06-.94-2.06-.94L8.5 2.5l-.94 2.06-2.06.94zm10 10l.94 2.06.94-2.06 2.06-.94-2.06-.94-.94-2.06-.94 2.06-2.06.94z\"/><path d=\"M17.41 7.96l-1.37-1.37c-.4-.4-.92-.59-1.43-.59-.52 0-1.04.2-1.43.59L10.3 9.45l-7.72 7.72c-.78.78-.78 2.05 0 2.83L4 21.41c.39.39.9.59 1.41.59.51 0 1.02-.2 1.41-.59l7.78-7.78 2.81-2.81c.8-.78.8-2.07 0-2.86zM5.41 20L4 18.59l7.72-7.72 1.47 1.35L5.41 20z\"/>\n",
       "  </svg>\n",
       "      </button>\n",
       "      \n",
       "  <style>\n",
       "    .colab-df-container {\n",
       "      display:flex;\n",
       "      flex-wrap:wrap;\n",
       "      gap: 12px;\n",
       "    }\n",
       "\n",
       "    .colab-df-convert {\n",
       "      background-color: #E8F0FE;\n",
       "      border: none;\n",
       "      border-radius: 50%;\n",
       "      cursor: pointer;\n",
       "      display: none;\n",
       "      fill: #1967D2;\n",
       "      height: 32px;\n",
       "      padding: 0 0 0 0;\n",
       "      width: 32px;\n",
       "    }\n",
       "\n",
       "    .colab-df-convert:hover {\n",
       "      background-color: #E2EBFA;\n",
       "      box-shadow: 0px 1px 2px rgba(60, 64, 67, 0.3), 0px 1px 3px 1px rgba(60, 64, 67, 0.15);\n",
       "      fill: #174EA6;\n",
       "    }\n",
       "\n",
       "    [theme=dark] .colab-df-convert {\n",
       "      background-color: #3B4455;\n",
       "      fill: #D2E3FC;\n",
       "    }\n",
       "\n",
       "    [theme=dark] .colab-df-convert:hover {\n",
       "      background-color: #434B5C;\n",
       "      box-shadow: 0px 1px 3px 1px rgba(0, 0, 0, 0.15);\n",
       "      filter: drop-shadow(0px 1px 2px rgba(0, 0, 0, 0.3));\n",
       "      fill: #FFFFFF;\n",
       "    }\n",
       "  </style>\n",
       "\n",
       "      <script>\n",
       "        const buttonEl =\n",
       "          document.querySelector('#df-fa319ffc-bd22-4530-a08d-9a7445a6f21a button.colab-df-convert');\n",
       "        buttonEl.style.display =\n",
       "          google.colab.kernel.accessAllowed ? 'block' : 'none';\n",
       "\n",
       "        async function convertToInteractive(key) {\n",
       "          const element = document.querySelector('#df-fa319ffc-bd22-4530-a08d-9a7445a6f21a');\n",
       "          const dataTable =\n",
       "            await google.colab.kernel.invokeFunction('convertToInteractive',\n",
       "                                                     [key], {});\n",
       "          if (!dataTable) return;\n",
       "\n",
       "          const docLinkHtml = 'Like what you see? Visit the ' +\n",
       "            '<a target=\"_blank\" href=https://colab.research.google.com/notebooks/data_table.ipynb>data table notebook</a>'\n",
       "            + ' to learn more about interactive tables.';\n",
       "          element.innerHTML = '';\n",
       "          dataTable['output_type'] = 'display_data';\n",
       "          await google.colab.output.renderOutput(dataTable, element);\n",
       "          const docLink = document.createElement('div');\n",
       "          docLink.innerHTML = docLinkHtml;\n",
       "          element.appendChild(docLink);\n",
       "        }\n",
       "      </script>\n",
       "    </div>\n",
       "  </div>\n",
       "  "
      ],
      "text/plain": [
       "             budget   popularity       revenue  vote_average    vote_count  \\\n",
       "count  5.068000e+03  5068.000000  5.068000e+03   5068.000000   5068.000000   \n",
       "mean   3.139018e+07     9.683341  9.101329e+07      6.265331    743.364838   \n",
       "std    4.033230e+07    11.134203  1.654210e+08      0.901434   1260.296003   \n",
       "min    1.000000e+00     0.000000  1.000000e+00      1.000000      1.000000   \n",
       "25%    5.793275e+06     5.530000  7.260166e+06      5.700000     81.000000   \n",
       "50%    1.700000e+07     8.430000  3.055244e+07      6.300000    284.500000   \n",
       "75%    4.000000e+07    11.752500  1.005295e+08      6.900000    824.000000   \n",
       "max    3.800000e+08   294.340000  2.787965e+09      9.100000  14075.000000   \n",
       "\n",
       "             return  genre_ed_Action  genre_ed_Adventure  genre_ed_Animation  \\\n",
       "count  5.068000e+03      5068.000000         5068.000000         5068.000000   \n",
       "mean   5.079909e+03         0.189424            0.082084            0.028808   \n",
       "std    2.155497e+05         0.391884            0.274519            0.167284   \n",
       "min    5.217391e-07         0.000000            0.000000            0.000000   \n",
       "25%    7.992701e-01         0.000000            0.000000            0.000000   \n",
       "50%    2.066622e+00         0.000000            0.000000            0.000000   \n",
       "75%    4.229621e+00         0.000000            0.000000            0.000000   \n",
       "max    1.239638e+07         1.000000            1.000000            1.000000   \n",
       "\n",
       "       genre_ed_Comedy  genre_ed_Crime  genre_ed_Drama  genre_ed_Fantasy  \\\n",
       "count      5068.000000     5068.000000     5068.000000       5068.000000   \n",
       "mean          0.210537        0.052684        0.259077          0.027624   \n",
       "std           0.407730        0.223423        0.438171          0.163910   \n",
       "min           0.000000        0.000000        0.000000          0.000000   \n",
       "25%           0.000000        0.000000        0.000000          0.000000   \n",
       "50%           0.000000        0.000000        0.000000          0.000000   \n",
       "75%           0.000000        0.000000        1.000000          0.000000   \n",
       "max           1.000000        1.000000        1.000000          1.000000   \n",
       "\n",
       "       genre_ed_Horror  genre_ed_Romance  genre_ed_Science Fiction  \\\n",
       "count      5068.000000       5068.000000               5068.000000   \n",
       "mean          0.064128          0.023875                  0.020521   \n",
       "std           0.245005          0.152676                  0.141788   \n",
       "min           0.000000          0.000000                  0.000000   \n",
       "25%           0.000000          0.000000                  0.000000   \n",
       "50%           0.000000          0.000000                  0.000000   \n",
       "75%           0.000000          0.000000                  0.000000   \n",
       "max           1.000000          1.000000                  1.000000   \n",
       "\n",
       "       genre_ed_Thriller  \n",
       "count        5068.000000  \n",
       "mean            0.039266  \n",
       "std             0.194246  \n",
       "min             0.000000  \n",
       "25%             0.000000  \n",
       "50%             0.000000  \n",
       "75%             0.000000  \n",
       "max             1.000000  "
      ]
     },
     "execution_count": 36,
     "metadata": {},
     "output_type": "execute_result"
    }
   ],
   "source": [
    "#Summary statistics of dataset \n",
    "df.describe()"
   ]
  },
  {
   "cell_type": "code",
   "execution_count": 37,
   "metadata": {
    "colab": {
     "base_uri": "https://localhost:8080/",
     "height": 294
    },
    "id": "pBs1JABD8tWo",
    "outputId": "012b43c2-7e29-4ebf-bcc9-eda085a018f1"
   },
   "outputs": [
    {
     "data": {
      "text/plain": [
       "<matplotlib.axes._subplots.AxesSubplot at 0x7fe05e4ce710>"
      ]
     },
     "execution_count": 37,
     "metadata": {},
     "output_type": "execute_result"
    },
    {
     "data": {
      "image/png": "[encoded data removed]",
      "text/plain": [
       "<Figure size 432x288 with 1 Axes>"
      ]
     },
     "metadata": {
      "needs_background": "light"
     },
     "output_type": "display_data"
    }
   ],
   "source": [
    "#Let's check for outliers\n",
    "df.boxplot(column=['budget', 'revenue'])"
   ]
  },
  {
   "cell_type": "code",
   "execution_count": 38,
   "metadata": {
    "colab": {
     "base_uri": "https://localhost:8080/",
     "height": 283
    },
    "id": "XYE6O3iy8tWq",
    "outputId": "48031a62-e4f2-4cbd-915f-cda2cafb9a35"
   },
   "outputs": [
    {
     "data": {
      "text/plain": [
       "<matplotlib.axes._subplots.AxesSubplot at 0x7fe05e33afd0>"
      ]
     },
     "execution_count": 38,
     "metadata": {},
     "output_type": "execute_result"
    },
    {
     "data": {
      "image/png": "[encoded data removed]",
      "text/plain": [
       "<Figure size 432x288 with 1 Axes>"
      ]
     },
     "metadata": {
      "needs_background": "light"
     },
     "output_type": "display_data"
    }
   ],
   "source": [
    "df.boxplot(column=['popularity', 'vote_average', 'vote_count'])"
   ]
  },
  {
   "cell_type": "code",
   "execution_count": 39,
   "metadata": {
    "id": "wpS94obf8tWr"
   },
   "outputs": [],
   "source": [
    "df_o= df[(np.nan_to_num(np.abs(stats.zscore(df,nan_policy='omit')),0) < 3).all(axis=1)]"
   ]
  },
  {
   "cell_type": "code",
   "execution_count": 40,
   "metadata": {
    "colab": {
     "base_uri": "https://localhost:8080/"
    },
    "id": "6XFjpPx88tWt",
    "outputId": "611a1063-569c-4010-b995-b5137695f0c6"
   },
   "outputs": [
    {
     "name": "stdout",
     "output_type": "stream",
     "text": [
      "Shape of original input dataset: (5068, 17)\n",
      "Shape of input dataset after removing outliers: (3208, 17)\n"
     ]
    }
   ],
   "source": [
    "df.shape\n",
    "print ('Shape of original input dataset:', df.shape)\n",
    "#After removing outliers\n",
    "df_o.shape\n",
    "print ('Shape of input dataset after removing outliers:', df_o.shape)"
   ]
  },
  {
   "cell_type": "code",
   "execution_count": 41,
   "metadata": {
    "colab": {
     "base_uri": "https://localhost:8080/",
     "height": 283
    },
    "id": "_RsZwZ6o6nEJ",
    "outputId": "955e4408-0c8c-4202-8b2e-22371a635e1a"
   },
   "outputs": [
    {
     "data": {
      "text/plain": [
       "<matplotlib.axes._subplots.AxesSubplot at 0x7fe05ed2e310>"
      ]
     },
     "execution_count": 41,
     "metadata": {},
     "output_type": "execute_result"
    },
    {
     "data": {
      "image/png": "[encoded data removed]",
      "text/plain": [
       "<Figure size 432x288 with 1 Axes>"
      ]
     },
     "metadata": {
      "needs_background": "light"
     },
     "output_type": "display_data"
    }
   ],
   "source": [
    "df_o.boxplot(column=['popularity', 'vote_average', 'vote_count'])"
   ]
  },
  {
   "cell_type": "code",
   "execution_count": 42,
   "metadata": {
    "colab": {
     "base_uri": "https://localhost:8080/"
    },
    "id": "TVcMAG9O8tWv",
    "outputId": "03124e66-b2ec-4a4b-bdcd-e14e2229d970"
   },
   "outputs": [
    {
     "name": "stdout",
     "output_type": "stream",
     "text": [
      "budget                      3.000000e+07\n",
      "popularity                  5.860000e+00\n",
      "revenue                     6.972057e+07\n",
      "vote_average                1.200000e+00\n",
      "vote_count                  5.290000e+02\n",
      "return                      3.254867e+00\n",
      "genre_ed_Action             1.000000e+00\n",
      "genre_ed_Adventure          0.000000e+00\n",
      "genre_ed_Animation          0.000000e+00\n",
      "genre_ed_Comedy             1.000000e+00\n",
      "genre_ed_Crime              0.000000e+00\n",
      "genre_ed_Drama              1.000000e+00\n",
      "genre_ed_Fantasy            0.000000e+00\n",
      "genre_ed_Horror             0.000000e+00\n",
      "genre_ed_Romance            0.000000e+00\n",
      "genre_ed_Science Fiction    0.000000e+00\n",
      "genre_ed_Thriller           0.000000e+00\n",
      "dtype: float64\n"
     ]
    }
   ],
   "source": [
    "Q1 = df_o.quantile(0.25)\n",
    "Q3 = df_o.quantile(0.75)\n",
    "IQR = Q3 - Q1\n",
    "print(IQR)"
   ]
  },
  {
   "cell_type": "code",
   "execution_count": 43,
   "metadata": {
    "id": "EjiQAobi8tWw"
   },
   "outputs": [],
   "source": [
    "df_out = df_o[~((df_o < (Q1 - 1.5 * IQR)) |(df_o > (Q3 + 1.5 * IQR))).any(axis=1)]"
   ]
  },
  {
   "cell_type": "code",
   "execution_count": 44,
   "metadata": {
    "colab": {
     "base_uri": "https://localhost:8080/"
    },
    "id": "_QbUx9T78tWx",
    "outputId": "d83c92fc-2648-47c6-9119-f5a27cd36ca9"
   },
   "outputs": [
    {
     "name": "stdout",
     "output_type": "stream",
     "text": [
      "Shape of input dataset after managing misspread: (2488, 17)\n"
     ]
    }
   ],
   "source": [
    "print ('Shape of input dataset after managing misspread:', df_out.shape)"
   ]
  },
  {
   "cell_type": "code",
   "execution_count": 45,
   "metadata": {
    "colab": {
     "base_uri": "https://localhost:8080/",
     "height": 294
    },
    "id": "ul3NU6p18tW0",
    "outputId": "3665ff41-c947-425f-cfc5-781b3c6c6e8f"
   },
   "outputs": [
    {
     "data": {
      "text/plain": [
       "<matplotlib.axes._subplots.AxesSubplot at 0x7fe05ecd4850>"
      ]
     },
     "execution_count": 45,
     "metadata": {},
     "output_type": "execute_result"
    },
    {
     "data": {
      "image/png": "[encoded data removed]",
      "text/plain": [
       "<Figure size 432x288 with 1 Axes>"
      ]
     },
     "metadata": {
      "needs_background": "light"
     },
     "output_type": "display_data"
    }
   ],
   "source": [
    "df_out.boxplot(column=['budget', 'revenue'])"
   ]
  },
  {
   "cell_type": "code",
   "execution_count": 46,
   "metadata": {
    "colab": {
     "base_uri": "https://localhost:8080/"
    },
    "id": "VDhdwxFH8tW9",
    "outputId": "f657d20e-3b33-4b97-c650-30970c53ef11"
   },
   "outputs": [
    {
     "data": {
      "text/plain": [
       "count    2.488000e+03\n",
       "mean     3.209871e+07\n",
       "std      3.910949e+07\n",
       "min      1.000000e+00\n",
       "25%      4.100000e+06\n",
       "50%      1.680970e+07\n",
       "75%      4.551842e+07\n",
       "max      1.792134e+08\n",
       "Name: revenue, dtype: float64"
      ]
     },
     "execution_count": 46,
     "metadata": {},
     "output_type": "execute_result"
    }
   ],
   "source": [
    "df_out['revenue'].describe()"
   ]
  },
  {
   "cell_type": "code",
   "execution_count": 47,
   "metadata": {
    "id": "WzL7OZOU8tXC"
   },
   "outputs": [],
   "source": [
    "df_out.drop(['revenue'],axis=1, inplace=True)"
   ]
  },
  {
   "cell_type": "code",
   "execution_count": 48,
   "metadata": {
    "colab": {
     "base_uri": "https://localhost:8080/",
     "height": 312
    },
    "id": "YGz9k1HyCZTa",
    "outputId": "13b4e129-6a17-4b19-e77c-aedb8fa1fd2d"
   },
   "outputs": [
    {
     "data": {
      "text/plain": [
       "Text(0, 0.5, 'Frequency')"
      ]
     },
     "execution_count": 48,
     "metadata": {},
     "output_type": "execute_result"
    },
    {
     "data": {
      "image/png": "[encoded data removed]",
      "text/plain": [
       "<Figure size 432x288 with 1 Axes>"
      ]
     },
     "metadata": {
      "needs_background": "light"
     },
     "output_type": "display_data"
    }
   ],
   "source": [
    "df_out['return']=df_out['return'].mask(df_out['return']<1,0)\n",
    "df_out['return']=df_out['return'].mask(df_out['return']>1,1)\n",
    "df_out.value_counts(df_out['return']).plot(kind = 'bar', rot=0)\n",
    "plt.title(\"Profit Class Distribution\")\n",
    "LABELS=['Unprofitable','Profitable']\n",
    "plt.xticks(range(2), LABELS)\n",
    "plt.xlabel(\"Profitability\")\n",
    "plt.ylabel(\"Frequency\")"
   ]
  },
  {
   "cell_type": "markdown",
   "metadata": {
    "id": "CBraspAeFocj"
   },
   "source": [
    "We can't use return directly here. We will consider a two class classification problem with return>1 (profit) as one class and return<1 (loss) as another class."
   ]
  },
  {
   "cell_type": "code",
   "execution_count": 49,
   "metadata": {
    "colab": {
     "base_uri": "https://localhost:8080/",
     "height": 505
    },
    "id": "JWv9e0Zq8tXD",
    "outputId": "06a76e47-86ea-4daf-b6f0-da6d71450679"
   },
   "outputs": [
    {
     "data": {
      "text/html": [
       "\n",
       "  <div id=\"df-c397172f-9551-4e2f-9e0a-55dcac47a9d9\">\n",
       "    <div class=\"colab-df-container\">\n",
       "      <div>\n",
       "<style scoped>\n",
       "    .dataframe tbody tr th:only-of-type {\n",
       "        vertical-align: middle;\n",
       "    }\n",
       "\n",
       "    .dataframe tbody tr th {\n",
       "        vertical-align: top;\n",
       "    }\n",
       "\n",
       "    .dataframe thead th {\n",
       "        text-align: right;\n",
       "    }\n",
       "</style>\n",
       "<table border=\"1\" class=\"dataframe\">\n",
       "  <thead>\n",
       "    <tr style=\"text-align: right;\">\n",
       "      <th></th>\n",
       "      <th>budget</th>\n",
       "      <th>popularity</th>\n",
       "      <th>vote_average</th>\n",
       "      <th>vote_count</th>\n",
       "      <th>return</th>\n",
       "      <th>genre_ed_Action</th>\n",
       "      <th>genre_ed_Adventure</th>\n",
       "      <th>genre_ed_Animation</th>\n",
       "      <th>genre_ed_Comedy</th>\n",
       "      <th>genre_ed_Crime</th>\n",
       "      <th>genre_ed_Drama</th>\n",
       "      <th>genre_ed_Fantasy</th>\n",
       "      <th>genre_ed_Horror</th>\n",
       "      <th>genre_ed_Romance</th>\n",
       "      <th>genre_ed_Science Fiction</th>\n",
       "      <th>genre_ed_Thriller</th>\n",
       "    </tr>\n",
       "  </thead>\n",
       "  <tbody>\n",
       "    <tr>\n",
       "      <th>3</th>\n",
       "      <td>16000000.0</td>\n",
       "      <td>3.86</td>\n",
       "      <td>6.1</td>\n",
       "      <td>34.0</td>\n",
       "      <td>1.0</td>\n",
       "      <td>0</td>\n",
       "      <td>0</td>\n",
       "      <td>0</td>\n",
       "      <td>1</td>\n",
       "      <td>0</td>\n",
       "      <td>0</td>\n",
       "      <td>0</td>\n",
       "      <td>0</td>\n",
       "      <td>0</td>\n",
       "      <td>0</td>\n",
       "      <td>0</td>\n",
       "    </tr>\n",
       "    <tr>\n",
       "      <th>8</th>\n",
       "      <td>35000000.0</td>\n",
       "      <td>5.23</td>\n",
       "      <td>5.5</td>\n",
       "      <td>174.0</td>\n",
       "      <td>1.0</td>\n",
       "      <td>1</td>\n",
       "      <td>0</td>\n",
       "      <td>0</td>\n",
       "      <td>0</td>\n",
       "      <td>0</td>\n",
       "      <td>0</td>\n",
       "      <td>0</td>\n",
       "      <td>0</td>\n",
       "      <td>0</td>\n",
       "      <td>0</td>\n",
       "      <td>0</td>\n",
       "    </tr>\n",
       "    <tr>\n",
       "      <th>10</th>\n",
       "      <td>62000000.0</td>\n",
       "      <td>6.32</td>\n",
       "      <td>6.5</td>\n",
       "      <td>199.0</td>\n",
       "      <td>1.0</td>\n",
       "      <td>0</td>\n",
       "      <td>0</td>\n",
       "      <td>0</td>\n",
       "      <td>1</td>\n",
       "      <td>0</td>\n",
       "      <td>0</td>\n",
       "      <td>0</td>\n",
       "      <td>0</td>\n",
       "      <td>0</td>\n",
       "      <td>0</td>\n",
       "      <td>0</td>\n",
       "    </tr>\n",
       "    <tr>\n",
       "      <th>15</th>\n",
       "      <td>52000000.0</td>\n",
       "      <td>10.14</td>\n",
       "      <td>7.8</td>\n",
       "      <td>1343.0</td>\n",
       "      <td>1.0</td>\n",
       "      <td>0</td>\n",
       "      <td>0</td>\n",
       "      <td>0</td>\n",
       "      <td>0</td>\n",
       "      <td>0</td>\n",
       "      <td>1</td>\n",
       "      <td>0</td>\n",
       "      <td>0</td>\n",
       "      <td>0</td>\n",
       "      <td>0</td>\n",
       "      <td>0</td>\n",
       "    </tr>\n",
       "    <tr>\n",
       "      <th>16</th>\n",
       "      <td>16500000.0</td>\n",
       "      <td>10.67</td>\n",
       "      <td>7.2</td>\n",
       "      <td>364.0</td>\n",
       "      <td>1.0</td>\n",
       "      <td>0</td>\n",
       "      <td>0</td>\n",
       "      <td>0</td>\n",
       "      <td>0</td>\n",
       "      <td>0</td>\n",
       "      <td>1</td>\n",
       "      <td>0</td>\n",
       "      <td>0</td>\n",
       "      <td>0</td>\n",
       "      <td>0</td>\n",
       "      <td>0</td>\n",
       "    </tr>\n",
       "    <tr>\n",
       "      <th>...</th>\n",
       "      <td>...</td>\n",
       "      <td>...</td>\n",
       "      <td>...</td>\n",
       "      <td>...</td>\n",
       "      <td>...</td>\n",
       "      <td>...</td>\n",
       "      <td>...</td>\n",
       "      <td>...</td>\n",
       "      <td>...</td>\n",
       "      <td>...</td>\n",
       "      <td>...</td>\n",
       "      <td>...</td>\n",
       "      <td>...</td>\n",
       "      <td>...</td>\n",
       "      <td>...</td>\n",
       "      <td>...</td>\n",
       "    </tr>\n",
       "    <tr>\n",
       "      <th>44848</th>\n",
       "      <td>2000000.0</td>\n",
       "      <td>1.46</td>\n",
       "      <td>5.3</td>\n",
       "      <td>9.0</td>\n",
       "      <td>1.0</td>\n",
       "      <td>0</td>\n",
       "      <td>0</td>\n",
       "      <td>0</td>\n",
       "      <td>1</td>\n",
       "      <td>0</td>\n",
       "      <td>0</td>\n",
       "      <td>0</td>\n",
       "      <td>0</td>\n",
       "      <td>0</td>\n",
       "      <td>0</td>\n",
       "      <td>0</td>\n",
       "    </tr>\n",
       "    <tr>\n",
       "      <th>44856</th>\n",
       "      <td>3000000.0</td>\n",
       "      <td>0.45</td>\n",
       "      <td>4.7</td>\n",
       "      <td>3.0</td>\n",
       "      <td>0.0</td>\n",
       "      <td>0</td>\n",
       "      <td>0</td>\n",
       "      <td>0</td>\n",
       "      <td>1</td>\n",
       "      <td>0</td>\n",
       "      <td>0</td>\n",
       "      <td>0</td>\n",
       "      <td>0</td>\n",
       "      <td>0</td>\n",
       "      <td>0</td>\n",
       "      <td>0</td>\n",
       "    </tr>\n",
       "    <tr>\n",
       "      <th>44970</th>\n",
       "      <td>2196531.0</td>\n",
       "      <td>0.95</td>\n",
       "      <td>5.6</td>\n",
       "      <td>10.0</td>\n",
       "      <td>1.0</td>\n",
       "      <td>0</td>\n",
       "      <td>0</td>\n",
       "      <td>0</td>\n",
       "      <td>1</td>\n",
       "      <td>0</td>\n",
       "      <td>0</td>\n",
       "      <td>0</td>\n",
       "      <td>0</td>\n",
       "      <td>0</td>\n",
       "      <td>0</td>\n",
       "      <td>0</td>\n",
       "    </tr>\n",
       "    <tr>\n",
       "      <th>45250</th>\n",
       "      <td>12000000.0</td>\n",
       "      <td>1.32</td>\n",
       "      <td>6.9</td>\n",
       "      <td>25.0</td>\n",
       "      <td>1.0</td>\n",
       "      <td>1</td>\n",
       "      <td>0</td>\n",
       "      <td>0</td>\n",
       "      <td>0</td>\n",
       "      <td>0</td>\n",
       "      <td>0</td>\n",
       "      <td>0</td>\n",
       "      <td>0</td>\n",
       "      <td>0</td>\n",
       "      <td>0</td>\n",
       "      <td>0</td>\n",
       "    </tr>\n",
       "    <tr>\n",
       "      <th>45409</th>\n",
       "      <td>800000.0</td>\n",
       "      <td>0.90</td>\n",
       "      <td>5.8</td>\n",
       "      <td>6.0</td>\n",
       "      <td>1.0</td>\n",
       "      <td>0</td>\n",
       "      <td>0</td>\n",
       "      <td>0</td>\n",
       "      <td>1</td>\n",
       "      <td>0</td>\n",
       "      <td>0</td>\n",
       "      <td>0</td>\n",
       "      <td>0</td>\n",
       "      <td>0</td>\n",
       "      <td>0</td>\n",
       "      <td>0</td>\n",
       "    </tr>\n",
       "  </tbody>\n",
       "</table>\n",
       "<p>2488 rows × 16 columns</p>\n",
       "</div>\n",
       "      <button class=\"colab-df-convert\" onclick=\"convertToInteractive('df-c397172f-9551-4e2f-9e0a-55dcac47a9d9')\"\n",
       "              title=\"Convert this dataframe to an interactive table.\"\n",
       "              style=\"display:none;\">\n",
       "        \n",
       "  <svg xmlns=\"http://www.w3.org/2000/svg\" height=\"24px\"viewBox=\"0 0 24 24\"\n",
       "       width=\"24px\">\n",
       "    <path d=\"M0 0h24v24H0V0z\" fill=\"none\"/>\n",
       "    <path d=\"M18.56 5.44l.94 2.06.94-2.06 2.06-.94-2.06-.94-.94-2.06-.94 2.06-2.06.94zm-11 1L8.5 8.5l.94-2.06 2.06-.94-2.06-.94L8.5 2.5l-.94 2.06-2.06.94zm10 10l.94 2.06.94-2.06 2.06-.94-2.06-.94-.94-2.06-.94 2.06-2.06.94z\"/><path d=\"M17.41 7.96l-1.37-1.37c-.4-.4-.92-.59-1.43-.59-.52 0-1.04.2-1.43.59L10.3 9.45l-7.72 7.72c-.78.78-.78 2.05 0 2.83L4 21.41c.39.39.9.59 1.41.59.51 0 1.02-.2 1.41-.59l7.78-7.78 2.81-2.81c.8-.78.8-2.07 0-2.86zM5.41 20L4 18.59l7.72-7.72 1.47 1.35L5.41 20z\"/>\n",
       "  </svg>\n",
       "      </button>\n",
       "      \n",
       "  <style>\n",
       "    .colab-df-container {\n",
       "      display:flex;\n",
       "      flex-wrap:wrap;\n",
       "      gap: 12px;\n",
       "    }\n",
       "\n",
       "    .colab-df-convert {\n",
       "      background-color: #E8F0FE;\n",
       "      border: none;\n",
       "      border-radius: 50%;\n",
       "      cursor: pointer;\n",
       "      display: none;\n",
       "      fill: #1967D2;\n",
       "      height: 32px;\n",
       "      padding: 0 0 0 0;\n",
       "      width: 32px;\n",
       "    }\n",
       "\n",
       "    .colab-df-convert:hover {\n",
       "      background-color: #E2EBFA;\n",
       "      box-shadow: 0px 1px 2px rgba(60, 64, 67, 0.3), 0px 1px 3px 1px rgba(60, 64, 67, 0.15);\n",
       "      fill: #174EA6;\n",
       "    }\n",
       "\n",
       "    [theme=dark] .colab-df-convert {\n",
       "      background-color: #3B4455;\n",
       "      fill: #D2E3FC;\n",
       "    }\n",
       "\n",
       "    [theme=dark] .colab-df-convert:hover {\n",
       "      background-color: #434B5C;\n",
       "      box-shadow: 0px 1px 3px 1px rgba(0, 0, 0, 0.15);\n",
       "      filter: drop-shadow(0px 1px 2px rgba(0, 0, 0, 0.3));\n",
       "      fill: #FFFFFF;\n",
       "    }\n",
       "  </style>\n",
       "\n",
       "      <script>\n",
       "        const buttonEl =\n",
       "          document.querySelector('#df-c397172f-9551-4e2f-9e0a-55dcac47a9d9 button.colab-df-convert');\n",
       "        buttonEl.style.display =\n",
       "          google.colab.kernel.accessAllowed ? 'block' : 'none';\n",
       "\n",
       "        async function convertToInteractive(key) {\n",
       "          const element = document.querySelector('#df-c397172f-9551-4e2f-9e0a-55dcac47a9d9');\n",
       "          const dataTable =\n",
       "            await google.colab.kernel.invokeFunction('convertToInteractive',\n",
       "                                                     [key], {});\n",
       "          if (!dataTable) return;\n",
       "\n",
       "          const docLinkHtml = 'Like what you see? Visit the ' +\n",
       "            '<a target=\"_blank\" href=https://colab.research.google.com/notebooks/data_table.ipynb>data table notebook</a>'\n",
       "            + ' to learn more about interactive tables.';\n",
       "          element.innerHTML = '';\n",
       "          dataTable['output_type'] = 'display_data';\n",
       "          await google.colab.output.renderOutput(dataTable, element);\n",
       "          const docLink = document.createElement('div');\n",
       "          docLink.innerHTML = docLinkHtml;\n",
       "          element.appendChild(docLink);\n",
       "        }\n",
       "      </script>\n",
       "    </div>\n",
       "  </div>\n",
       "  "
      ],
      "text/plain": [
       "           budget  popularity  vote_average  vote_count  return  \\\n",
       "3      16000000.0        3.86           6.1        34.0     1.0   \n",
       "8      35000000.0        5.23           5.5       174.0     1.0   \n",
       "10     62000000.0        6.32           6.5       199.0     1.0   \n",
       "15     52000000.0       10.14           7.8      1343.0     1.0   \n",
       "16     16500000.0       10.67           7.2       364.0     1.0   \n",
       "...           ...         ...           ...         ...     ...   \n",
       "44848   2000000.0        1.46           5.3         9.0     1.0   \n",
       "44856   3000000.0        0.45           4.7         3.0     0.0   \n",
       "44970   2196531.0        0.95           5.6        10.0     1.0   \n",
       "45250  12000000.0        1.32           6.9        25.0     1.0   \n",
       "45409    800000.0        0.90           5.8         6.0     1.0   \n",
       "\n",
       "       genre_ed_Action  genre_ed_Adventure  genre_ed_Animation  \\\n",
       "3                    0                   0                   0   \n",
       "8                    1                   0                   0   \n",
       "10                   0                   0                   0   \n",
       "15                   0                   0                   0   \n",
       "16                   0                   0                   0   \n",
       "...                ...                 ...                 ...   \n",
       "44848                0                   0                   0   \n",
       "44856                0                   0                   0   \n",
       "44970                0                   0                   0   \n",
       "45250                1                   0                   0   \n",
       "45409                0                   0                   0   \n",
       "\n",
       "       genre_ed_Comedy  genre_ed_Crime  genre_ed_Drama  genre_ed_Fantasy  \\\n",
       "3                    1               0               0                 0   \n",
       "8                    0               0               0                 0   \n",
       "10                   1               0               0                 0   \n",
       "15                   0               0               1                 0   \n",
       "16                   0               0               1                 0   \n",
       "...                ...             ...             ...               ...   \n",
       "44848                1               0               0                 0   \n",
       "44856                1               0               0                 0   \n",
       "44970                1               0               0                 0   \n",
       "45250                0               0               0                 0   \n",
       "45409                1               0               0                 0   \n",
       "\n",
       "       genre_ed_Horror  genre_ed_Romance  genre_ed_Science Fiction  \\\n",
       "3                    0                 0                         0   \n",
       "8                    0                 0                         0   \n",
       "10                   0                 0                         0   \n",
       "15                   0                 0                         0   \n",
       "16                   0                 0                         0   \n",
       "...                ...               ...                       ...   \n",
       "44848                0                 0                         0   \n",
       "44856                0                 0                         0   \n",
       "44970                0                 0                         0   \n",
       "45250                0                 0                         0   \n",
       "45409                0                 0                         0   \n",
       "\n",
       "       genre_ed_Thriller  \n",
       "3                      0  \n",
       "8                      0  \n",
       "10                     0  \n",
       "15                     0  \n",
       "16                     0  \n",
       "...                  ...  \n",
       "44848                  0  \n",
       "44856                  0  \n",
       "44970                  0  \n",
       "45250                  0  \n",
       "45409                  0  \n",
       "\n",
       "[2488 rows x 16 columns]"
      ]
     },
     "execution_count": 49,
     "metadata": {},
     "output_type": "execute_result"
    }
   ],
   "source": [
    "df_out"
   ]
  },
  {
   "cell_type": "markdown",
   "metadata": {
    "id": "oGfziHAv8tXG"
   },
   "source": [
    "# Split Data into X and Y"
   ]
  },
  {
   "cell_type": "code",
   "execution_count": 50,
   "metadata": {
    "colab": {
     "base_uri": "https://localhost:8080/"
    },
    "id": "FadMSenM8tXH",
    "outputId": "d709dba5-509e-4d1e-ecc9-86e590fb5a76"
   },
   "outputs": [
    {
     "name": "stdout",
     "output_type": "stream",
     "text": [
      "(2488, 15)\n",
      "(2488,)\n"
     ]
    }
   ],
   "source": [
    "# Assign X and Y\n",
    "X = df_out.drop(['return'], axis=1)\n",
    "y = df_out['return']\n",
    "\n",
    "print(X.shape)\n",
    "print(y.shape)"
   ]
  },
  {
   "cell_type": "code",
   "execution_count": 51,
   "metadata": {
    "id": "A2YgkXUI8tXI"
   },
   "outputs": [],
   "source": [
    "import imblearn.under_sampling as u\n",
    "# Random Oversampling to balance the class distribution\n",
    "from collections import Counter\n",
    "from sklearn.datasets import make_classification\n",
    "from imblearn.over_sampling import RandomOverSampler\n",
    "\n",
    "X,y = make_classification(n_features = X.shape[1], n_samples=X.shape[0]) \n",
    "ros = u.RandomUnderSampler(sampling_strategy='majority')\n",
    "X_resampled, Y_resampled = ros.fit_resample(X, y)"
   ]
  },
  {
   "cell_type": "code",
   "execution_count": 52,
   "metadata": {
    "colab": {
     "base_uri": "https://localhost:8080/"
    },
    "id": "KZwsiHUs8tXL",
    "outputId": "0ec4e8eb-f1f3-4698-cd39-6d7b81190d46"
   },
   "outputs": [
    {
     "name": "stdout",
     "output_type": "stream",
     "text": [
      "(2478, 15)\n",
      "(2478, 1)\n"
     ]
    }
   ],
   "source": [
    "X_resampled = pd.DataFrame(X_resampled)\n",
    "print(X_resampled.shape)\n",
    "\n",
    "Y_resampled = pd.DataFrame(Y_resampled)\n",
    "print(Y_resampled.shape)"
   ]
  },
  {
   "cell_type": "code",
   "execution_count": 53,
   "metadata": {
    "id": "WAeDICuJ8tXM"
   },
   "outputs": [],
   "source": [
    "X_resampled.columns = ['budget', 'popularity', 'vote_average', 'vote_count',\n",
    "       'genre_ed_Action', 'genre_ed_Adventure', 'genre_ed_Animation',\n",
    "       'genre_ed_Comedy', 'genre_ed_Crime', 'genre_ed_Drama',\n",
    "       'genre_ed_Fantasy', 'genre_ed_Horror', 'genre_ed_Romance',\n",
    "       'genre_ed_Science Fiction', 'genre_ed_Thriller']"
   ]
  },
  {
   "cell_type": "code",
   "execution_count": 54,
   "metadata": {
    "colab": {
     "base_uri": "https://localhost:8080/",
     "height": 505
    },
    "id": "w0bCzMbZ8tXO",
    "outputId": "582f0f29-4df4-469c-ac6e-7e799635bc00"
   },
   "outputs": [
    {
     "data": {
      "text/html": [
       "\n",
       "  <div id=\"df-fc648a4c-69a9-4011-9189-6de4a8717448\">\n",
       "    <div class=\"colab-df-container\">\n",
       "      <div>\n",
       "<style scoped>\n",
       "    .dataframe tbody tr th:only-of-type {\n",
       "        vertical-align: middle;\n",
       "    }\n",
       "\n",
       "    .dataframe tbody tr th {\n",
       "        vertical-align: top;\n",
       "    }\n",
       "\n",
       "    .dataframe thead th {\n",
       "        text-align: right;\n",
       "    }\n",
       "</style>\n",
       "<table border=\"1\" class=\"dataframe\">\n",
       "  <thead>\n",
       "    <tr style=\"text-align: right;\">\n",
       "      <th></th>\n",
       "      <th>budget</th>\n",
       "      <th>popularity</th>\n",
       "      <th>vote_average</th>\n",
       "      <th>vote_count</th>\n",
       "      <th>genre_ed_Action</th>\n",
       "      <th>genre_ed_Adventure</th>\n",
       "      <th>genre_ed_Animation</th>\n",
       "      <th>genre_ed_Comedy</th>\n",
       "      <th>genre_ed_Crime</th>\n",
       "      <th>genre_ed_Drama</th>\n",
       "      <th>genre_ed_Fantasy</th>\n",
       "      <th>genre_ed_Horror</th>\n",
       "      <th>genre_ed_Romance</th>\n",
       "      <th>genre_ed_Science Fiction</th>\n",
       "      <th>genre_ed_Thriller</th>\n",
       "    </tr>\n",
       "  </thead>\n",
       "  <tbody>\n",
       "    <tr>\n",
       "      <th>0</th>\n",
       "      <td>1.598800</td>\n",
       "      <td>-1.654683</td>\n",
       "      <td>0.346760</td>\n",
       "      <td>0.487214</td>\n",
       "      <td>-0.805698</td>\n",
       "      <td>0.979491</td>\n",
       "      <td>-0.181536</td>\n",
       "      <td>-1.683293</td>\n",
       "      <td>-0.141113</td>\n",
       "      <td>1.192313</td>\n",
       "      <td>-0.637861</td>\n",
       "      <td>-1.829882</td>\n",
       "      <td>0.081181</td>\n",
       "      <td>-0.624192</td>\n",
       "      <td>0.288074</td>\n",
       "    </tr>\n",
       "    <tr>\n",
       "      <th>1</th>\n",
       "      <td>2.360924</td>\n",
       "      <td>-0.761822</td>\n",
       "      <td>-1.479364</td>\n",
       "      <td>0.390014</td>\n",
       "      <td>1.319217</td>\n",
       "      <td>1.060469</td>\n",
       "      <td>0.932113</td>\n",
       "      <td>-0.563320</td>\n",
       "      <td>-1.447062</td>\n",
       "      <td>1.600234</td>\n",
       "      <td>-0.454368</td>\n",
       "      <td>1.502593</td>\n",
       "      <td>-1.664957</td>\n",
       "      <td>-0.416740</td>\n",
       "      <td>1.055483</td>\n",
       "    </tr>\n",
       "    <tr>\n",
       "      <th>2</th>\n",
       "      <td>0.734511</td>\n",
       "      <td>-2.658427</td>\n",
       "      <td>-1.147701</td>\n",
       "      <td>-0.714406</td>\n",
       "      <td>-0.504738</td>\n",
       "      <td>-2.849529</td>\n",
       "      <td>-0.549877</td>\n",
       "      <td>-2.720365</td>\n",
       "      <td>-0.122418</td>\n",
       "      <td>1.836248</td>\n",
       "      <td>0.486537</td>\n",
       "      <td>0.684286</td>\n",
       "      <td>0.542978</td>\n",
       "      <td>0.164341</td>\n",
       "      <td>1.938150</td>\n",
       "    </tr>\n",
       "    <tr>\n",
       "      <th>3</th>\n",
       "      <td>1.507730</td>\n",
       "      <td>-0.104023</td>\n",
       "      <td>-1.211337</td>\n",
       "      <td>-0.810365</td>\n",
       "      <td>-0.063903</td>\n",
       "      <td>-1.327340</td>\n",
       "      <td>-0.642072</td>\n",
       "      <td>-0.521398</td>\n",
       "      <td>2.704573</td>\n",
       "      <td>-1.989024</td>\n",
       "      <td>0.811070</td>\n",
       "      <td>-0.618686</td>\n",
       "      <td>0.266218</td>\n",
       "      <td>0.604282</td>\n",
       "      <td>-0.185749</td>\n",
       "    </tr>\n",
       "    <tr>\n",
       "      <th>4</th>\n",
       "      <td>-0.368942</td>\n",
       "      <td>0.841113</td>\n",
       "      <td>-0.515814</td>\n",
       "      <td>-2.472794</td>\n",
       "      <td>0.571993</td>\n",
       "      <td>-1.308883</td>\n",
       "      <td>-1.420354</td>\n",
       "      <td>0.756645</td>\n",
       "      <td>0.718208</td>\n",
       "      <td>-1.097822</td>\n",
       "      <td>-0.484743</td>\n",
       "      <td>0.275348</td>\n",
       "      <td>0.949350</td>\n",
       "      <td>-0.321327</td>\n",
       "      <td>-0.214434</td>\n",
       "    </tr>\n",
       "    <tr>\n",
       "      <th>...</th>\n",
       "      <td>...</td>\n",
       "      <td>...</td>\n",
       "      <td>...</td>\n",
       "      <td>...</td>\n",
       "      <td>...</td>\n",
       "      <td>...</td>\n",
       "      <td>...</td>\n",
       "      <td>...</td>\n",
       "      <td>...</td>\n",
       "      <td>...</td>\n",
       "      <td>...</td>\n",
       "      <td>...</td>\n",
       "      <td>...</td>\n",
       "      <td>...</td>\n",
       "      <td>...</td>\n",
       "    </tr>\n",
       "    <tr>\n",
       "      <th>2473</th>\n",
       "      <td>-0.229072</td>\n",
       "      <td>0.417001</td>\n",
       "      <td>-0.032904</td>\n",
       "      <td>0.501111</td>\n",
       "      <td>1.483214</td>\n",
       "      <td>0.314076</td>\n",
       "      <td>-0.959396</td>\n",
       "      <td>0.617199</td>\n",
       "      <td>-1.224518</td>\n",
       "      <td>0.658000</td>\n",
       "      <td>0.094880</td>\n",
       "      <td>-0.318821</td>\n",
       "      <td>-0.213669</td>\n",
       "      <td>-0.346609</td>\n",
       "      <td>-1.640387</td>\n",
       "    </tr>\n",
       "    <tr>\n",
       "      <th>2474</th>\n",
       "      <td>-0.248924</td>\n",
       "      <td>0.557018</td>\n",
       "      <td>0.121095</td>\n",
       "      <td>0.246023</td>\n",
       "      <td>-0.504394</td>\n",
       "      <td>-0.874529</td>\n",
       "      <td>0.661629</td>\n",
       "      <td>0.359622</td>\n",
       "      <td>1.399255</td>\n",
       "      <td>-1.429579</td>\n",
       "      <td>0.807912</td>\n",
       "      <td>-0.618798</td>\n",
       "      <td>1.407622</td>\n",
       "      <td>-0.795267</td>\n",
       "      <td>-0.322658</td>\n",
       "    </tr>\n",
       "    <tr>\n",
       "      <th>2475</th>\n",
       "      <td>2.229793</td>\n",
       "      <td>0.934412</td>\n",
       "      <td>-1.272813</td>\n",
       "      <td>-0.165784</td>\n",
       "      <td>-0.233679</td>\n",
       "      <td>-0.870201</td>\n",
       "      <td>-0.536162</td>\n",
       "      <td>0.997641</td>\n",
       "      <td>-0.227667</td>\n",
       "      <td>-0.439519</td>\n",
       "      <td>1.733348</td>\n",
       "      <td>0.952719</td>\n",
       "      <td>-0.706093</td>\n",
       "      <td>0.744746</td>\n",
       "      <td>-0.492885</td>\n",
       "    </tr>\n",
       "    <tr>\n",
       "      <th>2476</th>\n",
       "      <td>1.176170</td>\n",
       "      <td>-0.229494</td>\n",
       "      <td>0.055064</td>\n",
       "      <td>-0.309182</td>\n",
       "      <td>0.000783</td>\n",
       "      <td>-2.278315</td>\n",
       "      <td>-1.113296</td>\n",
       "      <td>-0.553944</td>\n",
       "      <td>2.072968</td>\n",
       "      <td>-1.426322</td>\n",
       "      <td>0.416729</td>\n",
       "      <td>0.662383</td>\n",
       "      <td>0.089359</td>\n",
       "      <td>0.980069</td>\n",
       "      <td>0.891572</td>\n",
       "    </tr>\n",
       "    <tr>\n",
       "      <th>2477</th>\n",
       "      <td>-0.237344</td>\n",
       "      <td>2.020534</td>\n",
       "      <td>2.108048</td>\n",
       "      <td>1.165926</td>\n",
       "      <td>-0.323333</td>\n",
       "      <td>-0.733994</td>\n",
       "      <td>0.955419</td>\n",
       "      <td>2.213367</td>\n",
       "      <td>-0.858648</td>\n",
       "      <td>-0.671734</td>\n",
       "      <td>1.512008</td>\n",
       "      <td>-0.713766</td>\n",
       "      <td>0.145477</td>\n",
       "      <td>-0.187731</td>\n",
       "      <td>-0.999339</td>\n",
       "    </tr>\n",
       "  </tbody>\n",
       "</table>\n",
       "<p>2478 rows × 15 columns</p>\n",
       "</div>\n",
       "      <button class=\"colab-df-convert\" onclick=\"convertToInteractive('df-fc648a4c-69a9-4011-9189-6de4a8717448')\"\n",
       "              title=\"Convert this dataframe to an interactive table.\"\n",
       "              style=\"display:none;\">\n",
       "        \n",
       "  <svg xmlns=\"http://www.w3.org/2000/svg\" height=\"24px\"viewBox=\"0 0 24 24\"\n",
       "       width=\"24px\">\n",
       "    <path d=\"M0 0h24v24H0V0z\" fill=\"none\"/>\n",
       "    <path d=\"M18.56 5.44l.94 2.06.94-2.06 2.06-.94-2.06-.94-.94-2.06-.94 2.06-2.06.94zm-11 1L8.5 8.5l.94-2.06 2.06-.94-2.06-.94L8.5 2.5l-.94 2.06-2.06.94zm10 10l.94 2.06.94-2.06 2.06-.94-2.06-.94-.94-2.06-.94 2.06-2.06.94z\"/><path d=\"M17.41 7.96l-1.37-1.37c-.4-.4-.92-.59-1.43-.59-.52 0-1.04.2-1.43.59L10.3 9.45l-7.72 7.72c-.78.78-.78 2.05 0 2.83L4 21.41c.39.39.9.59 1.41.59.51 0 1.02-.2 1.41-.59l7.78-7.78 2.81-2.81c.8-.78.8-2.07 0-2.86zM5.41 20L4 18.59l7.72-7.72 1.47 1.35L5.41 20z\"/>\n",
       "  </svg>\n",
       "      </button>\n",
       "      \n",
       "  <style>\n",
       "    .colab-df-container {\n",
       "      display:flex;\n",
       "      flex-wrap:wrap;\n",
       "      gap: 12px;\n",
       "    }\n",
       "\n",
       "    .colab-df-convert {\n",
       "      background-color: #E8F0FE;\n",
       "      border: none;\n",
       "      border-radius: 50%;\n",
       "      cursor: pointer;\n",
       "      display: none;\n",
       "      fill: #1967D2;\n",
       "      height: 32px;\n",
       "      padding: 0 0 0 0;\n",
       "      width: 32px;\n",
       "    }\n",
       "\n",
       "    .colab-df-convert:hover {\n",
       "      background-color: #E2EBFA;\n",
       "      box-shadow: 0px 1px 2px rgba(60, 64, 67, 0.3), 0px 1px 3px 1px rgba(60, 64, 67, 0.15);\n",
       "      fill: #174EA6;\n",
       "    }\n",
       "\n",
       "    [theme=dark] .colab-df-convert {\n",
       "      background-color: #3B4455;\n",
       "      fill: #D2E3FC;\n",
       "    }\n",
       "\n",
       "    [theme=dark] .colab-df-convert:hover {\n",
       "      background-color: #434B5C;\n",
       "      box-shadow: 0px 1px 3px 1px rgba(0, 0, 0, 0.15);\n",
       "      filter: drop-shadow(0px 1px 2px rgba(0, 0, 0, 0.3));\n",
       "      fill: #FFFFFF;\n",
       "    }\n",
       "  </style>\n",
       "\n",
       "      <script>\n",
       "        const buttonEl =\n",
       "          document.querySelector('#df-fc648a4c-69a9-4011-9189-6de4a8717448 button.colab-df-convert');\n",
       "        buttonEl.style.display =\n",
       "          google.colab.kernel.accessAllowed ? 'block' : 'none';\n",
       "\n",
       "        async function convertToInteractive(key) {\n",
       "          const element = document.querySelector('#df-fc648a4c-69a9-4011-9189-6de4a8717448');\n",
       "          const dataTable =\n",
       "            await google.colab.kernel.invokeFunction('convertToInteractive',\n",
       "                                                     [key], {});\n",
       "          if (!dataTable) return;\n",
       "\n",
       "          const docLinkHtml = 'Like what you see? Visit the ' +\n",
       "            '<a target=\"_blank\" href=https://colab.research.google.com/notebooks/data_table.ipynb>data table notebook</a>'\n",
       "            + ' to learn more about interactive tables.';\n",
       "          element.innerHTML = '';\n",
       "          dataTable['output_type'] = 'display_data';\n",
       "          await google.colab.output.renderOutput(dataTable, element);\n",
       "          const docLink = document.createElement('div');\n",
       "          docLink.innerHTML = docLinkHtml;\n",
       "          element.appendChild(docLink);\n",
       "        }\n",
       "      </script>\n",
       "    </div>\n",
       "  </div>\n",
       "  "
      ],
      "text/plain": [
       "        budget  popularity  vote_average  vote_count  genre_ed_Action  \\\n",
       "0     1.598800   -1.654683      0.346760    0.487214        -0.805698   \n",
       "1     2.360924   -0.761822     -1.479364    0.390014         1.319217   \n",
       "2     0.734511   -2.658427     -1.147701   -0.714406        -0.504738   \n",
       "3     1.507730   -0.104023     -1.211337   -0.810365        -0.063903   \n",
       "4    -0.368942    0.841113     -0.515814   -2.472794         0.571993   \n",
       "...        ...         ...           ...         ...              ...   \n",
       "2473 -0.229072    0.417001     -0.032904    0.501111         1.483214   \n",
       "2474 -0.248924    0.557018      0.121095    0.246023        -0.504394   \n",
       "2475  2.229793    0.934412     -1.272813   -0.165784        -0.233679   \n",
       "2476  1.176170   -0.229494      0.055064   -0.309182         0.000783   \n",
       "2477 -0.237344    2.020534      2.108048    1.165926        -0.323333   \n",
       "\n",
       "      genre_ed_Adventure  genre_ed_Animation  genre_ed_Comedy  genre_ed_Crime  \\\n",
       "0               0.979491           -0.181536        -1.683293       -0.141113   \n",
       "1               1.060469            0.932113        -0.563320       -1.447062   \n",
       "2              -2.849529           -0.549877        -2.720365       -0.122418   \n",
       "3              -1.327340           -0.642072        -0.521398        2.704573   \n",
       "4              -1.308883           -1.420354         0.756645        0.718208   \n",
       "...                  ...                 ...              ...             ...   \n",
       "2473            0.314076           -0.959396         0.617199       -1.224518   \n",
       "2474           -0.874529            0.661629         0.359622        1.399255   \n",
       "2475           -0.870201           -0.536162         0.997641       -0.227667   \n",
       "2476           -2.278315           -1.113296        -0.553944        2.072968   \n",
       "2477           -0.733994            0.955419         2.213367       -0.858648   \n",
       "\n",
       "      genre_ed_Drama  genre_ed_Fantasy  genre_ed_Horror  genre_ed_Romance  \\\n",
       "0           1.192313         -0.637861        -1.829882          0.081181   \n",
       "1           1.600234         -0.454368         1.502593         -1.664957   \n",
       "2           1.836248          0.486537         0.684286          0.542978   \n",
       "3          -1.989024          0.811070        -0.618686          0.266218   \n",
       "4          -1.097822         -0.484743         0.275348          0.949350   \n",
       "...              ...               ...              ...               ...   \n",
       "2473        0.658000          0.094880        -0.318821         -0.213669   \n",
       "2474       -1.429579          0.807912        -0.618798          1.407622   \n",
       "2475       -0.439519          1.733348         0.952719         -0.706093   \n",
       "2476       -1.426322          0.416729         0.662383          0.089359   \n",
       "2477       -0.671734          1.512008        -0.713766          0.145477   \n",
       "\n",
       "      genre_ed_Science Fiction  genre_ed_Thriller  \n",
       "0                    -0.624192           0.288074  \n",
       "1                    -0.416740           1.055483  \n",
       "2                     0.164341           1.938150  \n",
       "3                     0.604282          -0.185749  \n",
       "4                    -0.321327          -0.214434  \n",
       "...                        ...                ...  \n",
       "2473                 -0.346609          -1.640387  \n",
       "2474                 -0.795267          -0.322658  \n",
       "2475                  0.744746          -0.492885  \n",
       "2476                  0.980069           0.891572  \n",
       "2477                 -0.187731          -0.999339  \n",
       "\n",
       "[2478 rows x 15 columns]"
      ]
     },
     "execution_count": 54,
     "metadata": {},
     "output_type": "execute_result"
    }
   ],
   "source": [
    "X_resampled"
   ]
  },
  {
   "cell_type": "code",
   "execution_count": 55,
   "metadata": {
    "id": "aNSyel7B8tXP"
   },
   "outputs": [],
   "source": [
    "# We will be performing 80/20 split\n",
    "X_train, X_test, y_train, y_test = train_test_split(X_resampled, Y_resampled,\n",
    "                                                    test_size = 0.20,\n",
    "                                                    shuffle = True,\n",
    "                                                    random_state = 42)"
   ]
  },
  {
   "cell_type": "code",
   "execution_count": 56,
   "metadata": {
    "colab": {
     "base_uri": "https://localhost:8080/",
     "height": 505
    },
    "id": "PyyB7CmH8tXR",
    "outputId": "0e0062ed-09f2-457b-b292-0cccdbd5c064"
   },
   "outputs": [
    {
     "data": {
      "text/html": [
       "\n",
       "  <div id=\"df-7d04d5a6-bd8b-4a13-87e0-fc78300a6cf0\">\n",
       "    <div class=\"colab-df-container\">\n",
       "      <div>\n",
       "<style scoped>\n",
       "    .dataframe tbody tr th:only-of-type {\n",
       "        vertical-align: middle;\n",
       "    }\n",
       "\n",
       "    .dataframe tbody tr th {\n",
       "        vertical-align: top;\n",
       "    }\n",
       "\n",
       "    .dataframe thead th {\n",
       "        text-align: right;\n",
       "    }\n",
       "</style>\n",
       "<table border=\"1\" class=\"dataframe\">\n",
       "  <thead>\n",
       "    <tr style=\"text-align: right;\">\n",
       "      <th></th>\n",
       "      <th>budget</th>\n",
       "      <th>popularity</th>\n",
       "      <th>vote_average</th>\n",
       "      <th>vote_count</th>\n",
       "      <th>genre_ed_Action</th>\n",
       "      <th>genre_ed_Adventure</th>\n",
       "      <th>genre_ed_Animation</th>\n",
       "      <th>genre_ed_Comedy</th>\n",
       "      <th>genre_ed_Crime</th>\n",
       "      <th>genre_ed_Drama</th>\n",
       "      <th>genre_ed_Fantasy</th>\n",
       "      <th>genre_ed_Horror</th>\n",
       "      <th>genre_ed_Romance</th>\n",
       "      <th>genre_ed_Science Fiction</th>\n",
       "      <th>genre_ed_Thriller</th>\n",
       "    </tr>\n",
       "  </thead>\n",
       "  <tbody>\n",
       "    <tr>\n",
       "      <th>2464</th>\n",
       "      <td>-0.376968</td>\n",
       "      <td>2.192452</td>\n",
       "      <td>-0.284886</td>\n",
       "      <td>1.055423</td>\n",
       "      <td>-0.496786</td>\n",
       "      <td>-0.712943</td>\n",
       "      <td>-0.139687</td>\n",
       "      <td>2.234483</td>\n",
       "      <td>0.160056</td>\n",
       "      <td>-1.559337</td>\n",
       "      <td>-0.358350</td>\n",
       "      <td>0.197528</td>\n",
       "      <td>0.020858</td>\n",
       "      <td>-0.200832</td>\n",
       "      <td>-1.066185</td>\n",
       "    </tr>\n",
       "    <tr>\n",
       "      <th>1561</th>\n",
       "      <td>0.561894</td>\n",
       "      <td>0.940982</td>\n",
       "      <td>0.587513</td>\n",
       "      <td>-0.023669</td>\n",
       "      <td>0.227949</td>\n",
       "      <td>0.031655</td>\n",
       "      <td>0.248240</td>\n",
       "      <td>0.798579</td>\n",
       "      <td>1.116279</td>\n",
       "      <td>-1.466099</td>\n",
       "      <td>-1.199671</td>\n",
       "      <td>-0.564967</td>\n",
       "      <td>0.142457</td>\n",
       "      <td>1.396647</td>\n",
       "      <td>0.797771</td>\n",
       "    </tr>\n",
       "    <tr>\n",
       "      <th>2469</th>\n",
       "      <td>1.958893</td>\n",
       "      <td>0.440381</td>\n",
       "      <td>1.768330</td>\n",
       "      <td>0.353740</td>\n",
       "      <td>0.619676</td>\n",
       "      <td>0.299265</td>\n",
       "      <td>1.137919</td>\n",
       "      <td>0.207227</td>\n",
       "      <td>1.609617</td>\n",
       "      <td>-1.513112</td>\n",
       "      <td>0.443671</td>\n",
       "      <td>-0.119375</td>\n",
       "      <td>0.065870</td>\n",
       "      <td>-0.041687</td>\n",
       "      <td>-0.659334</td>\n",
       "    </tr>\n",
       "    <tr>\n",
       "      <th>1513</th>\n",
       "      <td>-0.097455</td>\n",
       "      <td>2.659243</td>\n",
       "      <td>0.385920</td>\n",
       "      <td>-1.050459</td>\n",
       "      <td>1.008672</td>\n",
       "      <td>-2.000633</td>\n",
       "      <td>0.437005</td>\n",
       "      <td>2.746229</td>\n",
       "      <td>-0.040966</td>\n",
       "      <td>-1.712505</td>\n",
       "      <td>0.482210</td>\n",
       "      <td>-2.239173</td>\n",
       "      <td>0.994307</td>\n",
       "      <td>0.045463</td>\n",
       "      <td>-3.070495</td>\n",
       "    </tr>\n",
       "    <tr>\n",
       "      <th>1133</th>\n",
       "      <td>-1.013164</td>\n",
       "      <td>1.977028</td>\n",
       "      <td>1.541909</td>\n",
       "      <td>1.302869</td>\n",
       "      <td>-1.086843</td>\n",
       "      <td>0.337660</td>\n",
       "      <td>-0.938001</td>\n",
       "      <td>1.673436</td>\n",
       "      <td>2.374056</td>\n",
       "      <td>-3.102161</td>\n",
       "      <td>1.025811</td>\n",
       "      <td>-1.177453</td>\n",
       "      <td>-0.647078</td>\n",
       "      <td>0.776997</td>\n",
       "      <td>-1.265387</td>\n",
       "    </tr>\n",
       "    <tr>\n",
       "      <th>...</th>\n",
       "      <td>...</td>\n",
       "      <td>...</td>\n",
       "      <td>...</td>\n",
       "      <td>...</td>\n",
       "      <td>...</td>\n",
       "      <td>...</td>\n",
       "      <td>...</td>\n",
       "      <td>...</td>\n",
       "      <td>...</td>\n",
       "      <td>...</td>\n",
       "      <td>...</td>\n",
       "      <td>...</td>\n",
       "      <td>...</td>\n",
       "      <td>...</td>\n",
       "      <td>...</td>\n",
       "    </tr>\n",
       "    <tr>\n",
       "      <th>1638</th>\n",
       "      <td>-0.907511</td>\n",
       "      <td>0.779662</td>\n",
       "      <td>1.037018</td>\n",
       "      <td>-0.072144</td>\n",
       "      <td>-2.006602</td>\n",
       "      <td>0.767428</td>\n",
       "      <td>-0.918268</td>\n",
       "      <td>0.944835</td>\n",
       "      <td>-0.923960</td>\n",
       "      <td>0.191585</td>\n",
       "      <td>-0.815322</td>\n",
       "      <td>0.036226</td>\n",
       "      <td>1.343975</td>\n",
       "      <td>0.601364</td>\n",
       "      <td>-0.853810</td>\n",
       "    </tr>\n",
       "    <tr>\n",
       "      <th>1095</th>\n",
       "      <td>0.717811</td>\n",
       "      <td>-0.910108</td>\n",
       "      <td>-1.723067</td>\n",
       "      <td>-0.077548</td>\n",
       "      <td>-1.356430</td>\n",
       "      <td>0.529143</td>\n",
       "      <td>1.130610</td>\n",
       "      <td>-0.876613</td>\n",
       "      <td>-0.399066</td>\n",
       "      <td>0.900307</td>\n",
       "      <td>3.066270</td>\n",
       "      <td>-1.270197</td>\n",
       "      <td>0.368304</td>\n",
       "      <td>-0.029323</td>\n",
       "      <td>-0.740094</td>\n",
       "    </tr>\n",
       "    <tr>\n",
       "      <th>1130</th>\n",
       "      <td>-0.811769</td>\n",
       "      <td>-0.434905</td>\n",
       "      <td>-0.261636</td>\n",
       "      <td>0.598440</td>\n",
       "      <td>-0.612655</td>\n",
       "      <td>-2.225672</td>\n",
       "      <td>-0.795524</td>\n",
       "      <td>-0.694066</td>\n",
       "      <td>1.605959</td>\n",
       "      <td>-0.936404</td>\n",
       "      <td>0.218054</td>\n",
       "      <td>0.775111</td>\n",
       "      <td>-0.033713</td>\n",
       "      <td>-0.428738</td>\n",
       "      <td>-0.247900</td>\n",
       "    </tr>\n",
       "    <tr>\n",
       "      <th>1294</th>\n",
       "      <td>0.634405</td>\n",
       "      <td>1.540785</td>\n",
       "      <td>1.365026</td>\n",
       "      <td>0.112224</td>\n",
       "      <td>0.934790</td>\n",
       "      <td>-0.481134</td>\n",
       "      <td>0.617043</td>\n",
       "      <td>1.717856</td>\n",
       "      <td>-0.850810</td>\n",
       "      <td>-0.363125</td>\n",
       "      <td>-0.343400</td>\n",
       "      <td>-0.074224</td>\n",
       "      <td>0.272693</td>\n",
       "      <td>-1.532962</td>\n",
       "      <td>0.131898</td>\n",
       "    </tr>\n",
       "    <tr>\n",
       "      <th>860</th>\n",
       "      <td>-1.603242</td>\n",
       "      <td>-0.827586</td>\n",
       "      <td>1.958636</td>\n",
       "      <td>-1.724266</td>\n",
       "      <td>0.803692</td>\n",
       "      <td>0.687020</td>\n",
       "      <td>1.256071</td>\n",
       "      <td>-1.145505</td>\n",
       "      <td>1.911790</td>\n",
       "      <td>-0.911553</td>\n",
       "      <td>0.497810</td>\n",
       "      <td>2.481700</td>\n",
       "      <td>0.171566</td>\n",
       "      <td>-0.731764</td>\n",
       "      <td>1.206269</td>\n",
       "    </tr>\n",
       "  </tbody>\n",
       "</table>\n",
       "<p>1982 rows × 15 columns</p>\n",
       "</div>\n",
       "      <button class=\"colab-df-convert\" onclick=\"convertToInteractive('df-7d04d5a6-bd8b-4a13-87e0-fc78300a6cf0')\"\n",
       "              title=\"Convert this dataframe to an interactive table.\"\n",
       "              style=\"display:none;\">\n",
       "        \n",
       "  <svg xmlns=\"http://www.w3.org/2000/svg\" height=\"24px\"viewBox=\"0 0 24 24\"\n",
       "       width=\"24px\">\n",
       "    <path d=\"M0 0h24v24H0V0z\" fill=\"none\"/>\n",
       "    <path d=\"M18.56 5.44l.94 2.06.94-2.06 2.06-.94-2.06-.94-.94-2.06-.94 2.06-2.06.94zm-11 1L8.5 8.5l.94-2.06 2.06-.94-2.06-.94L8.5 2.5l-.94 2.06-2.06.94zm10 10l.94 2.06.94-2.06 2.06-.94-2.06-.94-.94-2.06-.94 2.06-2.06.94z\"/><path d=\"M17.41 7.96l-1.37-1.37c-.4-.4-.92-.59-1.43-.59-.52 0-1.04.2-1.43.59L10.3 9.45l-7.72 7.72c-.78.78-.78 2.05 0 2.83L4 21.41c.39.39.9.59 1.41.59.51 0 1.02-.2 1.41-.59l7.78-7.78 2.81-2.81c.8-.78.8-2.07 0-2.86zM5.41 20L4 18.59l7.72-7.72 1.47 1.35L5.41 20z\"/>\n",
       "  </svg>\n",
       "      </button>\n",
       "      \n",
       "  <style>\n",
       "    .colab-df-container {\n",
       "      display:flex;\n",
       "      flex-wrap:wrap;\n",
       "      gap: 12px;\n",
       "    }\n",
       "\n",
       "    .colab-df-convert {\n",
       "      background-color: #E8F0FE;\n",
       "      border: none;\n",
       "      border-radius: 50%;\n",
       "      cursor: pointer;\n",
       "      display: none;\n",
       "      fill: #1967D2;\n",
       "      height: 32px;\n",
       "      padding: 0 0 0 0;\n",
       "      width: 32px;\n",
       "    }\n",
       "\n",
       "    .colab-df-convert:hover {\n",
       "      background-color: #E2EBFA;\n",
       "      box-shadow: 0px 1px 2px rgba(60, 64, 67, 0.3), 0px 1px 3px 1px rgba(60, 64, 67, 0.15);\n",
       "      fill: #174EA6;\n",
       "    }\n",
       "\n",
       "    [theme=dark] .colab-df-convert {\n",
       "      background-color: #3B4455;\n",
       "      fill: #D2E3FC;\n",
       "    }\n",
       "\n",
       "    [theme=dark] .colab-df-convert:hover {\n",
       "      background-color: #434B5C;\n",
       "      box-shadow: 0px 1px 3px 1px rgba(0, 0, 0, 0.15);\n",
       "      filter: drop-shadow(0px 1px 2px rgba(0, 0, 0, 0.3));\n",
       "      fill: #FFFFFF;\n",
       "    }\n",
       "  </style>\n",
       "\n",
       "      <script>\n",
       "        const buttonEl =\n",
       "          document.querySelector('#df-7d04d5a6-bd8b-4a13-87e0-fc78300a6cf0 button.colab-df-convert');\n",
       "        buttonEl.style.display =\n",
       "          google.colab.kernel.accessAllowed ? 'block' : 'none';\n",
       "\n",
       "        async function convertToInteractive(key) {\n",
       "          const element = document.querySelector('#df-7d04d5a6-bd8b-4a13-87e0-fc78300a6cf0');\n",
       "          const dataTable =\n",
       "            await google.colab.kernel.invokeFunction('convertToInteractive',\n",
       "                                                     [key], {});\n",
       "          if (!dataTable) return;\n",
       "\n",
       "          const docLinkHtml = 'Like what you see? Visit the ' +\n",
       "            '<a target=\"_blank\" href=https://colab.research.google.com/notebooks/data_table.ipynb>data table notebook</a>'\n",
       "            + ' to learn more about interactive tables.';\n",
       "          element.innerHTML = '';\n",
       "          dataTable['output_type'] = 'display_data';\n",
       "          await google.colab.output.renderOutput(dataTable, element);\n",
       "          const docLink = document.createElement('div');\n",
       "          docLink.innerHTML = docLinkHtml;\n",
       "          element.appendChild(docLink);\n",
       "        }\n",
       "      </script>\n",
       "    </div>\n",
       "  </div>\n",
       "  "
      ],
      "text/plain": [
       "        budget  popularity  vote_average  vote_count  genre_ed_Action  \\\n",
       "2464 -0.376968    2.192452     -0.284886    1.055423        -0.496786   \n",
       "1561  0.561894    0.940982      0.587513   -0.023669         0.227949   \n",
       "2469  1.958893    0.440381      1.768330    0.353740         0.619676   \n",
       "1513 -0.097455    2.659243      0.385920   -1.050459         1.008672   \n",
       "1133 -1.013164    1.977028      1.541909    1.302869        -1.086843   \n",
       "...        ...         ...           ...         ...              ...   \n",
       "1638 -0.907511    0.779662      1.037018   -0.072144        -2.006602   \n",
       "1095  0.717811   -0.910108     -1.723067   -0.077548        -1.356430   \n",
       "1130 -0.811769   -0.434905     -0.261636    0.598440        -0.612655   \n",
       "1294  0.634405    1.540785      1.365026    0.112224         0.934790   \n",
       "860  -1.603242   -0.827586      1.958636   -1.724266         0.803692   \n",
       "\n",
       "      genre_ed_Adventure  genre_ed_Animation  genre_ed_Comedy  genre_ed_Crime  \\\n",
       "2464           -0.712943           -0.139687         2.234483        0.160056   \n",
       "1561            0.031655            0.248240         0.798579        1.116279   \n",
       "2469            0.299265            1.137919         0.207227        1.609617   \n",
       "1513           -2.000633            0.437005         2.746229       -0.040966   \n",
       "1133            0.337660           -0.938001         1.673436        2.374056   \n",
       "...                  ...                 ...              ...             ...   \n",
       "1638            0.767428           -0.918268         0.944835       -0.923960   \n",
       "1095            0.529143            1.130610        -0.876613       -0.399066   \n",
       "1130           -2.225672           -0.795524        -0.694066        1.605959   \n",
       "1294           -0.481134            0.617043         1.717856       -0.850810   \n",
       "860             0.687020            1.256071        -1.145505        1.911790   \n",
       "\n",
       "      genre_ed_Drama  genre_ed_Fantasy  genre_ed_Horror  genre_ed_Romance  \\\n",
       "2464       -1.559337         -0.358350         0.197528          0.020858   \n",
       "1561       -1.466099         -1.199671        -0.564967          0.142457   \n",
       "2469       -1.513112          0.443671        -0.119375          0.065870   \n",
       "1513       -1.712505          0.482210        -2.239173          0.994307   \n",
       "1133       -3.102161          1.025811        -1.177453         -0.647078   \n",
       "...              ...               ...              ...               ...   \n",
       "1638        0.191585         -0.815322         0.036226          1.343975   \n",
       "1095        0.900307          3.066270        -1.270197          0.368304   \n",
       "1130       -0.936404          0.218054         0.775111         -0.033713   \n",
       "1294       -0.363125         -0.343400        -0.074224          0.272693   \n",
       "860        -0.911553          0.497810         2.481700          0.171566   \n",
       "\n",
       "      genre_ed_Science Fiction  genre_ed_Thriller  \n",
       "2464                 -0.200832          -1.066185  \n",
       "1561                  1.396647           0.797771  \n",
       "2469                 -0.041687          -0.659334  \n",
       "1513                  0.045463          -3.070495  \n",
       "1133                  0.776997          -1.265387  \n",
       "...                        ...                ...  \n",
       "1638                  0.601364          -0.853810  \n",
       "1095                 -0.029323          -0.740094  \n",
       "1130                 -0.428738          -0.247900  \n",
       "1294                 -1.532962           0.131898  \n",
       "860                  -0.731764           1.206269  \n",
       "\n",
       "[1982 rows x 15 columns]"
      ]
     },
     "execution_count": 56,
     "metadata": {},
     "output_type": "execute_result"
    }
   ],
   "source": [
    "X_train"
   ]
  },
  {
   "cell_type": "code",
   "execution_count": 57,
   "metadata": {
    "colab": {
     "base_uri": "https://localhost:8080/"
    },
    "id": "pihYJ4O-8tXT",
    "outputId": "201ec24a-fce4-420a-84b2-331671523495"
   },
   "outputs": [
    {
     "name": "stdout",
     "output_type": "stream",
     "text": [
      "(1982, 15) (496, 15) (1982, 1) (496, 1)\n"
     ]
    }
   ],
   "source": [
    "# shape check\n",
    "print(X_train.shape, X_test.shape, y_train.shape, y_test.shape)"
   ]
  },
  {
   "cell_type": "markdown",
   "metadata": {
    "id": "O-lMX2WR8tXZ"
   },
   "source": [
    "# 1) Logistic Regression Model"
   ]
  },
  {
   "cell_type": "code",
   "execution_count": 58,
   "metadata": {
    "id": "_F-XqOFc8tXa"
   },
   "outputs": [],
   "source": [
    "#Fit the model\n",
    "LR = LogisticRegression()\n",
    "LR = LR.fit(X_train, y_train)"
   ]
  },
  {
   "cell_type": "code",
   "execution_count": 59,
   "metadata": {
    "id": "1POJljg-8tXc"
   },
   "outputs": [],
   "source": [
    "# store the predictions\n",
    "train_preds_LR = LR.predict(X_train) \n",
    "test_preds_LR = LR.predict(X_test) "
   ]
  },
  {
   "cell_type": "code",
   "execution_count": 60,
   "metadata": {
    "colab": {
     "base_uri": "https://localhost:8080/"
    },
    "id": "O5sVYFwg8tXe",
    "outputId": "5a62f8ab-ecab-408c-d377-b50c9fa42cef"
   },
   "outputs": [
    {
     "data": {
      "text/plain": [
       "array([[845, 146],\n",
       "       [110, 881]])"
      ]
     },
     "execution_count": 60,
     "metadata": {},
     "output_type": "execute_result"
    }
   ],
   "source": [
    "#Evaluate the model\n",
    "# train confusion matrix\n",
    "confusion_matrix(y_train, train_preds_LR)"
   ]
  },
  {
   "cell_type": "code",
   "execution_count": 61,
   "metadata": {
    "colab": {
     "base_uri": "https://localhost:8080/"
    },
    "id": "pzPxDr5s8tXf",
    "outputId": "cfa61b84-d996-4e0b-b1d6-edcc191b3a25"
   },
   "outputs": [
    {
     "data": {
      "text/plain": [
       "array([[189,  59],\n",
       "       [ 22, 226]])"
      ]
     },
     "execution_count": 61,
     "metadata": {},
     "output_type": "execute_result"
    }
   ],
   "source": [
    "# test confusion matrix\n",
    "confusion_matrix(y_test, test_preds_LR)"
   ]
  },
  {
   "cell_type": "code",
   "execution_count": 62,
   "metadata": {
    "colab": {
     "base_uri": "https://localhost:8080/"
    },
    "id": "daT5Qvl28tXh",
    "outputId": "edf9ad8b-ebcc-4946-ff34-84216be6beec"
   },
   "outputs": [
    {
     "data": {
      "text/plain": [
       "(189, 59, 22, 226)"
      ]
     },
     "execution_count": 62,
     "metadata": {},
     "output_type": "execute_result"
    }
   ],
   "source": [
    "# extract TP, TN, FP, FN\n",
    "tn, fp, fn, tp = confusion_matrix(y_test, test_preds_LR).ravel()\n",
    "(tn, fp, fn, tp)"
   ]
  },
  {
   "cell_type": "code",
   "execution_count": 63,
   "metadata": {
    "colab": {
     "base_uri": "https://localhost:8080/"
    },
    "id": "GF77fTCt8tXi",
    "outputId": "83f45223-60a6-4365-d571-a3d8f21094a6"
   },
   "outputs": [
    {
     "name": "stdout",
     "output_type": "stream",
     "text": [
      "accuracy for Logistic regression = 83.66935 %\n",
      "              precision    recall  f1-score   support\n",
      "\n",
      "           0       0.90      0.76      0.82       248\n",
      "           1       0.79      0.91      0.85       248\n",
      "\n",
      "    accuracy                           0.84       496\n",
      "   macro avg       0.84      0.84      0.84       496\n",
      "weighted avg       0.84      0.84      0.84       496\n",
      "\n"
     ]
    }
   ],
   "source": [
    "ac1 = accuracy_score(y_test,test_preds_LR)\n",
    "print('accuracy for Logistic regression =', round(ac1*100,5) , '%')\n",
    "print(classification_report(y_test, test_preds_LR))"
   ]
  },
  {
   "cell_type": "code",
   "execution_count": 64,
   "metadata": {
    "colab": {
     "base_uri": "https://localhost:8080/",
     "height": 295
    },
    "id": "YwFg-p_b8tXj",
    "outputId": "7f6b596f-0de7-4d07-b83a-8f47bf1243d4"
   },
   "outputs": [
    {
     "data": {
      "image/png": "[encoded data removed]",
      "text/plain": [
       "<Figure size 432x288 with 1 Axes>"
      ]
     },
     "metadata": {
      "needs_background": "light"
     },
     "output_type": "display_data"
    }
   ],
   "source": [
    "cm = confusion_matrix(y_test, test_preds_LR)\n",
    "plt.clf()\n",
    "plt.imshow(cm, interpolation='nearest', cmap=plt.cm.Blues)\n",
    "classNames = ['False','True']\n",
    "plt.title('Logistic Regression accuracy')\n",
    "plt.ylabel('True label')\n",
    "plt.xlabel('Predicted label')\n",
    "tick_marks = np.arange(len(classNames))\n",
    "plt.xticks(tick_marks, classNames)\n",
    "plt.yticks(tick_marks, classNames)\n",
    "s = [['TN','FP'], ['FN', 'TP']]\n",
    "for i in range(2):\n",
    "    for j in range(2):\n",
    "        plt.text(j,i, str(s[i][j])+\" = \"+str(cm[i][j]))"
   ]
  },
  {
   "cell_type": "markdown",
   "metadata": {
    "id": "YEIJxRvqPGcO"
   },
   "source": [
    "#2) ANN"
   ]
  },
  {
   "cell_type": "code",
   "execution_count": 65,
   "metadata": {
    "id": "DWuxSvyc8tYM"
   },
   "outputs": [],
   "source": [
    "# Setting up the model\n",
    "ann = Sequential()\n",
    "# this is hidden layer 1\n",
    "ann.add(Dense(6,activation='relu', input_shape=(X.shape[1],))) # input shape is = (features,)\n",
    "# this is hidden layer 2\n",
    "ann.add(Dense(6, activation='relu'))\n",
    "# this is the output node\n",
    "ann.add(Dense(1, activation='sigmoid')) "
   ]
  },
  {
   "cell_type": "code",
   "execution_count": 66,
   "metadata": {
    "colab": {
     "base_uri": "https://localhost:8080/"
    },
    "id": "5Kxseoo95SAa",
    "outputId": "ace559e9-f4e9-4635-9009-99d2b929faa5"
   },
   "outputs": [
    {
     "name": "stdout",
     "output_type": "stream",
     "text": [
      "Model: \"sequential\"\n",
      "_________________________________________________________________\n",
      " Layer (type)                Output Shape              Param #   \n",
      "=================================================================\n",
      " dense (Dense)               (None, 6)                 96        \n",
      "                                                                 \n",
      " dense_1 (Dense)             (None, 6)                 42        \n",
      "                                                                 \n",
      " dense_2 (Dense)             (None, 1)                 7         \n",
      "                                                                 \n",
      "=================================================================\n",
      "Total params: 145\n",
      "Trainable params: 145\n",
      "Non-trainable params: 0\n",
      "_________________________________________________________________\n"
     ]
    }
   ],
   "source": [
    "ann.summary()"
   ]
  },
  {
   "cell_type": "code",
   "execution_count": 67,
   "metadata": {
    "colab": {
     "base_uri": "https://localhost:8080/"
    },
    "id": "EozY2zJC5WMB",
    "outputId": "48c9ddf3-4399-4a6f-dd1a-20691c495468"
   },
   "outputs": [
    {
     "data": {
      "text/plain": [
       "[array([[-0.16145474,  0.00284117,  0.06090337, -0.16029772, -0.4555411 ,\n",
       "         -0.01142347],\n",
       "        [ 0.35624856, -0.5053363 ,  0.4287151 , -0.32741207,  0.3964749 ,\n",
       "         -0.27638403],\n",
       "        [-0.43384314,  0.24315327,  0.51364154,  0.3242672 , -0.11918974,\n",
       "         -0.42190787],\n",
       "        [-0.4111472 ,  0.49851328,  0.30974758, -0.299892  ,  0.2852921 ,\n",
       "          0.04053462],\n",
       "        [ 0.21385121, -0.25766283, -0.5063126 , -0.08326197,  0.12957561,\n",
       "         -0.48056242],\n",
       "        [-0.0383178 , -0.28886932,  0.18347472,  0.4256763 , -0.31438297,\n",
       "          0.5003106 ],\n",
       "        [-0.05969256,  0.18776578,  0.49640125,  0.10823846, -0.34375513,\n",
       "          0.3659112 ],\n",
       "        [-0.5198155 ,  0.32263142,  0.40704966, -0.00884372,  0.47323674,\n",
       "         -0.09795147],\n",
       "        [-0.17976749,  0.18948644,  0.27681643,  0.42541134, -0.42956156,\n",
       "         -0.5331335 ],\n",
       "        [-0.12442625, -0.19381154, -0.49562827, -0.3758703 ,  0.44287175,\n",
       "          0.04488581],\n",
       "        [ 0.2499057 ,  0.43287832,  0.41133356,  0.50909036,  0.07735753,\n",
       "         -0.04931217],\n",
       "        [-0.09375983,  0.05282402, -0.11883852,  0.3896649 ,  0.16231328,\n",
       "          0.3614484 ],\n",
       "        [-0.10400015, -0.03651884, -0.3610574 ,  0.29985505,  0.0843569 ,\n",
       "          0.40894657],\n",
       "        [-0.00961411, -0.11499491, -0.05019507, -0.14849114, -0.4639891 ,\n",
       "         -0.34815842],\n",
       "        [ 0.11801463,  0.51248497, -0.451214  ,  0.25622708, -0.15077844,\n",
       "         -0.3594208 ]], dtype=float32),\n",
       " array([0., 0., 0., 0., 0., 0.], dtype=float32)]"
      ]
     },
     "execution_count": 67,
     "metadata": {},
     "output_type": "execute_result"
    }
   ],
   "source": [
    "layer=ann.layers[0]\n",
    "W=layer.get_weights()\n",
    "W"
   ]
  },
  {
   "cell_type": "code",
   "execution_count": 68,
   "metadata": {
    "colab": {
     "base_uri": "https://localhost:8080/"
    },
    "id": "_NDCYaUE5Why",
    "outputId": "55aed71c-5993-4ea3-9782-89db475319cd"
   },
   "outputs": [
    {
     "data": {
      "text/plain": [
       "[array([[-0.07693231,  0.20576864,  0.6758805 ,  0.22390175,  0.21764815,\n",
       "         -0.6226312 ],\n",
       "        [ 0.30807167, -0.3008516 ,  0.50988513,  0.7051433 , -0.1687501 ,\n",
       "          0.56249017],\n",
       "        [-0.03050488, -0.28284597,  0.48338383, -0.1752277 ,  0.01545376,\n",
       "         -0.12042683],\n",
       "        [ 0.06717366, -0.54902035, -0.38190743,  0.4252748 ,  0.5749958 ,\n",
       "          0.11619633],\n",
       "        [ 0.3422014 ,  0.34184223, -0.6774061 , -0.5192686 ,  0.4187309 ,\n",
       "         -0.27823833],\n",
       "        [ 0.22319674, -0.37747306, -0.07027245, -0.07249361, -0.2687949 ,\n",
       "          0.38301367]], dtype=float32),\n",
       " array([0., 0., 0., 0., 0., 0.], dtype=float32)]"
      ]
     },
     "execution_count": 68,
     "metadata": {},
     "output_type": "execute_result"
    }
   ],
   "source": [
    "layer=ann.layers[1]\n",
    "W=layer.get_weights()\n",
    "W"
   ]
  },
  {
   "cell_type": "code",
   "execution_count": 69,
   "metadata": {
    "colab": {
     "base_uri": "https://localhost:8080/"
    },
    "id": "l4IEvXis5W27",
    "outputId": "9d45449b-bd45-4e5a-b336-6d69dd783e03"
   },
   "outputs": [
    {
     "data": {
      "text/plain": [
       "[array([[-0.17159939],\n",
       "        [-0.4610484 ],\n",
       "        [ 0.00832844],\n",
       "        [ 0.635885  ],\n",
       "        [ 0.6490892 ],\n",
       "        [ 0.61394465]], dtype=float32), array([0.], dtype=float32)]"
      ]
     },
     "execution_count": 69,
     "metadata": {},
     "output_type": "execute_result"
    }
   ],
   "source": [
    "layer=ann.layers[2]\n",
    "W=layer.get_weights()\n",
    "W"
   ]
  },
  {
   "cell_type": "code",
   "execution_count": 70,
   "metadata": {
    "id": "rulRCXl98tYO"
   },
   "outputs": [],
   "source": [
    "#  this compiles the model, specifies model evaluation metrics\n",
    "ann.compile(optimizer='Adam', loss='binary_crossentropy',\n",
    "              metrics=['accuracy'])"
   ]
  },
  {
   "cell_type": "code",
   "execution_count": 71,
   "metadata": {
    "colab": {
     "base_uri": "https://localhost:8080/"
    },
    "id": "ii0aaugb8tYQ",
    "outputId": "d1267546-c023-4bd9-bf3e-b97eec00b2f5"
   },
   "outputs": [
    {
     "name": "stdout",
     "output_type": "stream",
     "text": [
      "Epoch 1/100\n",
      "46/46 [==============================] - 2s 19ms/step - loss: 0.7604 - accuracy: 0.5373 - val_loss: 0.7396 - val_accuracy: 0.5363\n",
      "Epoch 2/100\n",
      "46/46 [==============================] - 0s 8ms/step - loss: 0.6897 - accuracy: 0.6216 - val_loss: 0.6800 - val_accuracy: 0.6351\n",
      "Epoch 3/100\n",
      "46/46 [==============================] - 0s 8ms/step - loss: 0.6358 - accuracy: 0.7144 - val_loss: 0.6282 - val_accuracy: 0.7238\n",
      "Epoch 4/100\n",
      "46/46 [==============================] - 0s 6ms/step - loss: 0.5825 - accuracy: 0.7770 - val_loss: 0.5786 - val_accuracy: 0.7581\n",
      "Epoch 5/100\n",
      "46/46 [==============================] - 0s 5ms/step - loss: 0.5294 - accuracy: 0.8179 - val_loss: 0.5299 - val_accuracy: 0.7903\n",
      "Epoch 6/100\n",
      "46/46 [==============================] - 0s 8ms/step - loss: 0.4800 - accuracy: 0.8385 - val_loss: 0.4903 - val_accuracy: 0.8004\n",
      "Epoch 7/100\n",
      "46/46 [==============================] - 0s 9ms/step - loss: 0.4342 - accuracy: 0.8481 - val_loss: 0.4552 - val_accuracy: 0.8306\n",
      "Epoch 8/100\n",
      "46/46 [==============================] - 0s 8ms/step - loss: 0.3958 - accuracy: 0.8562 - val_loss: 0.4284 - val_accuracy: 0.8306\n",
      "Epoch 9/100\n",
      "46/46 [==============================] - 0s 6ms/step - loss: 0.3652 - accuracy: 0.8602 - val_loss: 0.4086 - val_accuracy: 0.8306\n",
      "Epoch 10/100\n",
      "46/46 [==============================] - 0s 4ms/step - loss: 0.3427 - accuracy: 0.8613 - val_loss: 0.3966 - val_accuracy: 0.8427\n",
      "Epoch 11/100\n",
      "46/46 [==============================] - 0s 4ms/step - loss: 0.3273 - accuracy: 0.8633 - val_loss: 0.3883 - val_accuracy: 0.8468\n",
      "Epoch 12/100\n",
      "46/46 [==============================] - 0s 7ms/step - loss: 0.3157 - accuracy: 0.8668 - val_loss: 0.3800 - val_accuracy: 0.8488\n",
      "Epoch 13/100\n",
      "46/46 [==============================] - 0s 3ms/step - loss: 0.3077 - accuracy: 0.8628 - val_loss: 0.3751 - val_accuracy: 0.8569\n",
      "Epoch 14/100\n",
      "46/46 [==============================] - 0s 3ms/step - loss: 0.3014 - accuracy: 0.8673 - val_loss: 0.3725 - val_accuracy: 0.8569\n",
      "Epoch 15/100\n",
      "46/46 [==============================] - 0s 3ms/step - loss: 0.2966 - accuracy: 0.8693 - val_loss: 0.3712 - val_accuracy: 0.8569\n",
      "Epoch 16/100\n",
      "46/46 [==============================] - 0s 3ms/step - loss: 0.2932 - accuracy: 0.8703 - val_loss: 0.3690 - val_accuracy: 0.8589\n",
      "Epoch 17/100\n",
      "46/46 [==============================] - 0s 3ms/step - loss: 0.2908 - accuracy: 0.8713 - val_loss: 0.3667 - val_accuracy: 0.8589\n",
      "Epoch 18/100\n",
      "46/46 [==============================] - 0s 3ms/step - loss: 0.2878 - accuracy: 0.8718 - val_loss: 0.3675 - val_accuracy: 0.8589\n",
      "Epoch 19/100\n",
      "46/46 [==============================] - 0s 4ms/step - loss: 0.2856 - accuracy: 0.8729 - val_loss: 0.3689 - val_accuracy: 0.8589\n",
      "Epoch 20/100\n",
      "46/46 [==============================] - 0s 3ms/step - loss: 0.2840 - accuracy: 0.8729 - val_loss: 0.3686 - val_accuracy: 0.8548\n",
      "Epoch 21/100\n",
      "46/46 [==============================] - 0s 3ms/step - loss: 0.2824 - accuracy: 0.8729 - val_loss: 0.3684 - val_accuracy: 0.8569\n",
      "Epoch 22/100\n",
      "46/46 [==============================] - 0s 3ms/step - loss: 0.2810 - accuracy: 0.8718 - val_loss: 0.3677 - val_accuracy: 0.8548\n",
      "Epoch 23/100\n",
      "46/46 [==============================] - 0s 3ms/step - loss: 0.2799 - accuracy: 0.8729 - val_loss: 0.3671 - val_accuracy: 0.8528\n",
      "Epoch 24/100\n",
      "46/46 [==============================] - 0s 3ms/step - loss: 0.2787 - accuracy: 0.8734 - val_loss: 0.3654 - val_accuracy: 0.8569\n",
      "Epoch 25/100\n",
      "46/46 [==============================] - 0s 3ms/step - loss: 0.2772 - accuracy: 0.8718 - val_loss: 0.3679 - val_accuracy: 0.8569\n",
      "Epoch 26/100\n",
      "46/46 [==============================] - 0s 4ms/step - loss: 0.2760 - accuracy: 0.8729 - val_loss: 0.3688 - val_accuracy: 0.8589\n",
      "Epoch 27/100\n",
      "46/46 [==============================] - 0s 4ms/step - loss: 0.2753 - accuracy: 0.8764 - val_loss: 0.3687 - val_accuracy: 0.8589\n",
      "Epoch 28/100\n",
      "46/46 [==============================] - 0s 4ms/step - loss: 0.2739 - accuracy: 0.8774 - val_loss: 0.3700 - val_accuracy: 0.8589\n",
      "Epoch 29/100\n",
      "46/46 [==============================] - 0s 3ms/step - loss: 0.2729 - accuracy: 0.8759 - val_loss: 0.3701 - val_accuracy: 0.8589\n",
      "Epoch 30/100\n",
      "46/46 [==============================] - 0s 3ms/step - loss: 0.2719 - accuracy: 0.8774 - val_loss: 0.3696 - val_accuracy: 0.8589\n",
      "Epoch 31/100\n",
      "46/46 [==============================] - 0s 3ms/step - loss: 0.2712 - accuracy: 0.8789 - val_loss: 0.3689 - val_accuracy: 0.8589\n",
      "Epoch 32/100\n",
      "46/46 [==============================] - 0s 4ms/step - loss: 0.2703 - accuracy: 0.8774 - val_loss: 0.3697 - val_accuracy: 0.8569\n",
      "Epoch 33/100\n",
      "46/46 [==============================] - 0s 3ms/step - loss: 0.2691 - accuracy: 0.8799 - val_loss: 0.3709 - val_accuracy: 0.8548\n",
      "Epoch 34/100\n",
      "27/46 [================>.............] - ETA: 0s - loss: 0.2728 - accuracy: 0.8704Restoring model weights from the end of the best epoch: 24.\n",
      "46/46 [==============================] - 0s 3ms/step - loss: 0.2684 - accuracy: 0.8799 - val_loss: 0.3727 - val_accuracy: 0.8569\n",
      "Epoch 34: early stopping\n"
     ]
    }
   ],
   "source": [
    "es2 = EarlyStopping(monitor='val_loss', mode='min', \n",
    "                   patience=10, \n",
    "                   verbose=1,\n",
    "                   restore_best_weights=True)\n",
    "# fit model\n",
    "history2 = ann.fit(X_train, y_train, \n",
    "                    validation_data=(X_test, y_test),\n",
    "                    epochs=100, \n",
    "                    batch_size = 44,\n",
    "                    verbose=1, \n",
    "                    callbacks=[es2])"
   ]
  },
  {
   "cell_type": "code",
   "execution_count": 72,
   "metadata": {
    "colab": {
     "base_uri": "https://localhost:8080/"
    },
    "id": "ynTfHb_Z8tYS",
    "outputId": "598e8a7e-69be-4ef3-90ca-42d3f94444f9"
   },
   "outputs": [
    {
     "data": {
      "text/plain": [
       "dict_keys(['loss', 'accuracy', 'val_loss', 'val_accuracy'])"
      ]
     },
     "execution_count": 72,
     "metadata": {},
     "output_type": "execute_result"
    }
   ],
   "source": [
    "history_dict2 = history2.history\n",
    "history_dict2.keys() \n",
    "\n",
    "# out of all of these, let's plot the val_mean_absolute_error"
   ]
  },
  {
   "cell_type": "code",
   "execution_count": 73,
   "metadata": {
    "colab": {
     "base_uri": "https://localhost:8080/",
     "height": 312
    },
    "id": "0xmQ3osY8tYU",
    "outputId": "93cf618d-c015-443a-89c0-d84f2cfac557"
   },
   "outputs": [
    {
     "data": {
      "text/plain": [
       "<matplotlib.legend.Legend at 0x7fe052e40310>"
      ]
     },
     "execution_count": 73,
     "metadata": {},
     "output_type": "execute_result"
    },
    {
     "data": {
      "image/png": "[encoded data removed]",
      "text/plain": [
       "<Figure size 432x288 with 1 Axes>"
      ]
     },
     "metadata": {
      "needs_background": "light"
     },
     "output_type": "display_data"
    }
   ],
   "source": [
    "ac2 = history2.history['accuracy']\n",
    "val_ac2 = history2.history['val_accuracy']\n",
    "loss2 = history2.history['loss']\n",
    "val_loss2 = history2.history['val_loss']\n",
    "\n",
    "epochs2 = range(1, len(ac2) + 1)\n",
    "\n",
    "# \"bo\" is for \"blue dot\"\n",
    "plt.plot(epochs2, loss2, 'bo', label='Training Loss')\n",
    "# b is for \"solid blue line\"\n",
    "plt.plot(epochs2, val_loss2, 'b', label='Validation Loss')\n",
    "plt.title('Training and validation Loss')\n",
    "plt.xlabel('Epochs')\n",
    "plt.ylabel('Loss')\n",
    "plt.legend()"
   ]
  },
  {
   "cell_type": "code",
   "execution_count": 74,
   "metadata": {
    "colab": {
     "base_uri": "https://localhost:8080/",
     "height": 312
    },
    "id": "SngUySyJ8tYV",
    "outputId": "47a70074-407d-4c1c-e0fe-f5f91d863ddf"
   },
   "outputs": [
    {
     "data": {
      "text/plain": [
       "<matplotlib.legend.Legend at 0x7fe04e6cdd90>"
      ]
     },
     "execution_count": 74,
     "metadata": {},
     "output_type": "execute_result"
    },
    {
     "data": {
      "image/png": "[encoded data removed]",
      "text/plain": [
       "<Figure size 432x288 with 1 Axes>"
      ]
     },
     "metadata": {
      "needs_background": "light"
     },
     "output_type": "display_data"
    }
   ],
   "source": [
    "plt.plot(epochs2, ac2, 'bo', label='Training Accuracy')\n",
    "plt.plot(epochs2, val_ac2, 'b', label='Validation Accuracy')\n",
    "plt.title('Training and validation Accuracy')\n",
    "plt.xlabel('Epochs')\n",
    "plt.ylabel('Accuracy')\n",
    "plt.legend()"
   ]
  },
  {
   "cell_type": "code",
   "execution_count": 75,
   "metadata": {
    "colab": {
     "base_uri": "https://localhost:8080/"
    },
    "id": "_D-0KS6l8tYY",
    "outputId": "9bd948ba-8591-4a14-cbb0-e8be195a9a40"
   },
   "outputs": [
    {
     "data": {
      "text/plain": [
       "array([[196,  52],\n",
       "       [ 19, 229]])"
      ]
     },
     "execution_count": 75,
     "metadata": {},
     "output_type": "execute_result"
    }
   ],
   "source": [
    "# if we don't round to a whole number (0 or 1), the confusion matrix won't work!\n",
    "preds2 = np.round(ann.predict(X_test),0)\n",
    "\n",
    "# confusion matrix\n",
    "confusion_matrix(y_test, preds2)\n",
    "\n",
    "# TP is bottom right\n",
    "# TN is top left\n",
    "# FP is top right\n",
    "# FN is bottom left"
   ]
  },
  {
   "cell_type": "code",
   "execution_count": 76,
   "metadata": {
    "colab": {
     "base_uri": "https://localhost:8080/"
    },
    "id": "bQOWc-yU8tYZ",
    "outputId": "4a668953-977c-42be-a94f-bd79274710ee"
   },
   "outputs": [
    {
     "name": "stdout",
     "output_type": "stream",
     "text": [
      "accuracy = 0.8568548387096774\n",
      "              precision    recall  f1-score   support\n",
      "\n",
      "           0       0.91      0.79      0.85       248\n",
      "           1       0.81      0.92      0.87       248\n",
      "\n",
      "    accuracy                           0.86       496\n",
      "   macro avg       0.86      0.86      0.86       496\n",
      "weighted avg       0.86      0.86      0.86       496\n",
      "\n"
     ]
    }
   ],
   "source": [
    "ac3 = accuracy_score(y_test,preds2)\n",
    "print('accuracy =',ac3)\n",
    "print(classification_report(y_test, preds2))"
   ]
  },
  {
   "cell_type": "code",
   "execution_count": 77,
   "metadata": {
    "colab": {
     "base_uri": "https://localhost:8080/",
     "height": 295
    },
    "id": "c7pT_p0P8tYb",
    "outputId": "c7ecb2d5-14fc-4489-b727-9c0f01fe26ef"
   },
   "outputs": [
    {
     "data": {
      "image/png": "[encoded data removed]",
      "text/plain": [
       "<Figure size 432x288 with 1 Axes>"
      ]
     },
     "metadata": {
      "needs_background": "light"
     },
     "output_type": "display_data"
    }
   ],
   "source": [
    "cm = confusion_matrix(y_test, preds2)\n",
    "plt.clf()\n",
    "plt.imshow(cm, interpolation='nearest', cmap=plt.cm.Blues)\n",
    "classNames = ['False','True']\n",
    "plt.title('ANN')\n",
    "plt.ylabel('True label')\n",
    "plt.xlabel('Predicted label')\n",
    "tick_marks = np.arange(len(classNames))\n",
    "plt.xticks(tick_marks, classNames)\n",
    "plt.yticks(tick_marks, classNames)\n",
    "s = [['TN','FP'], ['FN', 'TP']]\n",
    "for i in range(2):\n",
    "    for j in range(2):\n",
    "        plt.text(j,i, str(s[i][j])+\" = \"+str(cm[i][j]))\n",
    "plt.show()"
   ]
  },
  {
   "cell_type": "code",
   "execution_count": 78,
   "metadata": {
    "colab": {
     "base_uri": "https://localhost:8080/",
     "height": 729
    },
    "id": "p4MGhDr4a623",
    "outputId": "ca98b0b2-28fc-4a4c-e27c-a0ab097367d2"
   },
   "outputs": [
    {
     "data": {
      "image/png": "[encoded data removed]",
      "text/plain": [
       "<Figure size 720x720 with 1 Axes>"
      ]
     },
     "metadata": {
      "needs_background": "light"
     },
     "output_type": "display_data"
    }
   ],
   "source": [
    "#Feature Importance for ANN\n",
    "\n",
    "from sklearn.inspection import permutation_importance\n",
    "\n",
    "results = permutation_importance(ann,X_train,y_train, scoring='neg_root_mean_squared_error')\n",
    "\n",
    "plt.figure(figsize=(10,10))\n",
    "\n",
    "#get importance\n",
    "importance_nn = results.importances_mean\n",
    "sorted_idx = np.argsort(importance_nn)\n",
    "pos = np.arange(sorted_idx.shape[0]) + .5\n",
    "plt.barh(pos, importance_nn[sorted_idx],align='center')\n",
    "\n",
    "plt.yticks(pos,X_train.columns[sorted_idx],fontsize=25)\n",
    "plt.xlabel('Permutation Feature Importance Scores', fontsize=25)\n",
    "#plt.xticks(fontsize=100)\n",
    "plt.title('Permutation Feature Importance for Neural Network', fontsize=30)\n",
    "\n",
    "plt.tight_layout()\n",
    "\n",
    "plt.show()"
   ]
  },
  {
   "cell_type": "markdown",
   "metadata": {
    "id": "9S1Ebo_YThjI"
   },
   "source": [
    "# 3) SVM"
   ]
  },
  {
   "cell_type": "code",
   "execution_count": 79,
   "metadata": {
    "colab": {
     "base_uri": "https://localhost:8080/"
    },
    "id": "0037bbbe",
    "outputId": "a414f53a-eedc-49d5-bf34-c170ff34e449"
   },
   "outputs": [
    {
     "name": "stdout",
     "output_type": "stream",
     "text": [
      "Fitting 5 folds for each of 9 candidates, totalling 45 fits\n"
     ]
    },
    {
     "data": {
      "text/plain": [
       "GridSearchCV(estimator=SVC(),\n",
       "             param_grid={'C': [1, 10, 100], 'gamma': [1, 0.1, 0.01],\n",
       "                         'kernel': ['rbf']},\n",
       "             verbose=1)"
      ]
     },
     "execution_count": 79,
     "metadata": {},
     "output_type": "execute_result"
    }
   ],
   "source": [
    "param_grid = {'C': [1, 10, 100],\n",
    "              'gamma': [1, 0.1, 0.01],\n",
    "              'kernel': ['rbf']}\n",
    " \n",
    "svc = GridSearchCV(svm.SVC(), param_grid, refit = True, verbose = 1)\n",
    "svc.fit(X_train,y_train)"
   ]
  },
  {
   "cell_type": "code",
   "execution_count": 80,
   "metadata": {
    "colab": {
     "base_uri": "https://localhost:8080/"
    },
    "id": "a9d7c65f",
    "outputId": "d554a980-4492-482c-ba56-cc7b02e6b61a"
   },
   "outputs": [
    {
     "data": {
      "text/plain": [
       "array([1, 0, 1, 0, 0, 1, 1, 0, 0, 0, 0, 1, 0, 1, 0, 1, 0, 0, 0, 1, 0, 1,\n",
       "       0, 1, 0, 1, 1, 0, 0, 1, 1, 1, 1, 1, 1, 0, 1, 0, 0, 1, 1, 0, 1, 0,\n",
       "       0, 0, 0, 0, 0, 1, 1, 1, 1, 0, 0, 1, 0, 1, 1, 0, 1, 0, 1, 0, 0, 1,\n",
       "       1, 0, 1, 1, 0, 0, 1, 1, 1, 1, 1, 1, 1, 0, 1, 1, 1, 1, 0, 0, 0, 1,\n",
       "       1, 1, 1, 1, 0, 1, 1, 1, 0, 0, 0, 0, 0, 1, 1, 1, 1, 1, 0, 1, 1, 0,\n",
       "       1, 0, 1, 0, 0, 0, 1, 1, 0, 1, 1, 1, 1, 0, 1, 0, 0, 0, 0, 1, 1, 1,\n",
       "       1, 0, 0, 1, 0, 1, 1, 0, 1, 1, 1, 1, 1, 1, 1, 0, 0, 1, 1, 1, 0, 0,\n",
       "       1, 1, 1, 0, 1, 0, 0, 1, 1, 1, 0, 1, 1, 0, 1, 1, 0, 1, 1, 0, 0, 0,\n",
       "       1, 1, 1, 0, 1, 1, 1, 1, 1, 1, 1, 1, 1, 1, 1, 1, 1, 1, 0, 0, 1, 1,\n",
       "       0, 1, 1, 1, 1, 1, 1, 0, 1, 0, 1, 1, 1, 1, 1, 0, 0, 1, 0, 0, 0, 0,\n",
       "       1, 0, 0, 0, 0, 0, 1, 0, 1, 1, 0, 1, 1, 1, 0, 1, 1, 1, 1, 1, 1, 1,\n",
       "       0, 0, 1, 1, 1, 1, 0, 0, 1, 0, 1, 0, 1, 0, 0, 1, 1, 1, 0, 1, 1, 0,\n",
       "       1, 0, 1, 0, 1, 0, 1, 1, 0, 0, 0, 1, 0, 0, 0, 0, 0, 1, 1, 1, 1, 0,\n",
       "       1, 1, 1, 1, 0, 0, 0, 1, 0, 0, 1, 1, 1, 1, 0, 1, 1, 0, 0, 0, 0, 0,\n",
       "       1, 1, 1, 1, 1, 0, 1, 0, 1, 0, 0, 0, 1, 1, 1, 0, 1, 1, 1, 1, 1, 1,\n",
       "       1, 1, 1, 1, 1, 1, 1, 0, 0, 1, 1, 1, 1, 0, 1, 1, 1, 1, 0, 1, 0, 1,\n",
       "       1, 0, 0, 0, 1, 1, 1, 0, 1, 0, 0, 1, 0, 0, 1, 0, 1, 1, 0, 1, 1, 0,\n",
       "       0, 1, 1, 0, 0, 0, 0, 0, 1, 1, 1, 1, 1, 0, 1, 0, 1, 1, 1, 0, 0, 1,\n",
       "       1, 0, 1, 0, 1, 1, 1, 1, 0, 0, 1, 0, 0, 1, 1, 1, 0, 1, 1, 0, 0, 0,\n",
       "       1, 1, 0, 1, 1, 1, 1, 1, 1, 1, 1, 0, 1, 1, 0, 0, 1, 1, 1, 0, 0, 1,\n",
       "       1, 1, 1, 1, 0, 0, 1, 1, 1, 0, 1, 1, 0, 0, 0, 0, 0, 0, 1, 1, 1, 0,\n",
       "       1, 0, 0, 0, 1, 0, 0, 1, 0, 0, 1, 0, 1, 1, 1, 1, 0, 0, 1, 0, 0, 0,\n",
       "       0, 0, 1, 1, 1, 1, 1, 0, 0, 1, 0, 1])"
      ]
     },
     "execution_count": 80,
     "metadata": {},
     "output_type": "execute_result"
    }
   ],
   "source": [
    "y_pred = svc.predict(X_test)\n",
    "y_pred"
   ]
  },
  {
   "cell_type": "code",
   "execution_count": 81,
   "metadata": {
    "colab": {
     "base_uri": "https://localhost:8080/"
    },
    "id": "29600a80",
    "outputId": "0c8f13e8-5b69-4228-8d5c-fb7d94d379b1"
   },
   "outputs": [
    {
     "name": "stdout",
     "output_type": "stream",
     "text": [
      "[[191  57]\n",
      " [ 14 234]]\n",
      "accuracy = 0.8568548387096774\n",
      "              precision    recall  f1-score   support\n",
      "\n",
      "           0       0.93      0.77      0.84       248\n",
      "           1       0.80      0.94      0.87       248\n",
      "\n",
      "    accuracy                           0.86       496\n",
      "   macro avg       0.87      0.86      0.86       496\n",
      "weighted avg       0.87      0.86      0.86       496\n",
      "\n"
     ]
    }
   ],
   "source": [
    "cm = confusion_matrix(y_test, y_pred)\n",
    "ac4 = accuracy_score(y_test,y_pred)\n",
    "cr=classification_report(y_test,y_pred)\n",
    "print(cm)\n",
    "print('accuracy =',ac4)\n",
    "print(cr)"
   ]
  },
  {
   "cell_type": "code",
   "execution_count": 82,
   "metadata": {
    "colab": {
     "base_uri": "https://localhost:8080/",
     "height": 337
    },
    "id": "eed27494",
    "outputId": "d9617e32-6232-4365-d261-f47d6d02ca36"
   },
   "outputs": [
    {
     "data": {
      "image/png": "[encoded data removed]",
      "text/plain": [
       "<Figure size 432x288 with 2 Axes>"
      ]
     },
     "metadata": {
      "needs_background": "light"
     },
     "output_type": "display_data"
    }
   ],
   "source": [
    "ax = sns.heatmap(cm, annot=True, cmap='Blues')\n",
    "\n",
    "ax.set_title(' Confusion Matrix with labels\\n\\n');\n",
    "ax.set_xlabel('\\nPredicted Values')\n",
    "ax.set_ylabel('Actual Values ');\n",
    "\n",
    "## Ticket labels - List must be in alphabetical order\n",
    "ax.xaxis.set_ticklabels(['False','True'])\n",
    "ax.yaxis.set_ticklabels(['False','True'])\n",
    "\n",
    "## Display the visualization of the Confusion Matrix.\n",
    "plt.show()"
   ]
  },
  {
   "cell_type": "markdown",
   "metadata": {
    "id": "0V5FYLJQUBL3"
   },
   "source": [
    "# 4) KNN"
   ]
  },
  {
   "cell_type": "code",
   "execution_count": 83,
   "metadata": {
    "colab": {
     "base_uri": "https://localhost:8080/"
    },
    "id": "3103529c",
    "outputId": "f8137922-9cf7-4a2b-89d3-db73325490d7"
   },
   "outputs": [
    {
     "name": "stdout",
     "output_type": "stream",
     "text": [
      "Fitting 5 folds for each of 5 candidates, totalling 25 fits\n"
     ]
    },
    {
     "data": {
      "text/plain": [
       "GridSearchCV(estimator=KNeighborsClassifier(),\n",
       "             param_grid={'n_neighbors': [2, 4, 6, 8, 10]}, verbose=1)"
      ]
     },
     "execution_count": 83,
     "metadata": {},
     "output_type": "execute_result"
    }
   ],
   "source": [
    "param_grid = {'n_neighbors': [2, 4, 6, 8, 10]}\n",
    " \n",
    "knn = GridSearchCV(KNeighborsClassifier(), param_grid, refit = True, verbose = 1)\n",
    "knn.fit(X_train,y_train)"
   ]
  },
  {
   "cell_type": "code",
   "execution_count": 84,
   "metadata": {
    "colab": {
     "base_uri": "https://localhost:8080/"
    },
    "id": "39b8e728",
    "outputId": "a4d94c6d-0da8-48cb-a750-a91a051c4fd3"
   },
   "outputs": [
    {
     "data": {
      "text/plain": [
       "array([1, 0, 1, 0, 0, 0, 1, 0, 0, 0, 0, 1, 0, 0, 0, 1, 0, 0, 0, 1, 0, 1,\n",
       "       0, 1, 1, 1, 1, 0, 0, 1, 1, 0, 1, 1, 1, 0, 1, 0, 0, 0, 1, 0, 1, 0,\n",
       "       0, 0, 0, 0, 0, 1, 1, 0, 1, 0, 0, 1, 0, 1, 1, 0, 1, 0, 1, 0, 0, 1,\n",
       "       1, 0, 1, 1, 0, 0, 1, 1, 1, 1, 1, 1, 1, 0, 1, 1, 1, 1, 0, 0, 0, 1,\n",
       "       1, 1, 1, 1, 0, 1, 1, 1, 0, 0, 0, 0, 0, 1, 1, 1, 1, 1, 0, 1, 1, 0,\n",
       "       0, 1, 1, 0, 0, 0, 1, 1, 0, 1, 1, 1, 1, 0, 1, 0, 0, 0, 0, 1, 1, 0,\n",
       "       1, 0, 0, 1, 0, 1, 1, 0, 1, 1, 1, 1, 1, 1, 0, 0, 0, 1, 1, 1, 0, 0,\n",
       "       1, 1, 1, 0, 0, 0, 0, 1, 1, 1, 0, 1, 1, 0, 1, 1, 0, 1, 1, 1, 1, 0,\n",
       "       1, 1, 1, 0, 1, 1, 1, 1, 1, 0, 1, 1, 1, 1, 0, 1, 0, 0, 0, 0, 1, 1,\n",
       "       0, 1, 1, 1, 1, 1, 1, 0, 1, 0, 1, 0, 0, 1, 1, 0, 0, 1, 0, 0, 0, 0,\n",
       "       1, 0, 0, 0, 0, 0, 1, 0, 1, 1, 0, 1, 1, 1, 0, 1, 1, 1, 1, 1, 1, 1,\n",
       "       0, 0, 1, 1, 1, 1, 0, 0, 1, 0, 1, 0, 1, 0, 0, 1, 1, 1, 0, 1, 1, 0,\n",
       "       1, 0, 1, 0, 1, 0, 0, 1, 0, 0, 0, 1, 0, 0, 0, 0, 0, 1, 1, 1, 1, 0,\n",
       "       1, 0, 0, 1, 1, 0, 0, 1, 0, 0, 1, 1, 1, 1, 0, 1, 1, 0, 0, 0, 1, 0,\n",
       "       1, 1, 1, 1, 0, 0, 1, 0, 1, 1, 0, 1, 1, 1, 0, 0, 1, 1, 1, 1, 1, 0,\n",
       "       1, 1, 1, 1, 1, 1, 1, 0, 0, 1, 1, 1, 1, 0, 1, 1, 1, 1, 1, 1, 0, 1,\n",
       "       1, 0, 0, 0, 1, 1, 0, 0, 1, 0, 0, 1, 0, 0, 1, 0, 1, 1, 0, 1, 1, 0,\n",
       "       0, 1, 1, 1, 0, 0, 0, 0, 1, 1, 1, 1, 1, 0, 1, 0, 1, 1, 1, 0, 0, 1,\n",
       "       1, 0, 1, 0, 1, 1, 1, 1, 0, 0, 1, 0, 0, 0, 1, 0, 0, 1, 1, 0, 0, 0,\n",
       "       1, 1, 1, 0, 1, 1, 1, 1, 1, 1, 1, 0, 1, 1, 0, 0, 1, 1, 1, 0, 0, 1,\n",
       "       1, 1, 1, 0, 0, 0, 0, 1, 1, 0, 1, 1, 0, 0, 0, 1, 0, 0, 1, 1, 1, 0,\n",
       "       1, 0, 0, 0, 1, 0, 0, 1, 0, 0, 1, 1, 1, 1, 1, 1, 0, 0, 1, 0, 0, 0,\n",
       "       0, 0, 1, 1, 0, 0, 1, 0, 0, 1, 1, 1])"
      ]
     },
     "execution_count": 84,
     "metadata": {},
     "output_type": "execute_result"
    }
   ],
   "source": [
    "y_pred = knn.predict(X_test)\n",
    "y_pred"
   ]
  },
  {
   "cell_type": "code",
   "execution_count": 85,
   "metadata": {
    "colab": {
     "base_uri": "https://localhost:8080/"
    },
    "id": "f03e9d86",
    "outputId": "81e58755-6d1a-4303-e24b-65f018b54241"
   },
   "outputs": [
    {
     "name": "stdout",
     "output_type": "stream",
     "text": [
      "[[199  49]\n",
      " [ 21 227]]\n",
      "accuracy = 0.8588709677419355\n",
      "              precision    recall  f1-score   support\n",
      "\n",
      "           0       0.90      0.80      0.85       248\n",
      "           1       0.82      0.92      0.87       248\n",
      "\n",
      "    accuracy                           0.86       496\n",
      "   macro avg       0.86      0.86      0.86       496\n",
      "weighted avg       0.86      0.86      0.86       496\n",
      "\n"
     ]
    }
   ],
   "source": [
    "cm = confusion_matrix(y_test, y_pred)\n",
    "ac5 = accuracy_score(y_test,y_pred)\n",
    "cr=classification_report(y_test,y_pred)\n",
    "print(cm)\n",
    "print('accuracy =',ac5)\n",
    "print(cr)"
   ]
  },
  {
   "cell_type": "code",
   "execution_count": 86,
   "metadata": {
    "colab": {
     "base_uri": "https://localhost:8080/",
     "height": 337
    },
    "id": "f4717db9",
    "outputId": "79bc7b36-d7fa-407c-fc5c-86d24f831dba"
   },
   "outputs": [
    {
     "data": {
      "image/png": "[encoded data removed]",
      "text/plain": [
       "<Figure size 432x288 with 2 Axes>"
      ]
     },
     "metadata": {
      "needs_background": "light"
     },
     "output_type": "display_data"
    }
   ],
   "source": [
    "ax = sns.heatmap(cm, annot=True, cmap='Blues')\n",
    "\n",
    "ax.set_title(' Confusion Matrix with labels\\n\\n');\n",
    "ax.set_xlabel('\\nPredicted Values')\n",
    "ax.set_ylabel('Actual Values ');\n",
    "\n",
    "## Ticket labels - List must be in alphabetical order\n",
    "ax.xaxis.set_ticklabels(['False','True'])\n",
    "ax.yaxis.set_ticklabels(['False','True'])\n",
    "\n",
    "## Display the visualization of the Confusion Matrix.\n",
    "plt.show()"
   ]
  },
  {
   "cell_type": "markdown",
   "metadata": {
    "id": "CGsaqoLrT1dC"
   },
   "source": [
    "# 5) Decision Tree Classifier:"
   ]
  },
  {
   "cell_type": "code",
   "execution_count": 87,
   "metadata": {
    "colab": {
     "base_uri": "https://localhost:8080/"
    },
    "id": "8223e427",
    "outputId": "355dc8fa-3e83-4508-c947-8df61296840a"
   },
   "outputs": [
    {
     "name": "stdout",
     "output_type": "stream",
     "text": [
      "Fitting 5 folds for each of 12 candidates, totalling 60 fits\n"
     ]
    },
    {
     "data": {
      "text/plain": [
       "GridSearchCV(estimator=DecisionTreeClassifier(),\n",
       "             param_grid={'criterion': ['entropy', 'gini'],\n",
       "                         'max_depth': [2, 4, 6, 8, 10, 12]},\n",
       "             verbose=1)"
      ]
     },
     "execution_count": 87,
     "metadata": {},
     "output_type": "execute_result"
    }
   ],
   "source": [
    "param_grid = {'criterion':['entropy','gini'],\n",
    "              'max_depth':[2,4,6,8,10,12]}\n",
    " \n",
    "dt = GridSearchCV(DecisionTreeClassifier(), param_grid, refit = True, verbose = 1)\n",
    "dt.fit(X_train,y_train)"
   ]
  },
  {
   "cell_type": "code",
   "execution_count": 88,
   "metadata": {
    "colab": {
     "base_uri": "https://localhost:8080/"
    },
    "id": "bf651129",
    "outputId": "0d80653b-1c0b-46f9-d1dc-8c0918197862"
   },
   "outputs": [
    {
     "data": {
      "text/plain": [
       "array([1, 0, 1, 0, 0, 0, 1, 0, 0, 0, 0, 1, 0, 1, 0, 1, 0, 0, 0, 0, 0, 1,\n",
       "       0, 1, 0, 1, 1, 0, 0, 1, 1, 1, 1, 0, 1, 0, 1, 0, 0, 0, 1, 0, 1, 0,\n",
       "       0, 0, 0, 0, 0, 1, 1, 0, 1, 1, 0, 1, 0, 0, 1, 0, 1, 0, 1, 0, 0, 1,\n",
       "       1, 0, 1, 1, 0, 0, 1, 0, 1, 1, 1, 1, 1, 0, 1, 1, 1, 0, 0, 0, 0, 1,\n",
       "       1, 1, 1, 1, 0, 1, 1, 1, 0, 0, 0, 0, 0, 1, 1, 1, 1, 1, 0, 1, 0, 0,\n",
       "       1, 1, 1, 0, 0, 0, 1, 1, 0, 1, 1, 1, 1, 0, 1, 0, 0, 0, 0, 1, 1, 0,\n",
       "       1, 0, 0, 1, 0, 1, 1, 0, 1, 1, 1, 1, 1, 1, 0, 0, 0, 1, 1, 1, 0, 0,\n",
       "       1, 1, 1, 0, 1, 0, 0, 1, 1, 1, 0, 1, 1, 0, 0, 1, 0, 1, 1, 1, 0, 0,\n",
       "       1, 1, 1, 0, 1, 1, 1, 1, 1, 1, 1, 1, 1, 1, 1, 1, 1, 1, 0, 0, 1, 1,\n",
       "       0, 1, 1, 1, 1, 1, 1, 0, 1, 0, 1, 1, 0, 0, 1, 0, 0, 1, 0, 0, 0, 0,\n",
       "       1, 0, 1, 0, 0, 0, 1, 0, 1, 1, 0, 1, 0, 1, 0, 1, 1, 1, 1, 1, 1, 1,\n",
       "       0, 0, 1, 0, 1, 1, 1, 0, 1, 0, 1, 0, 1, 0, 0, 1, 1, 0, 0, 1, 1, 0,\n",
       "       0, 0, 0, 0, 1, 0, 1, 1, 0, 0, 0, 1, 1, 0, 0, 0, 0, 1, 1, 1, 1, 1,\n",
       "       1, 1, 1, 1, 0, 0, 0, 1, 0, 0, 1, 1, 1, 1, 0, 1, 1, 0, 0, 0, 0, 0,\n",
       "       1, 1, 1, 1, 0, 0, 1, 0, 1, 0, 0, 1, 1, 1, 1, 0, 1, 1, 1, 1, 1, 0,\n",
       "       1, 1, 1, 1, 1, 1, 1, 0, 0, 0, 1, 1, 1, 0, 1, 1, 1, 1, 0, 1, 0, 1,\n",
       "       1, 0, 0, 0, 1, 1, 0, 0, 1, 0, 0, 1, 0, 0, 1, 0, 1, 0, 0, 1, 1, 0,\n",
       "       0, 1, 1, 1, 0, 0, 0, 0, 1, 1, 1, 1, 1, 0, 1, 0, 1, 0, 1, 0, 0, 1,\n",
       "       1, 0, 1, 0, 1, 1, 1, 1, 0, 0, 1, 0, 0, 1, 1, 0, 0, 1, 1, 0, 0, 0,\n",
       "       1, 1, 0, 0, 1, 1, 1, 1, 1, 1, 1, 0, 1, 1, 0, 0, 1, 1, 1, 0, 0, 1,\n",
       "       1, 1, 1, 0, 0, 0, 1, 1, 1, 0, 1, 1, 0, 0, 0, 1, 0, 0, 1, 1, 1, 0,\n",
       "       1, 0, 0, 0, 1, 0, 1, 1, 0, 0, 1, 0, 1, 0, 0, 1, 0, 0, 1, 0, 0, 1,\n",
       "       0, 0, 1, 1, 0, 1, 1, 0, 0, 1, 1, 1])"
      ]
     },
     "execution_count": 88,
     "metadata": {},
     "output_type": "execute_result"
    }
   ],
   "source": [
    "y_pred = dt.predict(X_test)\n",
    "y_pred"
   ]
  },
  {
   "cell_type": "code",
   "execution_count": 89,
   "metadata": {
    "colab": {
     "base_uri": "https://localhost:8080/"
    },
    "id": "c2422ae9",
    "outputId": "7ded0cae-fd1e-4a3d-baac-895f052258f0"
   },
   "outputs": [
    {
     "name": "stdout",
     "output_type": "stream",
     "text": [
      "[[212  36]\n",
      " [ 11 237]]\n",
      "accuracy = 0.905241935483871\n",
      "              precision    recall  f1-score   support\n",
      "\n",
      "           0       0.95      0.85      0.90       248\n",
      "           1       0.87      0.96      0.91       248\n",
      "\n",
      "    accuracy                           0.91       496\n",
      "   macro avg       0.91      0.91      0.91       496\n",
      "weighted avg       0.91      0.91      0.91       496\n",
      "\n"
     ]
    }
   ],
   "source": [
    "cm = confusion_matrix(y_test, y_pred)\n",
    "ac6 = accuracy_score(y_test,y_pred)\n",
    "cr=classification_report(y_test,y_pred)\n",
    "print(cm)\n",
    "print('accuracy =',ac6)\n",
    "print(cr)"
   ]
  },
  {
   "cell_type": "code",
   "execution_count": 90,
   "metadata": {
    "colab": {
     "base_uri": "https://localhost:8080/",
     "height": 337
    },
    "id": "db3128b5",
    "outputId": "4aec5e01-c11e-42e9-c494-290a6731de70"
   },
   "outputs": [
    {
     "data": {
      "image/png": "[encoded data removed]",
      "text/plain": [
       "<Figure size 432x288 with 2 Axes>"
      ]
     },
     "metadata": {
      "needs_background": "light"
     },
     "output_type": "display_data"
    }
   ],
   "source": [
    "ax = sns.heatmap(cm, annot=True, cmap='Blues')\n",
    "\n",
    "ax.set_title(' Confusion Matrix with labels\\n\\n');\n",
    "ax.set_xlabel('\\nPredicted Values')\n",
    "ax.set_ylabel('Actual Values ');\n",
    "\n",
    "## Ticket labels - List must be in alphabetical order\n",
    "ax.xaxis.set_ticklabels(['False','True'])\n",
    "ax.yaxis.set_ticklabels(['False','True'])\n",
    "\n",
    "## Display the visualization of the Confusion Matrix.\n",
    "plt.show()"
   ]
  },
  {
   "cell_type": "code",
   "execution_count": 91,
   "metadata": {
    "id": "fWAWo8W_cdGB"
   },
   "outputs": [],
   "source": [
    "from io import StringIO\n",
    "import pydotplus\n",
    "import matplotlib.image as mpimg\n",
    "from sklearn import tree\n",
    "from IPython.display import Image\n",
    "import os"
   ]
  },
  {
   "cell_type": "code",
   "execution_count": 96,
   "metadata": {
    "colab": {
     "base_uri": "https://localhost:8080/",
     "height": 368
    },
    "id": "jJpIni7och9K",
    "outputId": "3d517bd4-aca3-48a0-ad20-19bad02545dd"
   },
   "outputs": [
    {
     "data": {
      "image/png": "[encoded data removed]",
      "text/plain": [
       "<IPython.core.display.Image object>"
      ]
     },
     "execution_count": 96,
     "metadata": {},
     "output_type": "execute_result"
    }
   ],
   "source": [
    "tree.export_graphviz(dt.best_estimator_,out_file='tree.dot') \n",
    "dot_data = StringIO() \n",
    "tree.export_graphviz(dt.best_estimator_, out_file=dot_data) \n",
    "graph = pydotplus.graph_from_dot_data(dot_data.getvalue()) \n",
    "a=graph.write_png(\"tree.png\") \n",
    "Image(filename=os.getcwd()+'/tree.png')"
   ]
  },
  {
   "cell_type": "code",
   "execution_count": 94,
   "metadata": {
    "colab": {
     "base_uri": "https://localhost:8080/"
    },
    "id": "gCkzPQMdRCjr",
    "outputId": "47466340-3cb1-48e3-ddee-fa896e140aa3"
   },
   "outputs": [
    {
     "name": "stdout",
     "output_type": "stream",
     "text": [
      "accuracy for Logistic regression = 83.66935 %\n",
      "accuracy for ANN = 85.68548 %\n",
      "accuracy for SVM = 85.68548 %\n",
      "accuracy for KNN = 85.8871 %\n",
      "accuracy for Decision tree = 90.52419 %\n"
     ]
    }
   ],
   "source": [
    "print('accuracy for Logistic regression =', round(ac1*100,5) , '%')\n",
    "print('accuracy for ANN =', round(ac3*100,5) , '%')\n",
    "print('accuracy for SVM =', round(ac4*100,5) , '%')\n",
    "print('accuracy for KNN =', round(ac5*100,5) , '%')\n",
    "print('accuracy for Decision tree =', round(ac6*100,5) , '%')"
   ]
  },
  {
   "cell_type": "markdown",
   "metadata": {
    "id": "YI6GoAn-8tYe"
   },
   "source": [
    "# Results\n",
    "\n",
    "* We implemented a Logistic Regression, ANN, SVM, KNN and Decision Tree Classifier for classification . \n",
    "\n",
    "* All model are giving nearly same accuracy of almost 90% so we can’t choose one over another just based on accuracy alone but with help of any of these model we can predict success or failure of a movie.\n",
    " \n",
    "* Predicting movie revenue can significantly impact the movie industries and is the prime focus area for movie companies to remain profitable. Based on predictions a movie house can change its release strategy to either cut losses or increase movies chance of success.\n",
    "\n",
    "* In real world this can mean a loss or gain of millions of dollars and hence, researchers worldwide had undertaken significant research to understand which factors can affect the increase in movie revenue. Factors such as budget, popularity, vote count, and movie genre can increase movie revenue."
   ]
  }
 ],
 "metadata": {
  "colab": {
   "collapsed_sections": [],
   "name": "AML_Project.ipynb",
   "provenance": []
  },
  "kernelspec": {
   "display_name": "Python 3 (ipykernel)",
   "language": "python",
   "name": "python3"
  },
  "language_info": {
   "codemirror_mode": {
    "name": "ipython",
    "version": 3
   },
   "file_extension": ".py",
   "mimetype": "text/x-python",
   "name": "python",
   "nbconvert_exporter": "python",
   "pygments_lexer": "ipython3",
   "version": "3.9.7"
  }
 },
 "nbformat": 4,
 "nbformat_minor": 1
}
